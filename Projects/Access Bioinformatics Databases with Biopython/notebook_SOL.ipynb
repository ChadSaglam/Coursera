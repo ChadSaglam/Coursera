{
 "cells": [
  {
   "cell_type": "markdown",
   "metadata": {},
   "source": [
    "# ACCESS BIOINFORMATICS DATABASES WITH BIO-PYTHON"
   ]
  },
  {
   "cell_type": "markdown",
   "metadata": {},
   "source": [
    "1. [NCBI](#1.-NCBI)<br>\n",
    "    1.1. [Nucleotide BLAST](#1.1.-Nucleotide-BLAST)<br>\n",
    "    1.2. [Protein BLAST](#1.2.-Protein-BLAST)\n",
    "    \n",
    "2. [ENTREZ](#2.-ENTREZ)<br>\n",
    "    2.1. [PUBMED](#2.1.-PUBMED)<br>\n",
    "    2.2. [Nucleotide](#2.2.-Nucleotide)\n",
    "    \n",
    "3. [PDB](#3.-PDB)\n",
    "\n",
    "4. [EXPASY](#4.-EXPASY)<br>\n",
    "    4.1. [PROSITE](#4.1.-PROSITE)<br>\n",
    "    4.2. [ScanProsite](#4.2.-ScanProsite)\n",
    "    \n",
    "5. [KEGG](#5.-KEGG)"
   ]
  },
  {
   "cell_type": "markdown",
   "metadata": {},
   "source": [
    "# 1. NCBI"
   ]
  },
  {
   "cell_type": "markdown",
   "metadata": {},
   "source": [
    "### Import Modules"
   ]
  },
  {
   "cell_type": "code",
   "execution_count": 2,
   "metadata": {},
   "outputs": [],
   "source": [
    "from Bio.Blast import NCBIWWW\n",
    "from Bio import SeqIO, SearchIO"
   ]
  },
  {
   "cell_type": "code",
   "execution_count": 5,
   "metadata": {},
   "outputs": [],
   "source": [
    "#help(NCBIWWW)"
   ]
  },
  {
   "cell_type": "markdown",
   "metadata": {},
   "source": [
    "## 1.1. Nucleotide BLAST"
   ]
  },
  {
   "cell_type": "code",
   "execution_count": 4,
   "metadata": {},
   "outputs": [
    {
     "name": "stdout",
     "output_type": "stream",
     "text": [
      "notebook.ipynb\tnuc_seq.fasta  prot_seq.fasta\r\n"
     ]
    }
   ],
   "source": [
    "!ls"
   ]
  },
  {
   "cell_type": "code",
   "execution_count": 7,
   "metadata": {},
   "outputs": [
    {
     "data": {
      "text/plain": [
       "774"
      ]
     },
     "execution_count": 7,
     "metadata": {},
     "output_type": "execute_result"
    }
   ],
   "source": [
    "nuc_record = SeqIO.read('nuc_seq.fasta', format = 'fasta')\n",
    "len(nuc_record)"
   ]
  },
  {
   "cell_type": "code",
   "execution_count": 8,
   "metadata": {},
   "outputs": [
    {
     "data": {
      "text/plain": [
       "'MT598137.1 Severe acute respiratory syndrome coronavirus 2 isolate SARS-CoV-2/human/IRN/PN-2142-S/2020 surface glycoprotein (S) gene, partial cds'"
      ]
     },
     "execution_count": 8,
     "metadata": {},
     "output_type": "execute_result"
    }
   ],
   "source": [
    "nuc_record.description"
   ]
  },
  {
   "cell_type": "code",
   "execution_count": 9,
   "metadata": {},
   "outputs": [
    {
     "data": {
      "text/plain": [
       "Seq('ATCGCTCCAGGGCAAACTGGAAAGATTGCTGATTATAATTATAAATTACCAGAT...GGT')"
      ]
     },
     "execution_count": 9,
     "metadata": {},
     "output_type": "execute_result"
    }
   ],
   "source": [
    "nuc_record.seq"
   ]
  },
  {
   "cell_type": "code",
   "execution_count": 10,
   "metadata": {},
   "outputs": [],
   "source": [
    "result_handle = NCBIWWW.qblast('blastn', 'nt', nuc_record.seq)\n",
    "blast_result = SearchIO.read(result_handle, 'blast-xml')"
   ]
  },
  {
   "cell_type": "code",
   "execution_count": 11,
   "metadata": {},
   "outputs": [
    {
     "name": "stdout",
     "output_type": "stream",
     "text": [
      "Program: blastn (2.16.1+)\n",
      "  Query: No (774)\n",
      "         definition line\n",
      " Target: core_nt\n",
      "   Hits: ----  -----  ----------------------------------------------------------\n",
      "            #  # HSP  ID + description\n",
      "         ----  -----  ----------------------------------------------------------\n",
      "            0      1  gi|2522133207|emb|OX682734.1|  Severe acute respiratory...\n",
      "            1      1  gi|2555084375|emb|OY596573.1|  Severe acute respiratory...\n"
     ]
    }
   ],
   "source": [
    "print(blast_result[0:2])"
   ]
  },
  {
   "cell_type": "code",
   "execution_count": 12,
   "metadata": {},
   "outputs": [
    {
     "name": "stdout",
     "output_type": "stream",
     "text": [
      "Sequence ID: gi|2522133207|emb|OX682734.1|\n",
      "Sequence Description: Severe acute respiratory syndrome coronavirus 2 genome assembly, complete genome: monopartite\n",
      "E-value: 0.0\n"
     ]
    }
   ],
   "source": [
    "Seq = blast_result[0]\n",
    "print(f\"Sequence ID: {Seq.id}\")\n",
    "print(f\"Sequence Description: {Seq.description}\")\n",
    "\n",
    "details = Seq[0]\n",
    "print(f\"E-value: {details.evalue}\")"
   ]
  },
  {
   "cell_type": "code",
   "execution_count": 13,
   "metadata": {},
   "outputs": [
    {
     "name": "stdout",
     "output_type": "stream",
     "text": [
      "alignment:\n",
      "Alignment with 2 rows and 774 columns\n",
      "ATCGCTCCAGGGCAAACTGGAAAGATTGCTGATTATAATTATAA...GGT No\n",
      "ATCGCTCCAGGGCAAACTGGAAAGATTGCTGATTATAATTATAA...GGT gi|2522133207|emb|OX682734.1|\n"
     ]
    }
   ],
   "source": [
    "print(f\"alignment:\\n{details.aln}\")"
   ]
  },
  {
   "cell_type": "markdown",
   "metadata": {},
   "source": [
    "## 1.2. Protein BLAST"
   ]
  },
  {
   "cell_type": "code",
   "execution_count": 14,
   "metadata": {},
   "outputs": [
    {
     "data": {
      "text/plain": [
       "258"
      ]
     },
     "execution_count": 14,
     "metadata": {},
     "output_type": "execute_result"
    }
   ],
   "source": [
    "prot_record = SeqIO.read(\"prot_seq.fasta\", format=\"fasta\")\n",
    "len(prot_record)"
   ]
  },
  {
   "cell_type": "code",
   "execution_count": 16,
   "metadata": {},
   "outputs": [],
   "source": [
    "result_handle = NCBIWWW.qblast(\"blastp\", \"pdb\", prot_record.seq)\n",
    "blast_result = SearchIO.read(result_handle, \"blast-xml\")"
   ]
  },
  {
   "cell_type": "code",
   "execution_count": 17,
   "metadata": {},
   "outputs": [
    {
     "name": "stdout",
     "output_type": "stream",
     "text": [
      "Program: blastp (2.16.1+)\n",
      "  Query: unnamed (258)\n",
      "         protein product\n",
      " Target: pdb\n",
      "   Hits: ----  -----  ----------------------------------------------------------\n",
      "            #  # HSP  ID + description\n",
      "         ----  -----  ----------------------------------------------------------\n",
      "            0      1  pdb|8ELJ|A  Chain A, Spike glycoprotein [Severe acute r...\n",
      "            1      1  pdb|7CAB|A  Chain A, Spike glycoprotein [Severe acute r...\n"
     ]
    }
   ],
   "source": [
    "print(blast_result[0:2])"
   ]
  },
  {
   "cell_type": "code",
   "execution_count": 18,
   "metadata": {},
   "outputs": [
    {
     "name": "stdout",
     "output_type": "stream",
     "text": [
      "Sequence ID: pdb|8ELJ|A\n",
      "Sequence Description: Chain A, Spike glycoprotein [Severe acute respiratory syndrome coronavirus 2]\n",
      "E-value: 0.0\n"
     ]
    }
   ],
   "source": [
    "Seq = blast_result [0]\n",
    "print(f\"Sequence ID: {Seq.id}\")\n",
    "print(f\"Sequence Description: {Seq.description}\")\n",
    "\n",
    "details = Seq[0]\n",
    "print(f\"E-value: {details.evalue}\")"
   ]
  },
  {
   "cell_type": "code",
   "execution_count": 19,
   "metadata": {},
   "outputs": [
    {
     "name": "stdout",
     "output_type": "stream",
     "text": [
      "alignment:\n",
      " Alignment with 2 rows and 258 columns\n",
      "IAPGQTGKIADYNYKLPDDFTGCVIAWNSNNLDSKVGGNYNYLY...PIG unnamed\n",
      "IAPGQTGKIADYNYKLPDDFTGCVIAWNSNNLDSKVGGNYNYLY...PIG pdb|8ELJ|A\n"
     ]
    }
   ],
   "source": [
    "print(f\"alignment:\\n {details.aln}\")"
   ]
  },
  {
   "cell_type": "markdown",
   "metadata": {},
   "source": [
    "------------------------------------------------------"
   ]
  },
  {
   "cell_type": "markdown",
   "metadata": {},
   "source": [
    "# 2. ENTREZ"
   ]
  },
  {
   "cell_type": "markdown",
   "metadata": {},
   "source": [
    "### Import Modules"
   ]
  },
  {
   "cell_type": "code",
   "execution_count": 20,
   "metadata": {},
   "outputs": [],
   "source": [
    "from Bio import Entrez"
   ]
  },
  {
   "cell_type": "code",
   "execution_count": 22,
   "metadata": {},
   "outputs": [],
   "source": [
    "# help(Entrez)"
   ]
  },
  {
   "cell_type": "code",
   "execution_count": 23,
   "metadata": {},
   "outputs": [],
   "source": [
    "Entrez.email = \"saglam.chd@gmail.com\""
   ]
  },
  {
   "cell_type": "code",
   "execution_count": 24,
   "metadata": {},
   "outputs": [
    {
     "data": {
      "text/plain": [
       "['pubmed', 'protein', 'nuccore', 'ipg', 'nucleotide', 'structure', 'genome', 'annotinfo', 'assembly', 'bioproject', 'biosample', 'blastdbinfo', 'books', 'cdd', 'clinvar', 'gap', 'gapplus', 'grasp', 'dbvar', 'gene', 'gds', 'geoprofiles', 'medgen', 'mesh', 'nlmcatalog', 'omim', 'orgtrack', 'pmc', 'proteinclusters', 'pcassay', 'protfam', 'pccompound', 'pcsubstance', 'seqannot', 'snp', 'sra', 'taxonomy', 'biocollections', 'gtr']"
      ]
     },
     "execution_count": 24,
     "metadata": {},
     "output_type": "execute_result"
    }
   ],
   "source": [
    "handle = Entrez.einfo()\n",
    "record = Entrez.read(handle)\n",
    "record['DbList']"
   ]
  },
  {
   "cell_type": "markdown",
   "metadata": {},
   "source": [
    "## 2.1. PUBMED"
   ]
  },
  {
   "cell_type": "code",
   "execution_count": 25,
   "metadata": {},
   "outputs": [
    {
     "data": {
      "text/plain": [
       "'PubMed bibliographic record'"
      ]
     },
     "execution_count": 25,
     "metadata": {},
     "output_type": "execute_result"
    }
   ],
   "source": [
    "handle = Entrez.einfo(db='pubmed')\n",
    "record = Entrez.read(handle)\n",
    "\n",
    "record['DbInfo']['Description']"
   ]
  },
  {
   "cell_type": "code",
   "execution_count": 26,
   "metadata": {},
   "outputs": [
    {
     "data": {
      "text/plain": [
       "'38407359'"
      ]
     },
     "execution_count": 26,
     "metadata": {},
     "output_type": "execute_result"
    }
   ],
   "source": [
    "record['DbInfo']['Count']"
   ]
  },
  {
   "cell_type": "code",
   "execution_count": 27,
   "metadata": {},
   "outputs": [
    {
     "data": {
      "text/plain": [
       "['39883659', '39882099', '39717221', '39546778', '39507944', '39445816', '38808697', '38650605', '38365590', '38235175', '37810457', '37668712', '36818783', '36245797', '36094101', '35497637', '35496474', '35402671', '34735950', '34484417']"
      ]
     },
     "execution_count": 27,
     "metadata": {},
     "output_type": "execute_result"
    }
   ],
   "source": [
    "handle = Entrez.esearch(db=\"pubmed\", term=\"biopython\")\n",
    "record = Entrez.read(handle)\n",
    "\n",
    "record['IdList']"
   ]
  },
  {
   "cell_type": "code",
   "execution_count": 30,
   "metadata": {},
   "outputs": [
    {
     "name": "stdout",
     "output_type": "stream",
     "text": [
      "['Ghorbani A', 'Rostami M', 'Ashrafi-Dehkordi E', 'Guzzi PH'] AutoPVPrimer: A comprehensive AI-Enhanced pipeline for efficient plant virus primer design and assessment. 2025 PloS one\n",
      "['Wang W', 'Wong ER', 'Cato ML', 'Daly PC', 'Doody CG', 'Gillespie T', 'Ksor CN', 'Zainab A', 'Zainab Z', 'Crook M'] Quick Oil Red O, Paint3D and Biopython as an economical tool to measure total lipid levels in Caenorhabditis elegans. 2025 microPublication biology\n"
     ]
    }
   ],
   "source": [
    "handle = Entrez.esummary(db=\"pubmed\", id='39883659, 39882099')\n",
    "records = Entrez.parse(handle)\n",
    "\n",
    "\n",
    "for record in records:\n",
    "    print(record['AuthorList'], \n",
    "          record['Title'], \n",
    "          record['PubDate'], \n",
    "          record['FullJournalName']\n",
    "         )"
   ]
  },
  {
   "cell_type": "code",
   "execution_count": 35,
   "metadata": {},
   "outputs": [
    {
     "name": "stdout",
     "output_type": "stream",
     "text": [
      "b'<?xml version=\"1.0\" ?>\\n<!DOCTYPE PubmedArticleSet PUBLIC \"-//NLM//DTD PubMedArticle, 1st January 2025//EN\" \"https://dtd.nlm.nih.gov/ncbi/pubmed/out/pubmed_250101.dtd\">\\n<PubmedArticleSet>\\n<PubmedArticle><MedlineCitation Status=\"MEDLINE\" Owner=\"NLM\" IndexingMethod=\"Manual\"><PMID Version=\"1\">34484417</PMID><DateCompleted><Year>2021</Year><Month>12</Month><Day>06</Day></DateCompleted><DateRevised><Year>2022</Year><Month>04</Month><Day>26</Day></DateRevised><Article PubModel=\"Electronic-eCollection\"><Journal><ISSN IssnType=\"Electronic\">1748-6718</ISSN><JournalIssue CitedMedium=\"Internet\"><Volume>2021</Volume><PubDate><Year>2021</Year></PubDate></JournalIssue><Title>Computational and mathematical methods in medicine</Title><ISOAbbreviation>Comput Math Methods Med</ISOAbbreviation></Journal><ArticleTitle>Identification of Immune-Related Genes in Sepsis due to Community-Acquired Pneumonia.</ArticleTitle><Pagination><StartPage>8020067</StartPage><MedlinePgn>8020067</MedlinePgn></Pagination><ELocationID EIdType=\"pii\" ValidYN=\"Y\">8020067</ELocationID><ELocationID EIdType=\"doi\" ValidYN=\"Y\">10.1155/2021/8020067</ELocationID><Abstract><AbstractText Label=\"BACKGROUND\" NlmCategory=\"BACKGROUND\">Immunosuppression has a key function in sepsis pathogenesis, so it is of great significance to find immune-related markers for the treatment of sepsis.</AbstractText><AbstractText Label=\"METHODS\" NlmCategory=\"METHODS\">Datasets of community-acquired pneumonia (CAP) with sepsis from the ArrayExpress database were extracted. Differentially expressed genes (DEGs) between the CAP group and normal group by Limma package were performed. After calculation of immune score through the ESTIMATE algorithm, the DEGs were selected between the high immune score group and the low immune score group. Enrichment analysis of the intersected DEGs was conducted. Further, the protein-protein interaction (PPI) of the intersected DEGs was drawn by Metascape tools. Related publications of the key DEGs were searched in NCBI PubMed through Biopython models, and RT-qPCR was used to verify the expression of key genes.</AbstractText><AbstractText Label=\"RESULTS\" NlmCategory=\"RESULTS\">360 intersected DEGs (157 upregulated and 203 downregulated) were obtained between the two groups. Meanwhile, the intersected DEGs were enriched in 157 immune-related terms. The PPI of the DEGs was performed, and 8 models were obtained. In sepsis-related research, eight genes were obtained with degree &#x2265; 10, included in the models.</AbstractText><AbstractText Label=\"CONCLUSION\" NlmCategory=\"CONCLUSIONS\">CXCR3, CCR7, HLA-DMA, and GPR18 might participate in the mechanism of CAP with sepsis.</AbstractText><CopyrightInformation>Copyright &#xa9; 2021 Yanyan Li et al.</CopyrightInformation></Abstract><AuthorList CompleteYN=\"Y\"><Author ValidYN=\"Y\"><LastName>Li</LastName><ForeName>Yanyan</ForeName><Initials>Y</Initials><AffiliationInfo><Affiliation>Department of Emergency, Minhang Hospital, Fudan University, No. 170 Xinsong Road, Minhang District, Shanghai 201199, China.</Affiliation></AffiliationInfo></Author><Author ValidYN=\"Y\"><LastName>Wang</LastName><ForeName>Jiqin</ForeName><Initials>J</Initials><AffiliationInfo><Affiliation>Department of Emergency, Minhang Hospital, Fudan University, No. 170 Xinsong Road, Minhang District, Shanghai 201199, China.</Affiliation></AffiliationInfo></Author><Author ValidYN=\"Y\"><LastName>Li</LastName><ForeName>Yuzhen</ForeName><Initials>Y</Initials><AffiliationInfo><Affiliation>Department of Emergency, Minhang Hospital, Fudan University, No. 170 Xinsong Road, Minhang District, Shanghai 201199, China.</Affiliation></AffiliationInfo></Author><Author ValidYN=\"Y\"><LastName>Liu</LastName><ForeName>Chunyan</ForeName><Initials>C</Initials><AffiliationInfo><Affiliation>Department of Emergency, Minhang Hospital, Fudan University, No. 170 Xinsong Road, Minhang District, Shanghai 201199, China.</Affiliation></AffiliationInfo></Author><Author ValidYN=\"Y\"><LastName>Gong</LastName><ForeName>Xia</ForeName><Initials>X</Initials><AffiliationInfo><Affiliation>Department of Emergency, Minhang Hospital, Fudan University, No. 170 Xinsong Road, Minhang District, Shanghai 201199, China.</Affiliation></AffiliationInfo></Author><Author ValidYN=\"Y\"><LastName>Zhuang</LastName><ForeName>Yifei</ForeName><Initials>Y</Initials><AffiliationInfo><Affiliation>Department of Emergency, Minhang Hospital, Fudan University, No. 170 Xinsong Road, Minhang District, Shanghai 201199, China.</Affiliation></AffiliationInfo></Author><Author ValidYN=\"Y\"><LastName>Chen</LastName><ForeName>Liang</ForeName><Initials>L</Initials><Identifier Source=\"ORCID\">0000-0002-6393-2572</Identifier><AffiliationInfo><Affiliation>Department of Emergency Medicine, Xinhua Hospital Affiliated to Shanghai Jiaotong University School of Medicine, No. 1665 Kongjiang Road, Yangpu District, Shanghai 200092, China.</Affiliation></AffiliationInfo></Author><Author ValidYN=\"Y\"><LastName>Sun</LastName><ForeName>Keyu</ForeName><Initials>K</Initials><Identifier Source=\"ORCID\">0000-0002-0931-3623</Identifier><AffiliationInfo><Affiliation>Department of Emergency, Minhang Hospital, Fudan University, No. 170 Xinsong Road, Minhang District, Shanghai 201199, China.</Affiliation></AffiliationInfo></Author></AuthorList><Language>eng</Language><PublicationTypeList><PublicationType UI=\"D016428\">Journal Article</PublicationType></PublicationTypeList><ArticleDate DateType=\"Electronic\"><Year>2021</Year><Month>08</Month><Day>26</Day></ArticleDate></Article><MedlineJournalInfo><Country>United States</Country><MedlineTA>Comput Math Methods Med</MedlineTA><NlmUniqueID>101277751</NlmUniqueID><ISSNLinking>1748-670X</ISSNLinking></MedlineJournalInfo><ChemicalList><Chemical><RegistryNumber>0</RegistryNumber><NameOfSubstance UI=\"D005819\">Genetic Markers</NameOfSubstance></Chemical></ChemicalList><CitationSubset>IM</CitationSubset><MeshHeadingList><MeshHeading><DescriptorName UI=\"D000465\" MajorTopicYN=\"N\">Algorithms</DescriptorName></MeshHeading><MeshHeading><DescriptorName UI=\"D017714\" MajorTopicYN=\"N\">Community-Acquired Infections</DescriptorName><QualifierName UI=\"Q000150\" MajorTopicYN=\"N\">complications</QualifierName><QualifierName UI=\"Q000235\" MajorTopicYN=\"Y\">genetics</QualifierName><QualifierName UI=\"Q000276\" MajorTopicYN=\"Y\">immunology</QualifierName></MeshHeading><MeshHeading><DescriptorName UI=\"D019295\" MajorTopicYN=\"N\">Computational Biology</DescriptorName></MeshHeading><MeshHeading><DescriptorName UI=\"D030541\" MajorTopicYN=\"N\">Databases, Genetic</DescriptorName><QualifierName UI=\"Q000706\" MajorTopicYN=\"N\">statistics &amp; numerical data</QualifierName></MeshHeading><MeshHeading><DescriptorName UI=\"D015870\" MajorTopicYN=\"N\">Gene Expression</DescriptorName></MeshHeading><MeshHeading><DescriptorName UI=\"D053263\" MajorTopicYN=\"N\">Gene Regulatory Networks</DescriptorName></MeshHeading><MeshHeading><DescriptorName UI=\"D005819\" MajorTopicYN=\"N\">Genetic Markers</DescriptorName><QualifierName UI=\"Q000276\" MajorTopicYN=\"N\">immunology</QualifierName></MeshHeading><MeshHeading><DescriptorName UI=\"D006801\" MajorTopicYN=\"N\">Humans</DescriptorName></MeshHeading><MeshHeading><DescriptorName UI=\"D011014\" MajorTopicYN=\"N\">Pneumonia</DescriptorName><QualifierName UI=\"Q000150\" MajorTopicYN=\"N\">complications</QualifierName><QualifierName UI=\"Q000235\" MajorTopicYN=\"Y\">genetics</QualifierName><QualifierName UI=\"Q000276\" MajorTopicYN=\"Y\">immunology</QualifierName></MeshHeading><MeshHeading><DescriptorName UI=\"D060066\" MajorTopicYN=\"N\">Protein Interaction Maps</DescriptorName><QualifierName UI=\"Q000235\" MajorTopicYN=\"N\">genetics</QualifierName><QualifierName UI=\"Q000276\" MajorTopicYN=\"N\">immunology</QualifierName></MeshHeading><MeshHeading><DescriptorName UI=\"D018805\" MajorTopicYN=\"N\">Sepsis</DescriptorName><QualifierName UI=\"Q000209\" MajorTopicYN=\"N\">etiology</QualifierName><QualifierName UI=\"Q000235\" MajorTopicYN=\"Y\">genetics</QualifierName><QualifierName UI=\"Q000276\" MajorTopicYN=\"Y\">immunology</QualifierName></MeshHeading></MeshHeadingList><CoiStatement>The authors declare that they have no conflict of interest.</CoiStatement></MedlineCitation><PubmedData><History><PubMedPubDate PubStatus=\"received\"><Year>2021</Year><Month>5</Month><Day>26</Day></PubMedPubDate><PubMedPubDate PubStatus=\"accepted\"><Year>2021</Year><Month>8</Month><Day>9</Day></PubMedPubDate><PubMedPubDate PubStatus=\"entrez\"><Year>2021</Year><Month>9</Month><Day>6</Day><Hour>5</Hour><Minute>57</Minute></PubMedPubDate><PubMedPubDate PubStatus=\"pubmed\"><Year>2021</Year><Month>9</Month><Day>7</Day><Hour>6</Hour><Minute>0</Minute></PubMedPubDate><PubMedPubDate PubStatus=\"medline\"><Year>2021</Year><Month>12</Month><Day>15</Day><Hour>6</Hour><Minute>0</Minute></PubMedPubDate><PubMedPubDate PubStatus=\"pmc-release\"><Year>2021</Year><Month>8</Month><Day>26</Day></PubMedPubDate></History><PublicationStatus>epublish</PublicationStatus><ArticleIdList><ArticleId IdType=\"pubmed\">34484417</ArticleId><ArticleId IdType=\"pmc\">PMC8413041</ArticleId><ArticleId IdType=\"doi\">10.1155/2021/8020067</ArticleId></ArticleIdList><ReferenceList><Reference><Citation>Zheng Y., Ning P., Luo Q., et al. Inflammatory responses relate to distinct bronchoalveolar lavage lipidome in community-acquired pneumonia patients: a pilot study. Respiratory Research. 2019;20(1):p. 82. doi: 10.1186/s12931-019-1028-8.</Citation><ArticleIdList><ArticleId IdType=\"doi\">10.1186/s12931-019-1028-8</ArticleId><ArticleId IdType=\"pmc\">PMC6498485</ArticleId><ArticleId IdType=\"pubmed\">31046764</ArticleId></ArticleIdList></Reference><Reference><Citation>Neumann P. Lung Dysfunction in the Early Phase of Sepsis. Springer; 2000.</Citation></Reference><Reference><Citation>de Simone N., Racsa L., Bevan S., et al. Therapeutic plasma exchange in the management of sepsis and multiple organ dysfunction syndrome: a report of three cases. Journal of Clinical Apheresis. 2014;29(2):127&#x2013;131. doi: 10.1002/jca.21296.</Citation><ArticleIdList><ArticleId IdType=\"doi\">10.1002/jca.21296</ArticleId><ArticleId IdType=\"pubmed\">24000124</ArticleId></ArticleIdList></Reference><Reference><Citation>Culp W. T., Holt D. E. Septic peritonitis. Compendium: Continuing Education for Veterinarians. 2010;32(10):E1&#x2013;14.</Citation><ArticleIdList><ArticleId IdType=\"pubmed\">21308660</ArticleId></ArticleIdList></Reference><Reference><Citation>Beliaev A. M., Zyul\\'korneeva S.\\'., Rowbotham D., Bergin C. J. Screening acute cholangitis patients for sepsis. ANZ Journal of Surgery. 2019;89(11):1457&#x2013;1461. doi: 10.1111/ans.15432.</Citation><ArticleIdList><ArticleId IdType=\"doi\">10.1111/ans.15432</ArticleId><ArticleId IdType=\"pubmed\">31566288</ArticleId></ArticleIdList></Reference><Reference><Citation>Yang Y., Liu G., He Q., et al. A promising candidate: heparin-binding protein steps onto the stage of sepsis prediction. Journal of Immunology Research. 2019;2019:11. doi: 10.1155/2019/7515346.7515346</Citation><ArticleIdList><ArticleId IdType=\"doi\">10.1155/2019/7515346</ArticleId><ArticleId IdType=\"pmc\">PMC6942865</ArticleId><ArticleId IdType=\"pubmed\">31930151</ArticleId></ArticleIdList></Reference><Reference><Citation>Luo H., Li X., Cao W. Advances in the research of effects of changes in immune function, coagulation function, and metabolism due to burn sepsis on wound healing. Zhonghua shao shang za zhi. 2014;30(2):137&#x2013;140.</Citation><ArticleIdList><ArticleId IdType=\"pubmed\">24989659</ArticleId></ArticleIdList></Reference><Reference><Citation>Hu Q., Gong W., Gu J., et al. Plasma microRNA profiles as a potential biomarker in differentiating adult-onset Still\\'s disease from sepsis. Frontiers in Immunology. 2019;9:p. 3099. doi: 10.3389/fimmu.2018.03099.</Citation><ArticleIdList><ArticleId IdType=\"doi\">10.3389/fimmu.2018.03099</ArticleId><ArticleId IdType=\"pmc\">PMC6338094</ArticleId><ArticleId IdType=\"pubmed\">30687316</ArticleId></ArticleIdList></Reference><Reference><Citation>Novotny A. R., Reim D., Assfalg V., et al. Mixed antagonist response and sepsis severity-dependent dysbalance of pro- and anti-inflammatory responses at the onset of postoperative sepsis. Immunobiology. 2012;217(6):616&#x2013;621. doi: 10.1016/j.imbio.2011.10.019.</Citation><ArticleIdList><ArticleId IdType=\"doi\">10.1016/j.imbio.2011.10.019</ArticleId><ArticleId IdType=\"pubmed\">22204813</ArticleId></ArticleIdList></Reference><Reference><Citation>Song G. Y., Chung C. S., Schwacha M. G., Jarrar D., Chaudry I. H., Ayala A. Splenic immune suppression in sepsis: a role for IL-10-induced changes in P38 MAPK signaling. The Journal of Surgical Research. 1999;83(1):36&#x2013;43. doi: 10.1006/jsre.1998.5556.</Citation><ArticleIdList><ArticleId IdType=\"doi\">10.1006/jsre.1998.5556</ArticleId><ArticleId IdType=\"pubmed\">10210640</ArticleId></ArticleIdList></Reference><Reference><Citation>Beirasfernandez A., Thein E., Hammer C. Induction of immunosuppression with polyclonal antithymocyte globulins: an overview. Experimental and Clinical Transplantation. 2003;1(2):79&#x2013;84.</Citation><ArticleIdList><ArticleId IdType=\"pubmed\">15859913</ArticleId></ArticleIdList></Reference><Reference><Citation>Wang X., Liotta L. Clinical bioinformatics: a new emerging science. Journal of Clinical Bioinformatics. 2011;1(1):p. 1. doi: 10.1186/2043-9113-1-1.</Citation><ArticleIdList><ArticleId IdType=\"doi\">10.1186/2043-9113-1-1</ArticleId><ArticleId IdType=\"pmc\">PMC3097094</ArticleId><ArticleId IdType=\"pubmed\">21884620</ArticleId></ArticleIdList></Reference><Reference><Citation>Tsai S., Gamblin T. C. Molecular characteristics of biliary tract and primary liver tumors. Surgical Oncology Clinics of North America. 2019;28(4):685&#x2013;693. doi: 10.1016/j.soc.2019.06.004.</Citation><ArticleIdList><ArticleId IdType=\"doi\">10.1016/j.soc.2019.06.004</ArticleId><ArticleId IdType=\"pubmed\">31472913</ArticleId></ArticleIdList></Reference><Reference><Citation>Yan P., He Y., Xie K., Kong S., Zhao W. In silicoanalyses for potential key genes associated with gastric cancer. PeerJ. 2018;6, article e6092 doi: 10.7717/peerj.6092.</Citation><ArticleIdList><ArticleId IdType=\"doi\">10.7717/peerj.6092</ArticleId><ArticleId IdType=\"pmc\">PMC6287586</ArticleId><ArticleId IdType=\"pubmed\">30568862</ArticleId></ArticleIdList></Reference><Reference><Citation>Chen L., Su W., Chen H., et al. Proteomics for biomarker identification and clinical application in kidney disease. Advances in Clinical Chemistry. 2018;85:91&#x2013;113. doi: 10.1016/bs.acc.2018.02.005.</Citation><ArticleIdList><ArticleId IdType=\"doi\">10.1016/bs.acc.2018.02.005</ArticleId><ArticleId IdType=\"pubmed\">29655463</ArticleId></ArticleIdList></Reference><Reference><Citation>Rong L., Huang W., Tian S., Chi X., Zhao P., Liu F. COL1A2 is a novel biomarker to improve clinical prediction in human gastric cancer: integrating bioinformatics and meta-analysis. Pathology Oncology Research. 2018;24(1):129&#x2013;134. doi: 10.1007/s12253-017-0223-5.</Citation><ArticleIdList><ArticleId IdType=\"doi\">10.1007/s12253-017-0223-5</ArticleId><ArticleId IdType=\"pubmed\">28401451</ArticleId></ArticleIdList></Reference><Reference><Citation>Yu S., Wu Y., Li C., et al. Comprehensive analysis of the SLC16A gene family in pancreatic cancer via integrated bioinformatics. Scientific Reports. 2020;10(1):p. 7315. doi: 10.1038/s41598-020-64356-y.</Citation><ArticleIdList><ArticleId IdType=\"doi\">10.1038/s41598-020-64356-y</ArticleId><ArticleId IdType=\"pmc\">PMC7193566</ArticleId><ArticleId IdType=\"pubmed\">32355273</ArticleId></ArticleIdList></Reference><Reference><Citation>Kolesnikov N., Hastings E., Keays M., et al. ArrayExpress update&#x2014;simplifying data submissions. Nucleic Acids Research. 2015;43:1113&#x2013;1116. doi: 10.1093/nar/gku1057.</Citation><ArticleIdList><ArticleId IdType=\"doi\">10.1093/nar/gku1057</ArticleId><ArticleId IdType=\"pmc\">PMC4383899</ArticleId><ArticleId IdType=\"pubmed\">25361974</ArticleId></ArticleIdList></Reference><Reference><Citation>Yoshihara K., Shahmoradgoli M., Mart&#xed;nez E., et al. Inferring tumour purity and stromal and immune cell admixture from expression data. Nature Communications. 2013;4(1):p. 2612. doi: 10.1038/ncomms3612.</Citation><ArticleIdList><ArticleId IdType=\"doi\">10.1038/ncomms3612</ArticleId><ArticleId IdType=\"pmc\">PMC3826632</ArticleId><ArticleId IdType=\"pubmed\">24113773</ArticleId></ArticleIdList></Reference><Reference><Citation>Benjamini Y., Hochberg Y. Controlling the false discovery rate: a practical and powerful approach to multiple testing. Journal of the Royal Statistical Society: Series B. 1995;57(1):289&#x2013;300.</Citation></Reference><Reference><Citation>Zhou Y., Zhou B., Pache L., et al. Metascape provides a biologist-oriented resource for the analysis of systems-level datasets. Nature Communications. 2019;10(1):p. 1523. doi: 10.1038/s41467-019-09234-6.</Citation><ArticleIdList><ArticleId IdType=\"doi\">10.1038/s41467-019-09234-6</ArticleId><ArticleId IdType=\"pmc\">PMC6447622</ArticleId><ArticleId IdType=\"pubmed\">30944313</ArticleId></ArticleIdList></Reference><Reference><Citation>Chatr-aryamontri A., Oughtred R., Boucher L., et al. The BioGRID interaction database: 2017 update. Nucleic Acids Research. 2017;45(D1):D369&#x2013;D379. doi: 10.1093/nar/gkw1102.</Citation><ArticleIdList><ArticleId IdType=\"doi\">10.1093/nar/gkw1102</ArticleId><ArticleId IdType=\"pmc\">PMC5210573</ArticleId><ArticleId IdType=\"pubmed\">27980099</ArticleId></ArticleIdList></Reference><Reference><Citation>Li T., Wernersson R., Hansen R. B., et al. A scored human protein-protein interaction network to catalyze genomic interpretation. Nature Methods. 2017;14(1):61&#x2013;64. doi: 10.1038/nmeth.4083.</Citation><ArticleIdList><ArticleId IdType=\"doi\">10.1038/nmeth.4083</ArticleId><ArticleId IdType=\"pmc\">PMC5839635</ArticleId><ArticleId IdType=\"pubmed\">27892958</ArticleId></ArticleIdList></Reference><Reference><Citation>T&#xfc;rei D., Korcsm&#xe1;ros T., Saez-Rodriguez J. OmniPath: guidelines and gateway for literature-curated signaling pathway resources. Nature Methods. 2016;13(12):966&#x2013;967. doi: 10.1038/nmeth.4077.</Citation><ArticleIdList><ArticleId IdType=\"doi\">10.1038/nmeth.4077</ArticleId><ArticleId IdType=\"pubmed\">27898060</ArticleId></ArticleIdList></Reference><Reference><Citation>Bader G. D., Hogue C. W. An automated method for finding molecular complexes in large protein interaction networks. BMC Bioinformatics. 2003;4(1):p. 2. doi: 10.1186/1471-2105-4-2.</Citation><ArticleIdList><ArticleId IdType=\"doi\">10.1186/1471-2105-4-2</ArticleId><ArticleId IdType=\"pmc\">PMC149346</ArticleId><ArticleId IdType=\"pubmed\">12525261</ArticleId></ArticleIdList></Reference><Reference><Citation>Cock P. J., Antao T., Chang J. T., et al. Biopython: freely available Python tools for computational molecular biology and bioinformatics. Bioinformatics. 2009;25(11):1422&#x2013;1423. doi: 10.1093/bioinformatics/btp163.</Citation><ArticleIdList><ArticleId IdType=\"doi\">10.1093/bioinformatics/btp163</ArticleId><ArticleId IdType=\"pmc\">PMC2682512</ArticleId><ArticleId IdType=\"pubmed\">19304878</ArticleId></ArticleIdList></Reference><Reference><Citation>Motulsky H. In GraphPad Prism 5: Statistics Guide. San Diego CA, USA: GraphPad Software Inc. Press; 2007.</Citation></Reference><Reference><Citation>Bosmann M., Ward P. A. The inflammatory response in sepsis. Trends in Immunology. 2013;34(3):129&#x2013;136. doi: 10.1016/j.it.2012.09.004.</Citation><ArticleIdList><ArticleId IdType=\"doi\">10.1016/j.it.2012.09.004</ArticleId><ArticleId IdType=\"pmc\">PMC3543471</ArticleId><ArticleId IdType=\"pubmed\">23036432</ArticleId></ArticleIdList></Reference><Reference><Citation>Delano M. J., Ward P. A. The immune system\\'s role in sepsis progression, resolution, and long-term outcome. Immunological Reviews. 2016;274(1):330&#x2013;353. doi: 10.1111/imr.12499.</Citation><ArticleIdList><ArticleId IdType=\"doi\">10.1111/imr.12499</ArticleId><ArticleId IdType=\"pmc\">PMC5111634</ArticleId><ArticleId IdType=\"pubmed\">27782333</ArticleId></ArticleIdList></Reference><Reference><Citation>Priyathilaka T. T., Oh M., Bathige S. D. N. K., de Zoysa M., Lee J. Two distinct CXC chemokine receptors (CXCR3 and CXCR4) from the big-belly seahorse _Hippocampus abdominalis_ : molecular perspectives and immune defensive role upon pathogenic stress. Fish &amp; Shellfish Immunology. 2017;65:59&#x2013;70. doi: 10.1016/j.fsi.2017.03.038.</Citation><ArticleIdList><ArticleId IdType=\"doi\">10.1016/j.fsi.2017.03.038</ArticleId><ArticleId IdType=\"pubmed\">28341456</ArticleId></ArticleIdList></Reference><Reference><Citation>Tsutahara K., et al. The blocking of CXCR3 and CCR5 suppresses the infiltration of T lymphocytes in rat renal ischemia reperfusion: 812. International Journal of Antimicrobial Agents. 2012;94(10):3799&#x2013;3806. doi: 10.1097/00007890-201211271-02259.</Citation><ArticleIdList><ArticleId IdType=\"doi\">10.1097/00007890-201211271-02259</ArticleId><ArticleId IdType=\"pubmed\">22904101</ArticleId></ArticleIdList></Reference><Reference><Citation>Kuroki M., Kuroki M., Kinugasa T., et al. Association between the expression of chemokine receptors CCR7 and CXCR3, and lymph node metastatic potential in lung adenocarcinoma. Oncology Reports. 2008;19(6):1461&#x2013;1468. doi: 10.3892/or.19.6.1461.</Citation><ArticleIdList><ArticleId IdType=\"doi\">10.3892/or.19.6.1461</ArticleId><ArticleId IdType=\"pubmed\">18497951</ArticleId></ArticleIdList></Reference><Reference><Citation>Reckamp K. L., Burdick M. D., Strieter R. M., Figlin R. A. The importance of the CXCR3/CXCR3 ligand biological axis in metastatic renal cell carcinoma. Cancer Research. 2005;46(9):1092&#x2013;1092.</Citation></Reference><Reference><Citation>F&#xf6;rster R., Davalos-Misslitz A. C., Rot A. CCR7 and its ligands: balancing immunity and tolerance. Nature Reviews Immunology. 2008;8(5):362&#x2013;371. doi: 10.1038/nri2297.</Citation><ArticleIdList><ArticleId IdType=\"doi\">10.1038/nri2297</ArticleId><ArticleId IdType=\"pubmed\">18379575</ArticleId></ArticleIdList></Reference><Reference><Citation>Nureki S., Miyazaki E., Ishi T., et al. Elevated concentrations of CCR7 ligands in patients with eosinophilic pneumonia. Allergy. 2013;68(11):1387&#x2013;1395. doi: 10.1111/all.12243.</Citation><ArticleIdList><ArticleId IdType=\"doi\">10.1111/all.12243</ArticleId><ArticleId IdType=\"pubmed\">24111618</ArticleId></ArticleIdList></Reference><Reference><Citation>Almansa R., Heredia-Rodr&#xed;guez M., Gomez-Sanchez E., et al. Transcriptomic correlates of organ failure extent in sepsis. The Journal of Infection. 2015;70(5):445&#x2013;456. doi: 10.1016/j.jinf.2014.12.010.</Citation><ArticleIdList><ArticleId IdType=\"doi\">10.1016/j.jinf.2014.12.010</ArticleId><ArticleId IdType=\"pubmed\">25557485</ArticleId></ArticleIdList></Reference><Reference><Citation>Lelubre C., Medfai H., Akl I., et al. Leukocyte phosphodiesterase expression after lipopolysaccharide and during sepsis and its relationship with HLA-DR expression. Journal of Leukocyte Biology. 2017;101(6):1419&#x2013;1426. doi: 10.1189/jlb.5A0516-240R.</Citation><ArticleIdList><ArticleId IdType=\"doi\">10.1189/jlb.5A0516-240R</ArticleId><ArticleId IdType=\"pubmed\">28356347</ArticleId></ArticleIdList></Reference><Reference><Citation>Qin Y., Verdegaal E. M. E., Siderius M., et al. Quantitative expression profiling of G-protein-coupled receptors (GPCRs) in metastatic melanoma: the constitutively active orphan GPCR GPR18 as novel drug target. Pigment Cell &amp; Melanoma Research. 2011;24(1):207&#x2013;218. doi: 10.1111/j.1755-148X.2010.00781.x.</Citation><ArticleIdList><ArticleId IdType=\"doi\">10.1111/j.1755-148X.2010.00781.x</ArticleId><ArticleId IdType=\"pubmed\">20880198</ArticleId></ArticleIdList></Reference><Reference><Citation>Morales P., Lago-Fernandez A., Hurst D. P., et al. Therapeutic exploitation of GPR18: beyond the cannabinoids? Journal of Medicinal Chemistry. 2020;63(23):14216&#x2013;14227. doi: 10.1021/acs.jmedchem.0c00926.</Citation><ArticleIdList><ArticleId IdType=\"doi\">10.1021/acs.jmedchem.0c00926</ArticleId><ArticleId IdType=\"pmc\">PMC7949482</ArticleId><ArticleId IdType=\"pubmed\">32914978</ArticleId></ArticleIdList></Reference><Reference><Citation>Chiang N., Dalli J., Colas R. A., Serhan C. N. Identification of resolvin D2 receptor mediating resolution of infections and organ protection. The Journal of Experimental Medicine. 2015;212(8):1203&#x2013;1217. doi: 10.1084/jem.20150225.</Citation><ArticleIdList><ArticleId IdType=\"doi\">10.1084/jem.20150225</ArticleId><ArticleId IdType=\"pmc\">PMC4516788</ArticleId><ArticleId IdType=\"pubmed\">26195725</ArticleId></ArticleIdList></Reference><Reference><Citation>Chiang N., de la Rosa X., Libreros S., Serhan C. N. Novel resolvin D2 receptor axis in infectious inflammation. Journal of Immunology. 2017;198(2):842&#x2013;851. doi: 10.4049/jimmunol.1601650.</Citation><ArticleIdList><ArticleId IdType=\"doi\">10.4049/jimmunol.1601650</ArticleId><ArticleId IdType=\"pmc\">PMC5225078</ArticleId><ArticleId IdType=\"pubmed\">27994074</ArticleId></ArticleIdList></Reference><Reference><Citation>Zhang L., Qiu C., Yang L., et al. GPR18 expression on PMNs as biomarker for outcome in patient with sepsis. Life Sciences. 2019;217:49&#x2013;56. doi: 10.1016/j.lfs.2018.11.061.</Citation><ArticleIdList><ArticleId IdType=\"doi\">10.1016/j.lfs.2018.11.061</ArticleId><ArticleId IdType=\"pubmed\">30503722</ArticleId></ArticleIdList></Reference></ReferenceList></PubmedData></PubmedArticle></PubmedArticleSet>'\n"
     ]
    }
   ],
   "source": [
    "handle = Entrez.efetch(db=\"pubmed\", id=\"34484417\")\n",
    "\n",
    "print(handle.read())"
   ]
  },
  {
   "cell_type": "markdown",
   "metadata": {},
   "source": [
    "## 2.2. Nucleotide"
   ]
  },
  {
   "cell_type": "code",
   "execution_count": 36,
   "metadata": {},
   "outputs": [
    {
     "data": {
      "text/plain": [
       "['2912461298', '2912461297', '2912461296', '2912461295', '2912461294', '2912461293', '2912461292', '2912461291', '2912461290', '2912461289']"
      ]
     },
     "execution_count": 36,
     "metadata": {},
     "output_type": "execute_result"
    }
   ],
   "source": [
    "handle = Entrez.esearch(db=\"nucleotide\", retmax=10, term=\"Severe acute respiratory syndrome\")\n",
    "record = Entrez.read(handle)\n",
    "record[\"IdList\"]"
   ]
  },
  {
   "cell_type": "code",
   "execution_count": 38,
   "metadata": {
    "scrolled": true
   },
   "outputs": [
    {
     "name": "stdout",
     "output_type": "stream",
     "text": [
      "LOCUS       OZ223683               29831 bp    DNA     linear   VRL 15-FEB-2025\n",
      "DEFINITION  Severe acute respiratory syndrome coronavirus 2 isolate RNA genome\n",
      "            assembly, complete genome: monopartite.\n",
      "ACCESSION   OZ223683\n",
      "VERSION     OZ223683.1\n",
      "DBLINK      BioProject: PRJEB45305\n",
      "            BioSample: SAMEA117690962\n",
      "KEYWORDS    .\n",
      "SOURCE      Severe acute respiratory syndrome coronavirus 2\n",
      "  ORGANISM  Severe acute respiratory syndrome coronavirus 2\n",
      "            Viruses; Riboviria; Orthornavirae; Pisuviricota; Pisoniviricetes;\n",
      "            Nidovirales; Cornidovirineae; Coronaviridae; Orthocoronavirinae;\n",
      "            Betacoronavirus; Sarbecovirus; Severe acute respiratory\n",
      "            syndrome-related coronavirus.\n",
      "REFERENCE   1\n",
      "  AUTHORS   Sladecek,T.\n",
      "  CONSRTM   Science Park\n",
      "  TITLE     Direct Submission\n",
      "  JOURNAL   Submitted (13-FEB-2025) Science Park of Comenius University of\n",
      "            Bratislava, Ilkovicova 8, 841 04 Bratislava, Slovakia\n",
      "FEATURES             Location/Qualifiers\n",
      "     source          1..29831\n",
      "                     /organism=\"Severe acute respiratory syndrome coronavirus\n",
      "                     2\"\n",
      "                     /mol_type=\"genomic DNA\"\n",
      "                     /isolate=\"RNA\"\n",
      "                     /host=\"Homo sapiens\"\n",
      "                     /db_xref=\"taxon:2697049\"\n",
      "                     /geo_loc_name=\"Slovakia\"\n",
      "                     /note=\"monopartite\"\n",
      "     assembly_gap    4395..4626\n",
      "                     /estimated_length=232\n",
      "                     /gap_type=\"unknown\"\n",
      "                     /linkage_evidence=\"unspecified\"\n",
      "     assembly_gap    26928..27122\n",
      "                     /estimated_length=195\n",
      "                     /gap_type=\"unknown\"\n",
      "                     /linkage_evidence=\"unspecified\"\n",
      "     assembly_gap    29775..29798\n",
      "                     /estimated_length=24\n",
      "                     /gap_type=\"unknown\"\n",
      "                     /linkage_evidence=\"unspecified\"\n",
      "ORIGIN      \n",
      "        1 nnnnnnnnta ccttcctagg taacaaacca accaactttt gatctcttgt agatctgttc\n",
      "       61 tctaaacgaa ctttaaaatc tgtgtggctg tcactcggct gcatgcttag tgcactcacg\n",
      "      121 cagtataatt aataactaat tactgtcgtt gacaggacac gagtaactcg tctatcttct\n",
      "      181 gcaggctgct tacggtttcg tccgtgttgc agccgatcat cagcacatct aggttttgtc\n",
      "      241 cgggtgtgac cgaaaggtaa gatggagagc cttgtccctg gtttcaacga gaaaacacac\n",
      "      301 gtccaactca gtttgcctgt tttacaggtt cgcgacgtgc tcgtacgtgg ctttggagac\n",
      "      361 tccgtggagg aggtcttatc agaggcacgt caacatctta aagatggcac ttgtggctta\n",
      "      421 gtagaagttg aaaaaggcgt tttgcctcaa cttgaacagc cctatgtgtt catcaaacgt\n",
      "      481 tcggatgctc gaactgcacc tcatggtcat gttatggttg agctggtagc agaactcgaa\n",
      "      541 ggcattcagt acggtcgtag tggtgagaca cttggtgtcc ttgtccctca tgtgggcgaa\n",
      "      601 ataccagtgg cttaccgcaa ggttcttctt cgtaagaacg gtaataaagg agctggtggc\n",
      "      661 cataggtacg gcgccgatct aaagtcattt gacttaggcg acgagcttgg cactgatcct\n",
      "      721 tatgaagatt ttcaagaaaa ctggaacact aaacatagca gtggtgttac ccgtgaactc\n",
      "      781 atgcgtgagc ttaacggagg ggcatacact cgctatgtcg ataacaactt ctgtggccct\n",
      "      841 gatggctacc ctcttgagtg cattaaagac cttctagcac gtgctggtaa agattcatgc\n",
      "      901 actttgtccg aacaactgga ctttattgac actaagaggg gtgtatactg ctgccgtgaa\n",
      "      961 catgagcatg aaattgcttg gtacacggaa cgttctgaaa agagctatga attgcagaca\n",
      "     1021 ccttttgaaa ttaaattggc aaagaaattt gacaccttca atggggaatg tccaaatttt\n",
      "     1081 gtatttccct taaattccat aatcaagact attcaaccaa gggttgaaaa gaaaaagctt\n",
      "     1141 gatggcttta tgggtagaat tcgatctgtc tatccagttg cgtcaccaaa tgaatgcaac\n",
      "     1201 caaatgtgcc tttcaactct catgaagtgt gatcattgtg gtgaaacttc atggcagacg\n",
      "     1261 ggcgattttg ttaaagccac ttgcgaattt tgtggcactg agaatttgac taaagaaggt\n",
      "     1321 gccactactt gtggttactt accccaaaat gctgttgtta aaatttattg tccagcatgt\n",
      "     1381 cacaattcag aagtaggacc tgagcatagt cttgccgaat accataatga atctggcttg\n",
      "     1441 aaaaccattc ttcgtaaggg tggtcgcact attgcctttg gaggctgtgt gttctcttat\n",
      "     1501 gttggttgcc ataacaagtg tgcctattgg gttccacgtg ctagcgctaa cataggttgt\n",
      "     1561 aaccatacag gtgttgttgg agaaggttcc gaaggtctta atgacaacct tcttgaaata\n",
      "     1621 ctccaaaaag agaaagtcaa catcaatatt gttggtgact ttaaacttaa tgaagagatc\n",
      "     1681 gccattattt tggcatcttt ttctgcttcc acaagtgctt ttgtggaaac tgtgaaaggt\n",
      "     1741 ttggattata aagcattcaa acaaattgtt gaatcctgtg gtaattttaa agttacaaaa\n",
      "     1801 ggaaaagcta aaaaaggtgc ctggaatatt ggtgaacaga aatcaatact gagtcctctt\n",
      "     1861 tatgcatttg catcagaggc tgctcgtgtt gtacgatcaa ttttctcccg cactcttgaa\n",
      "     1921 actgctcaaa attctgtgcg tgttttacag aaggccgcta taacaatact agatggaatt\n",
      "     1981 tcacagtatt cactgagact cattgatgct atgatgttca catctgattt ggctactaac\n",
      "     2041 aatctagttg taatggccta cattacaggt ggtgttgttc agttgacttc gcagtggcta\n",
      "     2101 actaacatct ttggcactgt ttatgaaaaa ctcaaacccg tccttgattg gcttgaagag\n",
      "     2161 aagtttaagg aaggtgtaga gtttcttaga gacggttggg aaattgttaa atttatctca\n",
      "     2221 acctgtgctt gtgaaattgt cggtggacaa attgtcacct gtgcaaagga aattaaggag\n",
      "     2281 agtgttcaga cattctttaa gcttgtaaat aaatttttgg ctttgtgtgc tgactctatc\n",
      "     2341 gttattggtg gagctaaact taaagccttg aatttaggtg aaacatttgt cacgcactca\n",
      "     2401 aagggattgt acagaaagtg tgttaaatcc agagaagaaa ctggcctact catgcctcta\n",
      "     2461 aaagccccaa aagaaattat cttcttagag ggagaaacac ttcccacaga agtgttaaca\n",
      "     2521 gaggaagttg tcttgaaaac tggtgattta caaccattag aacaacctac tagtgaagct\n",
      "     2581 gttgaagctc cattggttgg tacaccagtt tgtattaacg ggcttatgtt gctcgaaatc\n",
      "     2641 aaagacacag aaaagtactg tgcccttgca cctaatatga tggtaacaaa caataccttc\n",
      "     2701 acactcaaag gcggtgcacc aacaaaggtt acttttggtg atgacactgt gatagaagtg\n",
      "     2761 cagggttaca agagtgtgaa tatcattttt gaacttgatg aaaggattga taaagtactt\n",
      "     2821 aatgagaagt gctctgccta tacagttgaa ctcggtacag aagtaaatga gttcgcctgt\n",
      "     2881 gttgtggcag atgctgtcat aaaaactttg caaccagtat ctgaattact tacaccactg\n",
      "     2941 ggcattgatt tagatgagtg gagtatggct acatactact tatttgatga gtctggtgag\n",
      "     3001 tttaaattgg cttcacatat gtattgttct ttttaccctc cagatgagga tgaagaagaa\n",
      "     3061 ggtgattgtg aagaagaaga gtttgagcca tcaactcaat atgagtatgg tactgaagat\n",
      "     3121 gattaccaag gtaaaccttt ggaatttggt gccacttctg ctgctcttca acctgaagaa\n",
      "     3181 gagcaagaag aagattggtt agatgatgat agtcaacaaa ctgttggtca acaagacggc\n",
      "     3241 agtgaggaca atcagacaac tactattcaa acaattgttg aggttcaacc tcaattagag\n",
      "     3301 atggaactta caccagttgt tcagactatt gaagtgaata gttttagtgg ttatttaaaa\n",
      "     3361 cttactgaca atgtatacat taaaaatgca gacattgtgg aagaagctaa aaaggtaaaa\n",
      "     3421 ccaacattgg ttgttaatgc agccaatgtt taccttaaac atggaggagg tgttgcagga\n",
      "     3481 gccttaaata aggctactaa caatgccatg caagttgaat ctgatgatta catagctact\n",
      "     3541 aatggaccac ttaaagtggg cggtagttgt gttttaagcg gacacaatct tgctaaacac\n",
      "     3601 tgtcttcatg ttgtcggccc aaatgttaac aaaggtgaag acattcaact tcttaagagt\n",
      "     3661 gcttatgaaa attttaatca gcacgaagtt ctacttgcac cattattatc agctggtatt\n",
      "     3721 tttggtgctg accctataca ttctttaaga gtttgtgtag atactgttcg cacaaatgtc\n",
      "     3781 tacttagctg tctttgataa aaatctctat gacaaacttg tttcaagctt tttggaaatg\n",
      "     3841 aagagtgaaa agcaagttga acaaaagatc gctgagattc ctaaagagga agttaagcca\n",
      "     3901 tttataactg aaagtaaacc ttcagttgaa cagagaaaac aagatgataa gaaaatcaaa\n",
      "     3961 gcttgtgttg aagaagttac aacaactctg gaagaaacta agttcctcac agaaaacttg\n",
      "     4021 ttactttata ttgacattaa tggcaatctt catccagatt ctgccactct tgttagtgac\n",
      "     4081 attgacatca ctttcttaaa gaaagatgct ccatatatag tgggtgatgt tgttcaagag\n",
      "     4141 ggtgttttaa ctgctgtggt tatacctact aaaaaggcta gtggcactac tgaaatgcta\n",
      "     4201 gcgaaagctt tgagaaaagt gccaacagac aattatataa ccacttaccc gggtcagggt\n",
      "     4261 ttaaatggtt acactgtaga ggaggcaaag acagtgctta aaaagtgtaa aagtgctttt\n",
      "     4321 tacattctac catctattat ctctaatgag aagcaagaaa ttcttggaac tgtttcttgg\n",
      "     4381 aatttgcgag aaatnnnnnn nnnnnnnnnn nnnnnnnnnn nnnnnnnnnn nnnnnnnnnn\n",
      "     4441 nnnnnnnnnn nnnnnnnnnn nnnnnnnnnn nnnnnnnnnn nnnnnnnnnn nnnnnnnnnn\n",
      "     4501 nnnnnnnnnn nnnnnnnnnn nnnnnnnnnn nnnnnnnnnn nnnnnnnnnn nnnnnnnnnn\n",
      "     4561 nnnnnnnnnn nnnnnnnnnn nnnnnnnnnn nnnnnnnnnn nnnnnnnnnn nnnnnnnnnn\n",
      "     4621 nnnnnnggct taaatttgga agaagctgct cggtatatga gatctctcaa agtgccagct\n",
      "     4681 acagtttctg tttcttcacc tgatgctgtt acagcgtata atggttatct tacttcttct\n",
      "     4741 tctaaaacac ctgaagaaca ttttattgaa accatctcac ttgctggttc ctataaagat\n",
      "     4801 tggtcctatt ctggacaatc tacacaacta ggtatagaat ttcttaagag aggtgataaa\n",
      "     4861 agtgtatatt acactagtaa tcctaccaca ttccacctag atggtgaagt tatcaccttt\n",
      "     4921 gacaatctta agacacttct ttctttgaga gaagtgagga ctattaaggt gtttacaaca\n",
      "     4981 gtagacaaca ttaacctcca cacgcaagtt gtggacatgt caatgacata tggacaacag\n",
      "     5041 tttggtccaa cttatttgga tggagctgat gttactaaaa taaaacctca taattcacat\n",
      "     5101 gaaggtaaaa cattttatgt tttacctaat gatgacactc tacgtgttga ggcttttgag\n",
      "     5161 tactaccaca caactgatcc tagttttctg ggtaggtaca tgtcagcatt aaatcacact\n",
      "     5221 aaaaagtgga aatacccaca agttaatggt ttaacttcta ttaaatgggc agataacaac\n",
      "     5281 tgttatcttg ccactgcatt gttaacactc caacaaatag agttgaagtt taatccacct\n",
      "     5341 gctctacaag atgcttatta cagagcaagg gctggtgaag ctgctaactt ttgtgcactt\n",
      "     5401 atcttagcct actgtaataa gacagtaggt gagttaggtg atgttagaga aacaatgagt\n",
      "     5461 tacttgtttc aacatgccaa tttagattct tgcaaaagag tcttgaacgt ggtgtgtaaa\n",
      "     5521 acttgtggac aacagcagac aacccttaag ggtgtagaag ctgttatgta catgggcaca\n",
      "     5581 ctttcttatg aacaatttaa gaaaggtgtt cagatacctt gtacgtgtgg taaacaagct\n",
      "     5641 acaaaatatc tagtacaaca ggagtcacct tttgttatga tgtcagcacc acctgctcag\n",
      "     5701 tatgaactta agcatggtac atttacttgt gctagtgagt acactggtaa ttaccagtgt\n",
      "     5761 ggtcactata aacatataac ttctaaagaa actttgtatt gcatagacgg tgctttactt\n",
      "     5821 acaaagtcct cagaatacaa aggtcctatt acggatgttt tctacaaaga aaacagttac\n",
      "     5881 acaacaacca taaaaccagt tacttataaa ttggatggtg ttgtttgtac agaaattgac\n",
      "     5941 cctaagttgg acaattatta taagaaagac aattcttatt tcacagagca accaattgat\n",
      "     6001 cttgtaccaa accaaccata tccaaacgca agcttcgata attttaagtt tgtatgtgat\n",
      "     6061 aatatcaaat ttgctgatga tttaaaccag ttaactggtt ataagaaacc tgcttcaaga\n",
      "     6121 gagcttaaag ttacattttt ccctgactta aatggtgatg tggtggctat tgattataga\n",
      "     6181 cactacacac cctcttttaa gaaaggagct aaattgttac ataaacctat tgtttggcat\n",
      "     6241 gttaacaatg caactaataa agccacgtat aaaccaaata cctggtgtat acgttgtctt\n",
      "     6301 tggagcacaa aaccagttga aacatcaaat tcgtttgatg tactgaagtc agaggacgcg\n",
      "     6361 cagggaatgg ataatcttgc ctgcgaagat ctaaaaccag tctctgaaga agtagtggaa\n",
      "     6421 aatcctacca tacagaaaga cgttcttgag tgtaatgtga aaactaccga agttntagga\n",
      "     6481 gacattatac ttaaaccagc aaataatagt ttaaaaatta cagaagaggt tggccacaca\n",
      "     6541 gatctaatgg ctgcttatgt atacaattct agtcttacta ttaagaaacc taatgaatta\n",
      "     6601 tctagagtat taggtttgaa aacccttgct actcatggtt tagctgctgt taatagtgtc\n",
      "     6661 ccttgggata ctatagctaa ttatgctaag ccttttctta acaaagttgt tagtacaact\n",
      "     6721 actaacatag ttacacggtg tttaaaccgt gtttgtacta attatatgcc ttatttcttt\n",
      "     6781 actttattgc tacaattgtg tacttttact agaagtacaa attctagaat taaagcatct\n",
      "     6841 atgccgacta ctatagcaaa gaatactgtt aagagtgtcg gtaaattttg tctagaggct\n",
      "     6901 tcatttaatt atttgaagtc acctaatttt tctaaactga taaatattat aatttggttt\n",
      "     6961 ttactattaa gtgtttgcct aggttcttta atctactcaa ccgctgcttt aggtgtttta\n",
      "     7021 atgtctaatt taggcatgcc ttcttactgt actggttaca gagaaggcta tttgaactct\n",
      "     7081 actaatgtca ctattgcaac ctactgtatt ggttctatac cttgtagtgt ttgtcttagt\n",
      "     7141 ggtttagatt ctttagacac ctatccttct ttagaaacta tacaaattac catttcatct\n",
      "     7201 tttaaatggg atttaactgc ttttggctta gttgcagagt ggtttttggc atatattctt\n",
      "     7261 ttcactaggt ttttctatgt acttggattg gctgcaatca tgcaattgtt tttcagctat\n",
      "     7321 tttgcagtac attttattag taattcttgg cttatgtggt taataattaa tcttgtacaa\n",
      "     7381 atggccccga tttcagctat ggttagaatg tacatcttct ttgcatcatt ttattatgta\n",
      "     7441 tggaaaagtt atgtgcatgt tgtagacggt tgtaattcat caacttgtat gatgtgttac\n",
      "     7501 aaacgtaata gagcaacaag agtcgaatgt acaactattg ttaatggtgt tagaaggtcc\n",
      "     7561 ttttatgtct atgctaatgg aggtaaaggc ttttgcaaac tacacaattg gaattgtgtt\n",
      "     7621 aattgtgata cattctgtgc tggtagtaca tttattagtg atgaagttgc gagagacttg\n",
      "     7681 tcactacagt ttaaaagacc aataaatcct actgaccagt cttcttacat cgttgatagt\n",
      "     7741 gttacagtga agaatggttc catccatctt tactttgata aagctggtca aaagacttat\n",
      "     7801 gaaagacatt ctctctctca ttttgttaac ttagacagcc tgagagctaa taacactaaa\n",
      "     7861 ggttcattgc ctattaatgt tatagttttt gatggtaaat caaaatgtga agaatcatct\n",
      "     7921 gcaaaatcag cgtctgttta ctacagtcag cttatgtgtc aacctatact gttactagat\n",
      "     7981 caggcattag tgtctgatgt tggtgatagt gcggaagttg cagttaaaat gtttgatgct\n",
      "     8041 tacgttaata cgttttcatc aacttttaac gtaccaatgg aaaaactcaa aacactagtt\n",
      "     8101 gcaactgcag aagctgaact tgcaaagaat gtgtccttag acaatgtctt atctactttt\n",
      "     8161 atttcagcag ctcggcaagg gtttgttgat tcagatgtag aaactaaaga tgttgttgaa\n",
      "     8221 tgtcttaaat tgtcacatca atctgacata gaagttactg gcgatagttg taataactat\n",
      "     8281 atgctcactt ataacaaagt tgaaaacatg acaccccgtg accttggtgc ttgtattgac\n",
      "     8341 tgtagtgcgc gtcatattaa tgcgcaggta gcaaaaagtc acaacattac tttgatatgg\n",
      "     8401 aacgttaaag atttcatgtc attgtctgaa caactacgaa aacaaatacg tagtgctgct\n",
      "     8461 aaaaagaata acttaccttt taagttgaca tgtgcaacta ctagacaagt tgttaatgtt\n",
      "     8521 gtaacaacaa agatagcact taagggtggt aaaattgtta ataattggtt gaagcagtta\n",
      "     8581 attaaagtta cacttgtgtt cctttttgtt gctgctattt tctatttaat aacacctgtt\n",
      "     8641 catgtcatgt ctaaacatac tgacttttca agtgaaatca taggatacaa ggctattgat\n",
      "     8701 ggtggtgtca ctcgtgacat agcatctaca gatacttgtt ttgctaacaa acatgctgat\n",
      "     8761 tttgacacat ggtttagcca gcgtggtggt agttatacta atgacaaagc ttgcccattg\n",
      "     8821 attgctgcag tcataacaag agaagtgggt tttgtcgtgc ctggtttgcc tggcacgata\n",
      "     8881 ttacgcacaa ctaatggtga ctttttgcat ttcttaccta gagtttttag tgcagttggt\n",
      "     8941 aacatctgtt acacaccatc aaaacttata gagtacactg actttgcaac atcagcttgt\n",
      "     9001 gttttggctg ctgaatgtac aatttttaaa gatgcttctg gtaagccagt accatattgt\n",
      "     9061 tatgatacca atgtactaga aggttctgtt gcttatgaaa gtttacgccc tgacacacgt\n",
      "     9121 tatgtgctca tggatggctc tattattcaa tttcctaaca cctaccttga aggttctgtt\n",
      "     9181 agagtggtaa caacttttga ttctgagtac tgtaggcacg gcacttgtga aagatcagaa\n",
      "     9241 gctggtgttt gtgtatctac tagtggtaga tgggtactta acaatgatta ttacagatct\n",
      "     9301 ttaccaggag ttttctgtgg tgtagatgct gtaaatttat ttactaatat gtttacacca\n",
      "     9361 ctaattcaac ctattggtgc tttggacata tcagcatcta tagtagctgg tggtattgtg\n",
      "     9421 gctatcgtag taacatgcct tgcctactat tttatgaggt ttagaagagc ttttggtgaa\n",
      "     9481 tacagtcatg tagttgcctt taatacttta ctattcctta tgtcattcat tgtactctgt\n",
      "     9541 ttaacaccag tttactcatt cttacctggt gtttattctg ttatttactt gtacttgaca\n",
      "     9601 ttttatctta ctaatgatgt ttctttttta gcacatattc agtggatggt tatgttcaca\n",
      "     9661 cctttagtac ctttctggat aacaattgct tatatcattt gtatttccac aaagcatttc\n",
      "     9721 tattggttct ttggtaatta cctaaagaga cgtgtagtct ttaatggtgt ttcctttagt\n",
      "     9781 acttttgaag aagctgcgct gtgcaccttt ttgttaaata aagaaatgta tctaaagttg\n",
      "     9841 cgtagtgatg tgctattacc tcttacgcaa tataatagat acttagctct ttataataag\n",
      "     9901 tacaagtatt ttagtggagc aatggataca actagctaca gagaagctgc ttgttgtcat\n",
      "     9961 ctcgcaaagg ctctcaatga cttcagtaac tcaggttctg atgttcttta ccaaccacca\n",
      "    10021 caaatctcta tcacctcagc tgttttgcag agtggtttta gaaaaatggc attcccatct\n",
      "    10081 ggtaaagttg agggttgtat ggtacaagta acttgtggta caactacact taacggtctt\n",
      "    10141 tggcttgatg acgtagttta ctgtccaaga catgtgatct gcacctctga agatatgctt\n",
      "    10201 aaccctaatt atgaagattt actcattcgt aagtctaatc ataatttctt ggtacaggct\n",
      "    10261 ggtaatgttc aactcagggt tattggacat tctatgcaaa attgtgtact taagcttaag\n",
      "    10321 gttgatacag ccaatcctaa gacacctaag tataagtttg ttcgcattca accaggacag\n",
      "    10381 actttttcag tgttagcttg ttacaatggt tcaccatctg gtgtttacca atgtgctatg\n",
      "    10441 agacacaatt tcactattaa gggttcattc cttaatggtt catgtggtag tgttggtttt\n",
      "    10501 aacatagatt atgactgtgt ctctttttgt tacatgcacc atatggaatt accaactgga\n",
      "    10561 gttcatgctg gcacagactt agaaggtaac ttttatggac cttttgttga caggcaaaca\n",
      "    10621 gcacaagcag ctggtacgga cacaactatt acagttaatg ttttagcttg gttgtacgct\n",
      "    10681 gctgttataa atggagacag gtggtttctc aatcgattta ccacaactct taatgacttt\n",
      "    10741 aaccttgtgg ctatgaagta caattatgaa cctctaacac aagaccatgt tgacatacta\n",
      "    10801 ggacctcttt ctgctcaaac tggaattgcc gttttagata tgtgtgcttc attaaaagaa\n",
      "    10861 ttactgcaaa atggtatgaa tggacgtacc atattgggta gtgctttatt agaagatgaa\n",
      "    10921 tttacacctt ttgatgttgt tagacaatgc tcaggtgtta ctttccaaag tgcagtgaaa\n",
      "    10981 agaacaatca agggtacaca ccactggttg ttactcacaa ttttgacttc acttttattt\n",
      "    11041 ttagtccaga gtactcaatg gtctttgttc ttttttttgt atgaaaatgc ctttttacct\n",
      "    11101 tttgctatgg gtattattgc tatgtctgct tttgcaatga tgtttgtcaa acataagcat\n",
      "    11161 gcatttctct gtttgttttt gttaccttct cttgccactg tagcttattt taatatggtc\n",
      "    11221 tatatgcctg ctagttgggt gatgcgtatt atgacatggt tggatatggt tgatactagt\n",
      "    11281 ttgaagctaa aagactgtgt tatgtatgca tcagctgtag tgttactaat ccttatgaca\n",
      "    11341 gcaagaactg tgtatgatga tggtgctagg agagtgtgga cacttatgaa tgtcttgaca\n",
      "    11401 ctcgtttata aagtttatta tggtaatgct ttagatcaag ccatttccat gtgggctctt\n",
      "    11461 ataatctctg ttacttctaa ctactcaggt gtagttacaa ctgtcatgtt tttggccaga\n",
      "    11521 ggtattgttt ttatgtgtgt tgagtattgc cctattttct tcataactgg taatacactt\n",
      "    11581 cagtgtataa tgctagttta ttgtttctta ggctattttt gtacttgtta ctttggcctc\n",
      "    11641 ttttgtttac tcaaccgcta ctttagactg actcttggtg tttatgatta cttagtttct\n",
      "    11701 acacaggagt ttaaatatat gaattcacag ggactactcc cacccaagaa tagcatagat\n",
      "    11761 gccttcaaac tcaacattaa attgttgggt gttggtggca aaccttgtat caaagtagcc\n",
      "    11821 actgtacagt ctaaaatgtc agatgtaaag tgcacatcag tagtcttact ctcagttttg\n",
      "    11881 caacaactca gagtagaatc atcatctaaa ttgtgggctc aatgtgtcca gttacacaat\n",
      "    11941 gacattctct tagctaaaga tactactgaa gcctttgaaa aaatggtttc actactttct\n",
      "    12001 gttttgcttt ccatgcaggg tgctgtagac ataaacaagc tttgtgaaga aatgctggac\n",
      "    12061 aacagggcaa ccttacaagc tatagcctca gagtttagtt cccttccatc atatgcagct\n",
      "    12121 tttgctactg ctcaagaagc ttatgagcag gctgttgcta atggtgattc tgaagttgtt\n",
      "    12181 cttaaaaagt tgaagaagtc tttgaatgtg gctaaatctg aatttgaccg tgatgcagcc\n",
      "    12241 atgcaacgta agttggaaaa gatggctgat caagctatga cccaaatgta taaacaggct\n",
      "    12301 agatctgagg acaagagggc aaaagttact agtgctatgc agacaatgct tttcactatg\n",
      "    12361 cttagaaagt tggataatga tgcactcaac aacattatca acaatgcaag agatggttgt\n",
      "    12421 gttcccttga acataatacc tcttacaaca gcagccaaac taatggttgt cataccagac\n",
      "    12481 tataacacat ataaaaatac gtgtgatggt acaacattta cttatgcatc agcattgtgg\n",
      "    12541 gaaatccaac aggttgtaga tgcagatagt aaaattgttc aacttagtga aattagtatg\n",
      "    12601 gacaattcac ctaatttagc atggcctctt attgtaacag ctttaagggc caattctgct\n",
      "    12661 gtcaaattac agaataatga gcttagtcct gttgcactac gacagatgtc ttgtgctgcc\n",
      "    12721 ggtactacac aaactgcttg cactgatgac aatgcgttag cttactacaa cacaataaag\n",
      "    12781 ggaggtaggt ttgtacttgc attgttatcc gatttacagg atttgaaatg ggctagattc\n",
      "    12841 cctaagagtg atggaactgg tactatttat acagaactgg aaccaccttg taggtttgtt\n",
      "    12901 acagacacac ctaaaggtcc taaagtgaag tatttatact ttattaaagg attaaacaac\n",
      "    12961 ctaaatagag gtatggtact tggtagttta gctgccacag tacgtctaca agctggtaat\n",
      "    13021 gcaacagaag tgcctgccaa ttcaactgta ttatctttct gtgcttttgc tgtagatgct\n",
      "    13081 gctaaagctt acaaagatta tctagctagt gggggacaac caatcactaa ttgtgttaag\n",
      "    13141 atgttgtgta cacacactgg tactggtcag gcaataacag ttacaccgga agccaatatg\n",
      "    13201 gatcaagaat cctttggtgg tgcatcgtgt tgtctgtact gccgttgcca catagatcat\n",
      "    13261 ccaaatccta aaggattttg tgacttaaaa ggtaagtatg tacaaatacc tacaacttgt\n",
      "    13321 gctaacgacc ctgtgggttt tacacttaaa aacacagtct gtaccgtctg cggtatgtgg\n",
      "    13381 aaaggttatg gctgtagttg tgatcaactc cgcgaaccca tgcttcagtc agctgatgca\n",
      "    13441 caatcgtttt taaacgggtt tgcggtgtaa gtgcagcccg tcttacaccg tgcggcacag\n",
      "    13501 gcactagtac tgatgtcgta tacagggctt ttgacatcta caatgataaa gtagctggtt\n",
      "    13561 ttgctaaatt cctaaaaact aattgttgtc gcttccaaga aaaggacgaa gatgacaatt\n",
      "    13621 taattgattc ttactttgta gttaagagac acactttctc taactaccaa catgaagaaa\n",
      "    13681 caatttataa tttacttaag gattgtccag ctgttgctaa acatgacttc tttaagttta\n",
      "    13741 gaatagacgg tgacatggta ccacatatat cacgtcaacg tcttactaaa tacacaatgg\n",
      "    13801 cagacctcgt ctatgcttta aggcattttg atgaaggtaa ttgtgacaca ttaaaagaaa\n",
      "    13861 tacttgtcac atacaattgt tgtgatgatg attatttcaa taaaaaggac tggtatgatt\n",
      "    13921 ttgtagaaaa cccagatata ttacgcgtat acgccaactt aggtgaacgt gtacgccaag\n",
      "    13981 ctttgttaaa aacagtacaa ttctgtgatg ccatgcgaaa tgctggtatt gttggtgtac\n",
      "    14041 tgacattaga taatcaagat ctcaatggta actggtatga tttcggtgat ttcatacaaa\n",
      "    14101 ccacgccagg tagtggagtt cctgttgtag attcttatta ttcattgtta atgcctatat\n",
      "    14161 taaccttgac cagggcttta actgcagagt cacatgttga cactgactta acaaagcctt\n",
      "    14221 acattaagtg ggatttgtta aaatatgact tcacggaaga gaggttaaaa ctctttgacc\n",
      "    14281 gttattttaa atattgggat cagacatacc acccaaattg tgttaactgt ttggatgaca\n",
      "    14341 gatgcattct gcattgtgca aactttaatg ttttattctc tacagtgttc ccacttacaa\n",
      "    14401 gttttggacc actagtgaga aaaatatttg ttgatggtgt tccatttgta gtttcaactg\n",
      "    14461 gataccactt cagagagcta ggtgttgtac ataatcagga tgtaaactta catagctcta\n",
      "    14521 gacttagttt taaggaatta cttgtgtatg ctgctgaccc tgctatgcac gctgcttctg\n",
      "    14581 gtaatctatt actagataaa cgcactacgt gcttttcagt agctgcactt actaacaatg\n",
      "    14641 ttgcttttca aactgtcaaa cccggtaatt ttaacaaaga cttctatgac tttgctgtgt\n",
      "    14701 ctaagggttt ctttaaggaa ggaagttctg ttgaattaaa acacttcttc tttgctcagg\n",
      "    14761 atggtaatgc tgctatcagc gattatgact actatcgtta taatctacca acaatgtgtg\n",
      "    14821 atatcagaca actactattt gtagttgaag ttgttgataa gtactttgat tgttacgatg\n",
      "    14881 gtggctgtat taatgctaac caagtcatcg tcaacaacct agacaaatca gctggttttc\n",
      "    14941 catttaataa atggggtaag gctagacttt attatgattc aatgagttat gaggatcaag\n",
      "    15001 atgcactttt cgcatataca aaacgtaatg tcatccctac tataactcaa atgaatctta\n",
      "    15061 agtatgccat tagtgcaaag aatagagctc gcaccgtagc tggtgtctct atctgtagta\n",
      "    15121 ctatgaccaa tagacagttt catcaaaaat tattgaaatc aatagccgcc actagaggag\n",
      "    15181 ctactgtagt aattggaaca agcaaattct atggtggttg gcacaacatg ttaaaaactg\n",
      "    15241 tttatagtga tgtagaaaac cctcacctta tgggttggga ttatcctaaa tgtgatagag\n",
      "    15301 ccatgcctaa catgcttaga attatggcct cacttgttct tgctcgcaaa catacaacgt\n",
      "    15361 gttgtagctt gtcacaccgt ttctatagat tagctaatga gtgtgctcaa gtattgagtg\n",
      "    15421 aaatggtcat gtgtggcggt tcactatatg ttaaaccagg tggaacctca tcaggagatg\n",
      "    15481 ccacaactgc ttatgctaat agtgttttta acatttgtca agctgtcacg gccaatgtta\n",
      "    15541 atgcactttt atctactgat ggtaacaaaa ttgccgataa gtatgtccgc aatttacaac\n",
      "    15601 acagacttta tgagtgtctc tatagaaata gagatgttga cacagacttt gtgaatgagt\n",
      "    15661 tttacgcata tttgcgtaaa catttctcaa tgatgatact ttctgacgat gctgttgtgt\n",
      "    15721 gtttcaatag cacttatgca tcacaaggtc tagtggctag cataaagaac tttaagtcag\n",
      "    15781 ttctttatta tcaaaacaat gtttttatgt ctgaagcaaa atgttggact gagactgacc\n",
      "    15841 ttactaaagg acctcatgaa ttttgctctc aacatacaat gctagttaaa cagggtgatg\n",
      "    15901 attatgtgta ccttccttac ccagatccat caagaatcct aggggccggc tgttttgtag\n",
      "    15961 atgatatcgt aaaaacagat ggtacactta tgattgaacg gttcgtgtct ttagctatag\n",
      "    16021 atgcttaccc acttactaaa catcctaatc aggagtatgc tgatgtcttt catttgtact\n",
      "    16081 tacaatacat aagaaagcta catgatgagt taacaggaca catgttagac atgtattctg\n",
      "    16141 ttatgcttac taatgataac acttcaaggt attgggaacc tgagttttat gaggctatgt\n",
      "    16201 acacaccgca tacagtctta caggctgttg gggcttgtgt tctttgcaat tcacagactt\n",
      "    16261 cattaagatg tggtgcttgc atacgtagac cattcttatg ttgtaaatgc tgttacgacc\n",
      "    16321 atgtcatatc aacatcacat aaattagtct tgtctgttaa tccgtatgtt tgcaatgctc\n",
      "    16381 caggttgtga tgtcacagat gtgactcaac tttacttagg aggtatgagc tattattgta\n",
      "    16441 aatcacataa accacccatt agttttccat tgtgtgctaa tggacaagtt tttggtttat\n",
      "    16501 ataaaaatac atgtgttggt agcgataatg ttactgactt taatgcaatt gcaacatgtg\n",
      "    16561 actggacaaa tgctggtgat tacattttag ctaacacctg tactgaaaga ctcaagcttt\n",
      "    16621 ttgcagcaga aacgctcaaa gctactgagg agacatttaa actgtcttat ggtattgcta\n",
      "    16681 ctgtacgtga agtgctgtct gacagagaat tacatctttc atgggaagtt ggtaaaccta\n",
      "    16741 gaccaccact taaccgaaat tatgtcttta ctggttatcg tgtaactaaa aacagtaaag\n",
      "    16801 tacaaatagg agagtacacc tttgaaaaag gtgactatgg tgatgctgtt gtttaccgag\n",
      "    16861 gtacaacaac ttacaaatta aatgttggtg attattttgt gctgacatca catacagtaa\n",
      "    16921 tgccattaag tgcacctaca ctagtgccac aagagcacta tgttagaatt actggcttat\n",
      "    16981 acccaacact caatatctca gatgagtttt ctagcaatgt tgcaaattat caaaaggttg\n",
      "    17041 gtatgcaaaa gtattctaca ctccagggac cacctggtac tggtaagagt cattttgcta\n",
      "    17101 ttggcctagc tctctactac ccttctgctc gcatagtgta tacagcttgc tctcatgccg\n",
      "    17161 ctgttgatgc actatgtgag aaggcattaa aatatttgcc tatagataaa tgtagtagaa\n",
      "    17221 ttatacctgc acgtgctcgt gtagagtgtt ttgataaatt caaagtgaat tcaacattag\n",
      "    17281 aacagtatgt cttttgtact gtaaatgcat tgcctgagac tacagcagat atagttgtct\n",
      "    17341 ttgatgaaat ttcaatggcc acaaattatg atttgagtgt tgtcaatgcc agattatgtg\n",
      "    17401 ctaagcacta tgtgtacatt ggcgaccctg ctcaattacc tgcaccacgc acattgctaa\n",
      "    17461 ctaagggcac actagaacca gaatatttca attcagtgtg tagacttatg aaaactatag\n",
      "    17521 gtccagacat gttcctcgga acttgtcggc gttgtcctgc tgaaattgtt gacactgtga\n",
      "    17581 gtgctttggt ttatgataat aagcttaaag cacataaaga caaatcagct caatgcttta\n",
      "    17641 aaatgtttta taagggtgtt atcacgcatg atgtttcatc tgcaattaac aggccacaaa\n",
      "    17701 taggcgtggt aagagaattc cttacacgta accctgcttg gagaaaagct gtctttattt\n",
      "    17761 caccttataa ttcacagaat gctgtagcct caaagatttt gggactacca actcaaactg\n",
      "    17821 ttgattcatc acagggctca gaatatgact atgtcatatt cactcaaacc actgaaacag\n",
      "    17881 ctcactcttg taatgtaaac agatttaatg ttgctattac cagagcaaaa gtaggcatac\n",
      "    17941 tttgcataat gtctgataga gacctttatg acaagttgca atttacaagt cttgaaattc\n",
      "    18001 cacgtaggaa tgtggcaact ttacaagctg aaaatgtaac aggactcttt aaagattgta\n",
      "    18061 gtaaggtaat cactgggtta catcctacac aggcacctac acacctcagt gttgacacta\n",
      "    18121 aattcaaaac tgaaggttta tgtgttgacg tacctggcat acctaaggac atgacctata\n",
      "    18181 gaagactcat ctctatgatg ggttttaaaa tgaattatca agttaatggt taccctaaca\n",
      "    18241 tgtttatcac ccgcgaagaa gctataagac atgtacgtgc atggattggc ttcgatgtcg\n",
      "    18301 aggggtgtca tgctactaga gaagctgttg gtaccaattt acctttacag ctaggttttt\n",
      "    18361 ctacaggtgt taacctagtt gctgtaccta caggttatgt tgatacacct aataatacag\n",
      "    18421 atttttccag agttagtgct aaaccaccgc ctggagatca atttaaacac ctcataccgc\n",
      "    18481 ttatgtacaa aggacttcct tggaatgtag tgcgtataaa gattgtacaa atgttaagtg\n",
      "    18541 acacacttaa aaatctctct gacagagtcg tatttgtctt atgggcacat ggctttgagt\n",
      "    18601 tgacatctat gaagtatttt gtgaaaatag gacctgagcg cacctgttgt ctatgtgata\n",
      "    18661 gacgtgccac atgcttttcc actgcttcag acacttatgc ctgttggcat cattctattg\n",
      "    18721 gatttgatta cgtctataat ccgtttatga ttgatgttca acaatggggt tttacaggta\n",
      "    18781 acctacaaag caaccatgat ctgtattgtc aagtccatgg taatgcacat gtagctagtt\n",
      "    18841 gtgatgcaat catgactagg tgtctagctg tccacgagtg ttttgttaag cgtgttgact\n",
      "    18901 ggactattga atatcctata attggtgatg aactgaagat taatgcggct tgtagaaagg\n",
      "    18961 ttcaacacat ggttgttaaa gctgcattat tagcagacaa attcccagtt cttcacgaca\n",
      "    19021 ttggtaaccc taaagctatt aagtgtgtac ctcaagctga tgtagaatgg aagttctatg\n",
      "    19081 atgcacagcc ttgtagtgac aaagcttata aaatagaaga attattctat tcttatgcca\n",
      "    19141 cacattctga caaattcaca gatggtgtat gcctattttg gaattgcaat gtcgatagat\n",
      "    19201 atcctgctaa ttccattgtt tgtagatttg acactagagt gctatctaac cttaacttgc\n",
      "    19261 ctggttgtga tggtggcagt ttgtatgtaa ataaacatgc attccacaca ccagcttttg\n",
      "    19321 ataaaagtgc ttttgttaat ttaaaacaat taccattttt ctattactct gacagtccat\n",
      "    19381 gtgagtctca tggaaaacaa gtagtgtcag atatagatta tgtaccacta aagtctgcta\n",
      "    19441 cgtgtataac acgttgcaat ttaggtggtg ctgtctgtag acatcatgct aatgagtaca\n",
      "    19501 gattgtatct cgatgcttat aacatgatga tctcagctgg ctttagcttg tgggtttaca\n",
      "    19561 aacaatttga tacttataac ctctggaaca cttttacaag acttcagagt ttagaaaatg\n",
      "    19621 tggcttttaa tgttgtaaat aagggacact ttgatggaca acagggtgaa gtaccagttt\n",
      "    19681 ctatcattaa taacactgtt tacacaaaag ttgatggtgt tgatgtagaa ttgtttgaaa\n",
      "    19741 ataaaacaac attacctgtt aatgtagcat ttgagctttg ggctaagcgc aacattaaac\n",
      "    19801 cagtaccaga ggtgaaaata ctcaataatt tgggtgtgga cattgctgct aatactgtga\n",
      "    19861 tctgggacta caaaagagat gctccagcac atatatctac tattggtgtt tgttctatga\n",
      "    19921 ctgacatagc caagaaacca attgaaacga tttgtgcacc actcactgtc ttttttgatg\n",
      "    19981 gtagagttga tggtcaagta gacttattta gaaatgcccg taatggtgtt cttattacag\n",
      "    20041 agggtagtgt taaaggttta caaccatctg taggtcccaa acaagctagt cttaatggag\n",
      "    20101 tcacattaat tggagaagcc gtaaaaacac agttcaatta ttataagaaa gttgatggtg\n",
      "    20161 ttgtccaaca attacctgaa acttacttta ctcagagtag aaatttacaa gaatttaaac\n",
      "    20221 ccaggagtca aatggaaatt gatttcttag aattagctat ggatgaattc attgaacggt\n",
      "    20281 ataaattaga aggctatgcc ttcgaacata tcgtttatgg agattttagt catagtcagt\n",
      "    20341 taggtggttt acatctactg attggactag ctaaacgttt taaggaatca ccttttgaat\n",
      "    20401 tagaagattt tattcctatg gacagtacag ttaaaaacta tttcataaca gatgcgcaaa\n",
      "    20461 caggttcatc taagtgtgtg tgttctgtta ttgatttatt acttgatgat tttgttgaaa\n",
      "    20521 taataaaatc ccaagattta tctgtagttt ctaaggttgt caaagtgact attgactata\n",
      "    20581 cagaaatttc atttatgctt tggtgtaaag atggccatgt agaaacattt tacccaaaat\n",
      "    20641 tacaatctag tcaagcgtgg caaccgggtg ttgctatgcc taatctttac aaaatgcaaa\n",
      "    20701 gaatgctatt agaaaagtgt gaccttcaaa attatggtga tagtgcaaca ttacctaaag\n",
      "    20761 gcataatgat gaatgtcgca aaatatactc aactgtgtca atatttaaac acattaacat\n",
      "    20821 tagctgtacc ctataatatg agagttatac attttggtgc tggttctgat aaaggagttg\n",
      "    20881 caccaggtac agctgtttta agacagtggt tgcctacggg tacgctgctt gtcgattcag\n",
      "    20941 atcttaatga ctttgtctct gatgcagatt caactttgat tggtgattgt gcaactgtac\n",
      "    21001 atacagctaa taaatgggat ctcattatta gtgatatgta cgaccctaag actaaaaatg\n",
      "    21061 ttacaaaaga aaatgactct aaagagggtt ttttcactta catttgtggg tttatacaac\n",
      "    21121 aaaagctagc tcttggaggt tccgtggcta taaagataac agaacattct tggaatgctg\n",
      "    21181 atctttataa gctcatggga cacttcgcat ggtggacagc ctttgttact aatgtgaatg\n",
      "    21241 cgtcatcatc tgaagcattt ttaattggat gtaattatct tggcaaacca cgcgaacaaa\n",
      "    21301 tagatggtta tgtcatgcat gcaaattaca tattttggag gaatacaaat ccaattcagt\n",
      "    21361 tgtcttccta ttctttattt gacatgagta aatttcccct taaattaagg ggtactgctg\n",
      "    21421 ttatgtcttt aaaagaaggt caaatcaatg atatgatttt atctcttctt agtaaaggta\n",
      "    21481 gacttataat tagagaaaac aacagagttg ttatttctag tgatgttctt gttaacaact\n",
      "    21541 aaacgaacaa tgtttgtttt tcttgtttta ttgccactag tctctagtca gtgtgttaat\n",
      "    21601 cttataacta caactcaatc atacactaat ttcacacgtg gtgtttatta ccctgacaaa\n",
      "    21661 gttttcagat cctcagtttt acatttaact caggacttgt tcttaccttt cttttccaat\n",
      "    21721 gttacttggt tccatgctat ctctgggacc aatggtacta agaggtttga taaccctgtc\n",
      "    21781 ctaccattta atgatggtgt ttattttgct tccactgaga agtctaacat aataagaggc\n",
      "    21841 tggatttttg gtactacttt agattcgaag acccagtccc tacttattgt taataacgct\n",
      "    21901 actaatgttt ttattaaagt ctgtgaattt caattttgta atgatccatt tttggatgtt\n",
      "    21961 taccaaaaaa acaacaaaag ttggatggaa agtgagtcag gagtttattc tagtgcgaat\n",
      "    22021 aattgcactt ttgaatatgt ctctcagcct tttcttatgg accttgaagg aaaacagggt\n",
      "    22081 aatttcaaaa atcttaggga atttgtgttt aagaatattg atggttattt taaaatatat\n",
      "    22141 tctaagcaca cgcctattat agggcgtgat ttccctcagg gtttttcggc tttagaacca\n",
      "    22201 ttggtagatt tgccaatagg tattaacatc actaggtttc aaactttact tgctttaaat\n",
      "    22261 agaagttatt tgactcctgg tgattcttct tcaggttgga cagctggtgc tgcagattat\n",
      "    22321 tattatgtgg gttatcttca acctaggact tttctattaa aatataatga aaatggaacc\n",
      "    22381 attacagatg ctgtagactg tgcacttgac cctctctcag aaacaaagtg tacgttgaaa\n",
      "    22441 tccttcactg tagaaaaagg aatctatcaa acttctaact ttagagtcca accaacagaa\n",
      "    22501 tctattgtta gatttcctaa tgttacaaac ttgtgccctt ttcatgaagt ttttaacgcc\n",
      "    22561 accacatttg catctgttta tgcttggaac aggacgagaa tcagcaactg tgttgctgat\n",
      "    22621 tattctgtcc tatataattt cgcaccattt ttcgctttta agtgttatgg agtgtctcct\n",
      "    22681 actaaattaa atgatctctg ctttactaat gtctatgcag attcatttgt aattaaaggt\n",
      "    22741 aatgaagtca gccaaatcgc tccagggcaa actggaaata ttgctgatta taattataaa\n",
      "    22801 ttaccagatg attttacagg ctgcgttata gcttggaatt ctaacaagct tgattctaag\n",
      "    22861 catagtggta attatgatta ctggtataga tcgcttagga agtctaaact caaacctttt\n",
      "    22921 gagagagata tttcaactga aatctatcag gccggtaaca aaccttgtaa aggtaaaggt\n",
      "    22981 cctaattgtt actttccttt acaatcatat ggtttccgac ccacttatgg tgttggtcac\n",
      "    23041 caaccataca gagtagtagt actttctttt gaacttctac atgcaccagc aactgtttgt\n",
      "    23101 ggacctaaaa agtctactaa tttggttaaa aacaaatgtg tcaatttcaa cttcaatggt\n",
      "    23161 ttaacaggca caggtgttct tactaagtct aacaaaaagt ttctgccttt ccaacaattt\n",
      "    23221 ggcagagaca ttgttgacac tactgatgct gtccgtgacc cacagacact tgagattctt\n",
      "    23281 gacattacac catgttcttt tggtggtgtc agtgttataa caccaggaac aaatacttct\n",
      "    23341 aaccaggttg ctgttcttta tcagggtgtt aactgcacag aagtctctgt tgctattcat\n",
      "    23401 gcagatcaac ttactcctac ttggcgtgtt tattctacag gttctaatgt ttttcaaaca\n",
      "    23461 cgtgcaggct gtttaatagg ggctgaatat gtcaacaact catatgagtg tgacataccc\n",
      "    23521 attggtgcag gtatatgcgc tagttatcag actcagacta agtctcgtcg gcgggcacgt\n",
      "    23581 agtgtagcta gtcaatccat cattgcctac actatgtcac ttggtgcaga aaattcagtt\n",
      "    23641 gcttactcta ataactctat tgccataccc acaaatttta ctattagtgt taccacagaa\n",
      "    23701 attctaccag tgtctatgac caagacatca gtagattgta caatgtacat ttgtggtgat\n",
      "    23761 tcaactgaat gcagcaatct tttgttgcaa tatggcagtt tttgtacaca attaaaacgt\n",
      "    23821 gctttaactg gaatagctgt tgaacaagac aaaaacaccc aagaagtttt tgcacaagtc\n",
      "    23881 aaacaaattt acaaaacacc accaattaaa tattttggtg gttttaattt ttcacaaata\n",
      "    23941 ttaccagatc catcaaaacc aagcaagagg tcatttattg aagatctact tttcaacaaa\n",
      "    24001 gtgacacttg cagatgctgg cttcatcaaa caatatggtg attgccttgg tgatattgct\n",
      "    24061 gctagagacc tcatttgtgc acaaaagttt aacggcctta ctgttttgcc acctttgctc\n",
      "    24121 acagatgaaa tgattgctca atacacttct gcactgttag cgggtacaat cacttctggt\n",
      "    24181 tggacctttg gtgcaggtgc tgcattacaa ataccatttg ctatgcaaat ggcttatagg\n",
      "    24241 tttaatggta ttggagttac acagaatgtt ctctatgaga accaaaaatt gattgccaac\n",
      "    24301 caatttaata gtgctattgg caaaattcaa gactcacttt tttccacagc aagtgcactt\n",
      "    24361 ggaaaacttc aagatgtggt caaccataat gcacaagctt taaacacgct tgttaaacaa\n",
      "    24421 cttagctcca aatttggtgc aatttcaagt gttttaaatg atatcctttc acgtcttgac\n",
      "    24481 aaagttgagg ctgaagtgca aattgatagg ttgatcacag gcagacttca aagtttgcag\n",
      "    24541 acatatgtga ctcaacaatt aattagagct gcagaaatca gagcttctgc taatcttgct\n",
      "    24601 gctactaaaa tgtcagagtg tgtacttgga caatcaaaaa gagttgattt ttgtggaaag\n",
      "    24661 ggctatcatc ttatgtcctt ccctcagtca gcacctcatg gtgtagtctt cttgcatgtg\n",
      "    24721 acttatgtcc ctgcacaaga aaagaacttc acaactgctc ctgccatttg tcatgatgga\n",
      "    24781 aaagcacact ttcctcgtga aggtgtcttt gtttcaaatg gcacacactg gtttttaaca\n",
      "    24841 caaaggaatt tttatgaacc acaaatcatt actacagaca acacatttgt gtctggtaac\n",
      "    24901 tgtgatgttg taataggaat tgtcaacaac acagtttatg atcctttgca acttgaatta\n",
      "    24961 gattcattca aggaggagtt agataaatat tttaagaatc atacatcacc agatgttgat\n",
      "    25021 ttaggtgaca tctctggcat taatgcttca gttgtaaaca ttcaaaaaga aattgaccgc\n",
      "    25081 ctcaatgagg ttgccaagaa tttaaatgaa tctctcatcg atctccaaga acttggaaag\n",
      "    25141 tatgagcagt atataaaatg gccatggtat atttggctag gttttatagc tggcttgatt\n",
      "    25201 gccatagtaa tggtgacaat tatgctttgc tgtatgacca gttgctgtag ttgtctcaag\n",
      "    25261 ggctgttgtt cttgtggatc ctgctgcaaa tttgatgaag acgactctga gccagtgctc\n",
      "    25321 aaaggagtca aattacatta cacataaacg aacttatgga tttgtttatg agaatcttca\n",
      "    25381 caattggaac tgtaactttg aagcaaggtg aaatcaagga tgctactcct tcagattttg\n",
      "    25441 ttcgcgctac tgcaacgata ccgatacaag cctcactccc tttcggatgg cttattgttg\n",
      "    25501 gcgttgcact tcttgctgtt tttcagagcg cttccaaaat cataactctc aaaaatagat\n",
      "    25561 ggcaactagc actctccaag ggtgttcact ttgtttgcaa cttgctgttg ttgtttgtaa\n",
      "    25621 cagtttactc acaccttttg ctcgttgctg ctggccttga agcccctttt ctctatcttt\n",
      "    25681 atgctttagt ctacttcttg cagagtataa actttgtaag aataataatg aggctttggc\n",
      "    25741 tttgctggaa atgccgttcc aaaaacccat tactttatga tgccaactat tttctttgct\n",
      "    25801 ggcatactaa ttgttacgac tattgtatac cttacaatag tgtaacttct tcaattgtca\n",
      "    25861 ttacttcagg tgatggcaca acaagtccta tttctgaaca tgactaccag attggtggtt\n",
      "    25921 atactgaaaa atgggaatct ggagtaaaag actgtgttgt attacacagt tacttcactt\n",
      "    25981 cagactatta ccagctgtac tcaactcaat tgagtacaga cattggtgtt gaacatgtta\n",
      "    26041 ccttcttcat ctacaataaa attgttgatg agcctgaaga acatgtccaa attcacacaa\n",
      "    26101 tcgacggttc atccggagtt gttaatccag taatggaacc aatttatgat gcaccgacga\n",
      "    26161 cgactactag cgtgcctttg taagcacaag ctgatgagta cgaacttatg tactcattcg\n",
      "    26221 tttcggaaga gataggtacg ttaatagtta atagcgtact tctttttctt gctttcgtgg\n",
      "    26281 tattcttgct agttacacta gccatcctta ctgcgcttcg attgtgtgcg tactgctgca\n",
      "    26341 atattgttaa cgtgagtctt gtaaaacctt ctttttacgt ttactctcgt gttaaaaatc\n",
      "    26401 tgaattcttc tagagttcct gatcttctgg tctaaacgaa ctaaatatta tattagtttt\n",
      "    26461 tctgtttgga actttaattt tagccatggc acattccaac ggtactatta ccgttgaaga\n",
      "    26521 gcttaaaaag ctccttgaag aatggaacct agtaataggt ttcctattcc ttgcatggat\n",
      "    26581 ttgtcttcta caatttgcct atgccaacag gaataggttt ttgtatataa ttaagttaat\n",
      "    26641 ttttctctgg ctgttatggc cagtaacttt aacttgtttt gtgcttgctg ctgtttacag\n",
      "    26701 aataaattgg atcaccggtg gaattgctat cgcaatggct tgtcttgtag gcttgatgtg\n",
      "    26761 gcttagctac ttcattgctt ctttcagact gtttgtgcgt acgcgttcca tgtggtcatt\n",
      "    26821 taatccagaa actaacattc ttctcaacgt gccactccat ggcactattc tgaccagacc\n",
      "    26881 gcttctagaa agtgaactcg taatcggagc tgtgatcctt cgtggacnnn nnnnnnnnnn\n",
      "    26941 nnnnnnnnnn nnnnnnnnnn nnnnnnnnnn nnnnnnnnnn nnnnnnnnnn nnnnnnnnnn\n",
      "    27001 nnnnnnnnnn nnnnnnnnnn nnnnnnnnnn nnnnnnnnnn nnnnnnnnnn nnnnnnnnnn\n",
      "    27061 nnnnnnnnnn nnnnnnnnnn nnnnnnnnnn nnnnnnnnnn nnnnnnnnnn nnnnnnnnnn\n",
      "    27121 nngcagtgac aatattgctt tgcttgtaca gtaagtgaca acagatgttt catctcgttg\n",
      "    27181 actttcaggt tactatagca gagatattac taattattat gcggactttt aaagtttcca\n",
      "    27241 tttggaatct tgattatatc ataaacctca taattaaaaa tttatctaag tcactaactg\n",
      "    27301 agaataaata ttctcaatta gatgaagagc aaccaatgga gattctctaa acgaacatga\n",
      "    27361 aaattattct tttcttggca ctgataacac tcgctacttg tgagctttat cactaccaag\n",
      "    27421 agtgtgttag aggtacaaca gtacttttaa aagaaccttg ctcttctgga acatacgagg\n",
      "    27481 gcaattcacc atttcatcct ctagctgata acaaatttgc actgacttgc tttagcactc\n",
      "    27541 aatttgcttt tgcttgtcct gacggcgtaa aacacgtcta tcagttacgt gccagatcag\n",
      "    27601 tttcacctaa actgttcatc agacaagagg aagttcaaga actttactct ccaatttttc\n",
      "    27661 ttattgttgc ggcaatagtg tttataacac tttgcttcac actcaaaaga aagacagaat\n",
      "    27721 gattgaactt tcattaattg acttctattt gtgcttttta gcctttctgt tactccttgt\n",
      "    27781 tttaattatg cttattatct tttggttctc acttgaactg caagatcata atgaaacttg\n",
      "    27841 tcacgcctaa acgaacatga aatttcttgt tttcttagga atcatcacaa ctgtagctgc\n",
      "    27901 atttcaccaa gaatgtagtt tacagtcatg tactcaacat caaccatatg tagttgatga\n",
      "    27961 cccgtgtcct attcacttct attctaaatg gtatattaga gtaggagcta gaaaatcagc\n",
      "    28021 acctttaatt gaattgtgcg tggatgaggc tggttctaaa tcacccattc agtacatcga\n",
      "    28081 tatcggtaat tatacagttt cctgtttacc ttttacaatt aattgccagg aacctaaatt\n",
      "    28141 gggtagtctt gtagtgcgtt gttcgttcta tgaagacttt ttagagtatc atgacgttcg\n",
      "    28201 tgttgtttta gatttcatct aaacgaacaa acttaaatgt ctgataatgg accccaaaat\n",
      "    28261 cagcgaaatg cactccgcat tacgtttggt ggaccctcag attcaactgg cagtaaccag\n",
      "    28321 aatggtgggg cgcgatcaaa acaacgtcgg ccccaaggtt tacccaataa tactgcgtct\n",
      "    28381 tggttcaccg ctctcactca acatggcaag gaagacctta aattccctcg aggacaaggc\n",
      "    28441 gttccaatta acaccaatag cagtccagat gaccaaattg gctactaccg aagagctacc\n",
      "    28501 agacgaattc gtggtggtga cggtaaaatg aaagatctca gtccaagatg gtatttctac\n",
      "    28561 tacctaggaa ctgggccaga agctggactt ccctatggtg ctaataaaga cggcatcata\n",
      "    28621 tgggttgcaa ctgagggagc cttgaataca ccaaaagatc acattggtac ccgcaatcct\n",
      "    28681 gctaacaatg ctgcaatcgt gctacaactt cctcaaggaa caacattgcc aaaaggcttc\n",
      "    28741 tacgcagaag ggagcagagg cggcagtcaa gcctcttctc gttcctcatc acgtagtcgc\n",
      "    28801 aacagttcaa gaaattcaac tccaggcagc agtaaacgaa cttctcctgc tagaatggct\n",
      "    28861 ggcaatggcg gtgatgctgc tcttgctttg ctgctgcttg acagattgaa caagcttgag\n",
      "    28921 agcaaaatgt ctggtaaagg ccaacaacaa caaggccaaa ctgtcactaa gaaatctgct\n",
      "    28981 gctgaggctt ctaagaagcc tcggcaaaaa cgtactgcca ctaaagcata caatgtaaca\n",
      "    29041 caagctttcg gcagacgtgg tccagaacaa acccaaggaa attttgggga ccaggaacta\n",
      "    29101 atcagacaag gaactgatta caaacattgg ccgcaaattg cacaatttgc ccccagcgct\n",
      "    29161 tcagcgttct tcggaatgtc gcgcattggc atggaagtca caccttcggg aacgtggttg\n",
      "    29221 acctacacag gtgccatcaa attggatgac aaagatccaa atttcaaaga tcaagtcatt\n",
      "    29281 ttgctgaata agcatattga cgcatacaaa acattcccac caacagagcc taaaaaggac\n",
      "    29341 aaaaagaaga aggctgatga aactcaagcc ttaccgcaga gacagaagaa acagcaaact\n",
      "    29401 gtgactcttc ttcctgctgc agatttggat gatttctcca aacaattgca aaaatccatg\n",
      "    29461 agccgtgctg actcaactca ggcctaaact catgcagacc acacaaggca gatgggctat\n",
      "    29521 ataaacgttt tcgcttttcc gtttacgata tatagtctac tcttgtgcag aatgaattct\n",
      "    29581 cgtaactaca tagcacaagt agatgtagtt aactttaatc tcacatagca atctttaatc\n",
      "    29641 agtgtgtaac attagggagg acttgaaaga gccaccacat tttcacctac agtgaacaat\n",
      "    29701 gctagggaga gctgcctata tggaagagcc ctaatgtgta aaattaattt tagtagtgct\n",
      "    29761 atccccatgt gattnnnnnn nnnnnnnnnn nnnnnnnnaa aaaaaaaaaa aaaaaaaaaa\n",
      "    29821 aaaaaaaaaa a\n",
      "//\n",
      "\n",
      "\n"
     ]
    }
   ],
   "source": [
    "handle = Entrez.efetch(db='nucleotide', \n",
    "                       id=\"2912461298\", \n",
    "                       rettype=\"gb\", \n",
    "                       retmode=\"text\"\n",
    "                      )\n",
    "\n",
    "print(handle.read())"
   ]
  },
  {
   "cell_type": "code",
   "execution_count": 39,
   "metadata": {},
   "outputs": [],
   "source": [
    "handle = Entrez.esearch(db='nucleotide', term='accD[Gene Name] AND \"E. coli\"[Organism]', retmax=\"20\")\n",
    "result_list = Entrez.read(handle)"
   ]
  },
  {
   "cell_type": "code",
   "execution_count": 40,
   "metadata": {},
   "outputs": [
    {
     "name": "stdout",
     "output_type": "stream",
     "text": [
      "['2912461494', '2912461442', '2912461441', '2912461440', '2912461246', '2912461226', '2912461220', '2912461216', '2912461209', '2912461192', '2912461137', '2912461091', '2912461077', '2912461076', '2912461073', '2912461067', '2912461036', '2912461033', '2912461031', '2912461030']\n",
      "\n",
      "\n",
      "315469\n"
     ]
    }
   ],
   "source": [
    "id_list = result_list['IdList']\n",
    "count = result_list['Count']\n",
    "\n",
    "print(id_list)\n",
    "print(\"\\n\")\n",
    "print(count)"
   ]
  },
  {
   "cell_type": "code",
   "execution_count": 41,
   "metadata": {},
   "outputs": [],
   "source": [
    "handle.close()"
   ]
  },
  {
   "cell_type": "markdown",
   "metadata": {},
   "source": [
    "------------------------------------------------------"
   ]
  },
  {
   "cell_type": "markdown",
   "metadata": {},
   "source": [
    "# 3. PDB"
   ]
  },
  {
   "cell_type": "markdown",
   "metadata": {},
   "source": [
    "### Import Modules"
   ]
  },
  {
   "cell_type": "code",
   "execution_count": 42,
   "metadata": {},
   "outputs": [],
   "source": [
    "from Bio.PDB import PDBParser,PDBList"
   ]
  },
  {
   "cell_type": "code",
   "execution_count": 47,
   "metadata": {},
   "outputs": [],
   "source": [
    "#help(PDBList)"
   ]
  },
  {
   "cell_type": "code",
   "execution_count": 48,
   "metadata": {},
   "outputs": [
    {
     "name": "stdout",
     "output_type": "stream",
     "text": [
      "Downloading PDB structure '7byr'...\n"
     ]
    },
    {
     "data": {
      "text/plain": [
       "'dir/pdb7byr.ent'"
      ]
     },
     "execution_count": 48,
     "metadata": {},
     "output_type": "execute_result"
    }
   ],
   "source": [
    "pdbl=PDBList()\n",
    "pdbl.retrieve_pdb_file('7BYR', file_format='pdb', pdir='dir')"
   ]
  },
  {
   "cell_type": "code",
   "execution_count": 49,
   "metadata": {
    "scrolled": true
   },
   "outputs": [],
   "source": [
    "parser = PDBParser()\n",
    "structure = parser.get_structure('7BYR', 'dir/pdb7byr.ent')"
   ]
  },
  {
   "cell_type": "code",
   "execution_count": 50,
   "metadata": {},
   "outputs": [
    {
     "name": "stdout",
     "output_type": "stream",
     "text": [
      "chainid: A\n",
      "chainid: B\n",
      "chainid: C\n",
      "chainid: H\n",
      "chainid: L\n",
      "chainid: D\n",
      "chainid: E\n",
      "chainid: F\n",
      "chainid: G\n",
      "chainid: I\n",
      "chainid: J\n"
     ]
    }
   ],
   "source": [
    "for chain in structure[0]:\n",
    "    print(f\"chainid: {chain.id}\")"
   ]
  },
  {
   "cell_type": "code",
   "execution_count": 51,
   "metadata": {},
   "outputs": [
    {
     "data": {
      "text/plain": [
       "3.84"
      ]
     },
     "execution_count": 51,
     "metadata": {},
     "output_type": "execute_result"
    }
   ],
   "source": [
    "resolution = structure.header[\"resolution\"]\n",
    "resolution"
   ]
  },
  {
   "cell_type": "code",
   "execution_count": 52,
   "metadata": {},
   "outputs": [
    {
     "data": {
      "text/plain": [
       "'sars-cov-2, antigen, rbd, neutralizing antibody, viral protein'"
      ]
     },
     "execution_count": 52,
     "metadata": {},
     "output_type": "execute_result"
    }
   ],
   "source": [
    "keywords = structure.header[\"keywords\"]\n",
    "keywords"
   ]
  },
  {
   "cell_type": "markdown",
   "metadata": {},
   "source": [
    "------------------------------------------------------"
   ]
  },
  {
   "cell_type": "markdown",
   "metadata": {},
   "source": [
    "# 4. EXPASY"
   ]
  },
  {
   "cell_type": "markdown",
   "metadata": {},
   "source": [
    "## 4.1. PROSITE"
   ]
  },
  {
   "cell_type": "markdown",
   "metadata": {},
   "source": [
    "### Import Modules"
   ]
  },
  {
   "cell_type": "code",
   "execution_count": 53,
   "metadata": {},
   "outputs": [],
   "source": [
    "from Bio import ExPASy\n",
    "from Bio.ExPASy import Prosite"
   ]
  },
  {
   "cell_type": "code",
   "execution_count": 55,
   "metadata": {},
   "outputs": [],
   "source": [
    "#help(Prosite)"
   ]
  },
  {
   "cell_type": "code",
   "execution_count": 56,
   "metadata": {},
   "outputs": [],
   "source": [
    "handle = ExPASy.get_prosite_raw('PS51442')\n",
    "record = Prosite.read(handle)"
   ]
  },
  {
   "cell_type": "code",
   "execution_count": 57,
   "metadata": {
    "scrolled": false
   },
   "outputs": [
    {
     "name": "stdout",
     "output_type": "stream",
     "text": [
      "Coronavirus main protease (M-pro) domain profile.\n"
     ]
    }
   ],
   "source": [
    "print(record.description)"
   ]
  },
  {
   "cell_type": "code",
   "execution_count": 66,
   "metadata": {},
   "outputs": [
    {
     "name": "stdout",
     "output_type": "stream",
     "text": [
      "[]\n"
     ]
    }
   ],
   "source": [
    "print(record.pdb_structs[:10])"
   ]
  },
  {
   "cell_type": "code",
   "execution_count": 61,
   "metadata": {},
   "outputs": [
    {
     "name": "stdout",
     "output_type": "stream",
     "text": [
      "N-{P}-[ST]-{P}.\n"
     ]
    }
   ],
   "source": [
    "handle = ExPASy.get_prosite_raw('PS00001')\n",
    "record = Prosite.read(handle)\n",
    "print(record.pattern)"
   ]
  },
  {
   "cell_type": "markdown",
   "metadata": {},
   "source": [
    "## 4.2. ScanProsite"
   ]
  },
  {
   "cell_type": "markdown",
   "metadata": {},
   "source": [
    "### Import Modules"
   ]
  },
  {
   "cell_type": "code",
   "execution_count": 67,
   "metadata": {},
   "outputs": [],
   "source": [
    "from Bio.ExPASy import ScanProsite"
   ]
  },
  {
   "cell_type": "code",
   "execution_count": 68,
   "metadata": {},
   "outputs": [
    {
     "data": {
      "text/plain": [
       "258"
      ]
     },
     "execution_count": 68,
     "metadata": {},
     "output_type": "execute_result"
    }
   ],
   "source": [
    "prot_record = SeqIO.read(\"prot_seq.fasta\", format=\"fasta\")\n",
    "len(prot_record.seq)"
   ]
  },
  {
   "cell_type": "code",
   "execution_count": 69,
   "metadata": {},
   "outputs": [],
   "source": [
    "handle = ScanProsite.scan(seq=prot_record.seq, mirror=\"https://prosite.expasy.org/\")\n",
    "result = ScanProsite.read(handle)"
   ]
  },
  {
   "cell_type": "code",
   "execution_count": 70,
   "metadata": {},
   "outputs": [
    {
     "data": {
      "text/plain": [
       "1"
      ]
     },
     "execution_count": 70,
     "metadata": {},
     "output_type": "execute_result"
    }
   ],
   "source": [
    "result.n_match"
   ]
  },
  {
   "cell_type": "code",
   "execution_count": 71,
   "metadata": {},
   "outputs": [
    {
     "data": {
      "text/plain": [
       "{'sequence_ac': 'USERSEQ1',\n",
       " 'start': 1,\n",
       " 'stop': 118,\n",
       " 'signature_ac': 'PS51921',\n",
       " 'score': '32.871',\n",
       " 'level': '0'}"
      ]
     },
     "execution_count": 71,
     "metadata": {},
     "output_type": "execute_result"
    }
   ],
   "source": [
    "result[0]"
   ]
  },
  {
   "cell_type": "markdown",
   "metadata": {},
   "source": [
    "------------------------------------------------------"
   ]
  },
  {
   "cell_type": "markdown",
   "metadata": {},
   "source": [
    "# 5. KEGG"
   ]
  },
  {
   "cell_type": "markdown",
   "metadata": {},
   "source": [
    "### Import Modules"
   ]
  },
  {
   "cell_type": "code",
   "execution_count": 72,
   "metadata": {},
   "outputs": [],
   "source": [
    "from Bio.KEGG import REST, Enzyme"
   ]
  },
  {
   "cell_type": "code",
   "execution_count": 74,
   "metadata": {},
   "outputs": [],
   "source": [
    "#help(Enzyme)"
   ]
  },
  {
   "cell_type": "code",
   "execution_count": 77,
   "metadata": {},
   "outputs": [
    {
     "data": {
      "text/plain": [
       "309567"
      ]
     },
     "execution_count": 77,
     "metadata": {},
     "output_type": "execute_result"
    }
   ],
   "source": [
    "request = REST.kegg_get(\"ec:5.4.2.2\")\n",
    "open(\"ec_5.4.2.2.txt\",\"w\").write(request.read())"
   ]
  },
  {
   "cell_type": "code",
   "execution_count": 79,
   "metadata": {},
   "outputs": [
    {
     "data": {
      "text/plain": [
       "['Isomerases;',\n",
       " 'Intramolecular transferases;',\n",
       " 'Phosphotransferases (phosphomutases)']"
      ]
     },
     "execution_count": 79,
     "metadata": {},
     "output_type": "execute_result"
    }
   ],
   "source": [
    "records = Enzyme.parse(open(\"ec_5.4.2.2.txt\"))\n",
    "record = list(records)[0]\n",
    "\n",
    "record.classname"
   ]
  },
  {
   "cell_type": "code",
   "execution_count": 80,
   "metadata": {},
   "outputs": [
    {
     "data": {
      "text/plain": [
       "[('PATH', 'ec00010', 'Glycolysis / Gluconeogenesis'),\n",
       " ('PATH', 'ec00030', 'Pentose phosphate pathway'),\n",
       " ('PATH', 'ec00052', 'Galactose metabolism'),\n",
       " ('PATH', 'ec00230', 'Purine metabolism'),\n",
       " ('PATH', 'ec00500', 'Starch and sucrose metabolism'),\n",
       " ('PATH', 'ec00520', 'Amino sugar and nucleotide sugar metabolism'),\n",
       " ('PATH', 'ec00521', 'Streptomycin biosynthesis'),\n",
       " ('PATH', 'ec01100', 'Metabolic pathways'),\n",
       " ('PATH', 'ec01110', 'Biosynthesis of secondary metabolites'),\n",
       " ('PATH', 'ec01120', 'Microbial metabolism in diverse environments')]"
      ]
     },
     "execution_count": 80,
     "metadata": {},
     "output_type": "execute_result"
    }
   ],
   "source": [
    "record.pathway"
   ]
  },
  {
   "cell_type": "code",
   "execution_count": 81,
   "metadata": {},
   "outputs": [
    {
     "data": {
      "text/plain": [
       "[('HSA', ['5236', '55276']),\n",
       " ('PTR', ['456908', '461162']),\n",
       " ('PPS', ['100977295', '100993927']),\n",
       " ('GGO', ['101128874', '101131551']),\n",
       " ('PON', ['100190836', '100438793']),\n",
       " ('PPYG', ['129034752', '129035286']),\n",
       " ('NLE', ['100596081', '100600656']),\n",
       " ('HMH', ['116456694', '116457795']),\n",
       " ('SSYN', ['129458637', '129464875']),\n",
       " ('MCC', ['100424648', '699401'])]"
      ]
     },
     "execution_count": 81,
     "metadata": {},
     "output_type": "execute_result"
    }
   ],
   "source": [
    "record.genes[:10]"
   ]
  },
  {
   "cell_type": "code",
   "execution_count": 82,
   "metadata": {},
   "outputs": [
    {
     "name": "stdout",
     "output_type": "stream",
     "text": [
      "['HSA', 'PTR', 'PPS', 'GGO', 'PON', 'PPYG', 'NLE', 'HMH', 'SSYN', 'MCC']\n"
     ]
    }
   ],
   "source": [
    "list_genes = []\n",
    "\n",
    "for x,y in record.genes:\n",
    "    list_genes += x.split(\"\\n\")\n",
    "    \n",
    "print(list_genes[:10])"
   ]
  },
  {
   "cell_type": "markdown",
   "metadata": {},
   "source": [
    "------------------------------------------------------"
   ]
  }
 ],
 "metadata": {
  "kernelspec": {
   "display_name": "Python 3 (ipykernel)",
   "language": "python",
   "name": "python3"
  },
  "language_info": {
   "codemirror_mode": {
    "name": "ipython",
    "version": 3
   },
   "file_extension": ".py",
   "mimetype": "text/x-python",
   "name": "python",
   "nbconvert_exporter": "python",
   "pygments_lexer": "ipython3",
   "version": "3.10.6"
  }
 },
 "nbformat": 4,
 "nbformat_minor": 4
}
