{
 "cells": [
  {
   "cell_type": "markdown",
   "metadata": {},
   "source": [
    "# kafka handler notebook (setup + producer )"
   ]
  },
  {
   "cell_type": "code",
   "execution_count": 1,
   "metadata": {},
   "outputs": [
    {
     "name": "stdout",
     "output_type": "stream",
     "text": [
      "Requirement already satisfied: confluent-kafka in /Users/chadev/.pyenv/versions/3.10.12/lib/python3.10/site-packages (2.8.0)\n",
      "\n",
      "\u001b[1m[\u001b[0m\u001b[34;49mnotice\u001b[0m\u001b[1;39;49m]\u001b[0m\u001b[39;49m A new release of pip is available: \u001b[0m\u001b[31;49m23.0.1\u001b[0m\u001b[39;49m -> \u001b[0m\u001b[32;49m25.0.1\u001b[0m\n",
      "\u001b[1m[\u001b[0m\u001b[34;49mnotice\u001b[0m\u001b[1;39;49m]\u001b[0m\u001b[39;49m To update, run: \u001b[0m\u001b[32;49mpip install --upgrade pip\u001b[0m\n"
     ]
    }
   ],
   "source": [
    "! pip install confluent-kafka"
   ]
  },
  {
   "cell_type": "markdown",
   "metadata": {},
   "source": [
    "Add kafka install instructions here"
   ]
  },
  {
   "cell_type": "code",
   "execution_count": 2,
   "metadata": {},
   "outputs": [
    {
     "name": "stdout",
     "output_type": "stream",
     "text": [
      "kafka_2.13-3.9.0/bin/zookeeper-server-start.sh kafka_2.13-3.9.0/config/zookeeper.properties\n"
     ]
    }
   ],
   "source": [
    "KAFKA_FOLDER= \"kafka_2.13-3.9.0/\"\n",
    "\n",
    "#launch-kafka-cluster\n",
    "\n",
    "#QA-NOTE: This script must be run in the terminal window below rather than jupyter!\n",
    "! echo \"{KAFKA_FOLDER}bin/zookeeper-server-start.sh {KAFKA_FOLDER}config/zookeeper.properties\"\n"
   ]
  },
  {
   "cell_type": "code",
   "execution_count": 3,
   "metadata": {},
   "outputs": [
    {
     "name": "stdout",
     "output_type": "stream",
     "text": [
      "Classpath is empty. Please build the project first e.g. by running './gradlew jar -PscalaVersion=2.13.14'\n"
     ]
    }
   ],
   "source": [
    "# create topic \"ecommerce_topic\"\n",
    "#QA-NOTE: need directory prepended here as well\n",
    "! {KAFKA_FOLDER}bin/kafka-topics.sh --create --topic ecommerce_topic --bootstrap-server localhost:9092 --replication-factor 1 --partitions 1  \n",
    "    \n"
   ]
  },
  {
   "cell_type": "code",
   "execution_count": 4,
   "metadata": {},
   "outputs": [
    {
     "name": "stdout",
     "output_type": "stream",
     "text": [
      "Classpath is empty. Please build the project first e.g. by running './gradlew jar -PscalaVersion=2.13.14'\n"
     ]
    }
   ],
   "source": [
    "#launch-kafka-producer\n",
    "! kafka_2.13-3.9.0/bin/kafka-console-producer.sh --topic ecommerce_topic --bootstrap-server localhost:9092\n"
   ]
  },
  {
   "cell_type": "markdown",
   "metadata": {},
   "source": [
    "#this is an example of data \n",
    "{\"transaction_id\": \"T12345\", \"user_id\": \"U56789\", \"amount\": 250.0, \"timestamp\": \"2024-12-05T15:30:00Z\"}\n"
   ]
  },
  {
   "cell_type": "code",
   "execution_count": 5,
   "metadata": {},
   "outputs": [
    {
     "name": "stdout",
     "output_type": "stream",
     "text": [
      "zsh:1: no such file or directory: bin/kafka-console-consumer.sh\n"
     ]
    }
   ],
   "source": [
    "#launch-kafka-consumer\n",
    "! bin/kafka-console-consumer.sh --topic ecommerce_topic --from-beginning --bootstrap-server localhost:9092\n"
   ]
  },
  {
   "cell_type": "markdown",
   "metadata": {},
   "source": [
    "# Kafka producer for the main project : "
   ]
  },
  {
   "cell_type": "code",
   "execution_count": null,
   "metadata": {},
   "outputs": [
    {
     "name": "stdout",
     "output_type": "stream",
     "text": [
      "Sent: {'transaction_id': 'T55316', 'user_id': 'U5813', 'amount': 880.25, 'timestamp': '2025-02-17T14:38:10Z'}\n"
     ]
    },
    {
     "name": "stderr",
     "output_type": "stream",
     "text": [
      "%3|1739803090.457|FAIL|rdkafka#producer-1| [thrd:localhost:9092/bootstrap]: localhost:9092/bootstrap: Connect to ipv4#127.0.0.1:9092 failed: Connection refused (after 0ms in state CONNECT)\n",
      "%3|1739803091.460|FAIL|rdkafka#producer-1| [thrd:localhost:9092/bootstrap]: localhost:9092/bootstrap: Connect to ipv4#127.0.0.1:9092 failed: Connection refused (after 0ms in state CONNECT, 1 identical error(s) suppressed)\n",
      "%3|1739803092.463|FAIL|rdkafka#producer-1| [thrd:localhost:9092/bootstrap]: localhost:9092/bootstrap: Connect to ipv6#[::1]:9092 failed: Connection refused (after 1ms in state CONNECT)\n",
      "%3|1739803096.474|FAIL|rdkafka#producer-1| [thrd:localhost:9092/bootstrap]: localhost:9092/bootstrap: Connect to ipv4#127.0.0.1:9092 failed: Connection refused (after 0ms in state CONNECT)\n",
      "%3|1739803098.482|FAIL|rdkafka#producer-1| [thrd:localhost:9092/bootstrap]: localhost:9092/bootstrap: Connect to ipv6#[::1]:9092 failed: Connection refused (after 0ms in state CONNECT)\n",
      "%3|1739803099.486|FAIL|rdkafka#producer-1| [thrd:localhost:9092/bootstrap]: localhost:9092/bootstrap: Connect to ipv4#127.0.0.1:9092 failed: Connection refused (after 0ms in state CONNECT)\n",
      "%3|1739803100.488|FAIL|rdkafka#producer-1| [thrd:localhost:9092/bootstrap]: localhost:9092/bootstrap: Connect to ipv6#[::1]:9092 failed: Connection refused (after 1ms in state CONNECT)\n",
      "%3|1739803102.495|FAIL|rdkafka#producer-1| [thrd:localhost:9092/bootstrap]: localhost:9092/bootstrap: Connect to ipv4#127.0.0.1:9092 failed: Connection refused (after 0ms in state CONNECT)\n",
      "%3|1739803105.508|FAIL|rdkafka#producer-1| [thrd:localhost:9092/bootstrap]: localhost:9092/bootstrap: Connect to ipv6#[::1]:9092 failed: Connection refused (after 0ms in state CONNECT)\n",
      "%3|1739803110.520|FAIL|rdkafka#producer-1| [thrd:localhost:9092/bootstrap]: localhost:9092/bootstrap: Connect to ipv4#127.0.0.1:9092 failed: Connection refused (after 0ms in state CONNECT)\n",
      "%3|1739803111.524|FAIL|rdkafka#producer-1| [thrd:localhost:9092/bootstrap]: localhost:9092/bootstrap: Connect to ipv6#[::1]:9092 failed: Connection refused (after 0ms in state CONNECT)\n",
      "%3|1739803112.529|FAIL|rdkafka#producer-1| [thrd:localhost:9092/bootstrap]: localhost:9092/bootstrap: Connect to ipv4#127.0.0.1:9092 failed: Connection refused (after 0ms in state CONNECT)\n",
      "%3|1739803113.533|FAIL|rdkafka#producer-1| [thrd:localhost:9092/bootstrap]: localhost:9092/bootstrap: Connect to ipv6#[::1]:9092 failed: Connection refused (after 1ms in state CONNECT)\n",
      "%3|1739803118.551|FAIL|rdkafka#producer-1| [thrd:localhost:9092/bootstrap]: localhost:9092/bootstrap: Connect to ipv4#127.0.0.1:9092 failed: Connection refused (after 1ms in state CONNECT)\n",
      "%3|1739803120.559|FAIL|rdkafka#producer-1| [thrd:localhost:9092/bootstrap]: localhost:9092/bootstrap: Connect to ipv6#[::1]:9092 failed: Connection refused (after 1ms in state CONNECT)\n",
      "%3|1739803121.562|FAIL|rdkafka#producer-1| [thrd:localhost:9092/bootstrap]: localhost:9092/bootstrap: Connect to ipv6#[::1]:9092 failed: Connection refused (after 0ms in state CONNECT, 1 identical error(s) suppressed)\n",
      "%3|1739803122.565|FAIL|rdkafka#producer-1| [thrd:localhost:9092/bootstrap]: localhost:9092/bootstrap: Connect to ipv4#127.0.0.1:9092 failed: Connection refused (after 1ms in state CONNECT)\n",
      "%3|1739803127.583|FAIL|rdkafka#producer-1| [thrd:localhost:9092/bootstrap]: localhost:9092/bootstrap: Connect to ipv6#[::1]:9092 failed: Connection refused (after 0ms in state CONNECT)\n",
      "%3|1739803128.588|FAIL|rdkafka#producer-1| [thrd:localhost:9092/bootstrap]: localhost:9092/bootstrap: Connect to ipv4#127.0.0.1:9092 failed: Connection refused (after 0ms in state CONNECT)\n",
      "%3|1739803130.595|FAIL|rdkafka#producer-1| [thrd:localhost:9092/bootstrap]: localhost:9092/bootstrap: Connect to ipv6#[::1]:9092 failed: Connection refused (after 0ms in state CONNECT)\n",
      "%3|1739803134.621|FAIL|rdkafka#producer-1| [thrd:localhost:9092/bootstrap]: localhost:9092/bootstrap: Connect to ipv4#127.0.0.1:9092 failed: Connection refused (after 0ms in state CONNECT)\n",
      "%3|1739803137.635|FAIL|rdkafka#producer-1| [thrd:localhost:9092/bootstrap]: localhost:9092/bootstrap: Connect to ipv6#[::1]:9092 failed: Connection refused (after 0ms in state CONNECT)\n",
      "%3|1739803138.636|FAIL|rdkafka#producer-1| [thrd:localhost:9092/bootstrap]: localhost:9092/bootstrap: Connect to ipv4#127.0.0.1:9092 failed: Connection refused (after 0ms in state CONNECT)\n",
      "%3|1739803140.644|FAIL|rdkafka#producer-1| [thrd:localhost:9092/bootstrap]: localhost:9092/bootstrap: Connect to ipv6#[::1]:9092 failed: Connection refused (after 0ms in state CONNECT)\n",
      "%3|1739803141.646|FAIL|rdkafka#producer-1| [thrd:localhost:9092/bootstrap]: localhost:9092/bootstrap: Connect to ipv4#127.0.0.1:9092 failed: Connection refused (after 0ms in state CONNECT)\n",
      "%3|1739803143.652|FAIL|rdkafka#producer-1| [thrd:localhost:9092/bootstrap]: localhost:9092/bootstrap: Connect to ipv6#[::1]:9092 failed: Connection refused (after 0ms in state CONNECT)\n",
      "%3|1739803146.655|FAIL|rdkafka#producer-1| [thrd:localhost:9092/bootstrap]: localhost:9092/bootstrap: Connect to ipv4#127.0.0.1:9092 failed: Connection refused (after 0ms in state CONNECT)\n",
      "%3|1739803147.660|FAIL|rdkafka#producer-1| [thrd:localhost:9092/bootstrap]: localhost:9092/bootstrap: Connect to ipv6#[::1]:9092 failed: Connection refused (after 1ms in state CONNECT)\n",
      "%3|1739803148.664|FAIL|rdkafka#producer-1| [thrd:localhost:9092/bootstrap]: localhost:9092/bootstrap: Connect to ipv4#127.0.0.1:9092 failed: Connection refused (after 1ms in state CONNECT)\n",
      "%3|1739803149.668|FAIL|rdkafka#producer-1| [thrd:localhost:9092/bootstrap]: localhost:9092/bootstrap: Connect to ipv6#[::1]:9092 failed: Connection refused (after 0ms in state CONNECT)\n",
      "%3|1739803150.672|FAIL|rdkafka#producer-1| [thrd:localhost:9092/bootstrap]: localhost:9092/bootstrap: Connect to ipv4#127.0.0.1:9092 failed: Connection refused (after 0ms in state CONNECT)\n",
      "%3|1739803151.677|FAIL|rdkafka#producer-1| [thrd:localhost:9092/bootstrap]: localhost:9092/bootstrap: Connect to ipv4#127.0.0.1:9092 failed: Connection refused (after 1ms in state CONNECT, 1 identical error(s) suppressed)\n",
      "%3|1739803153.684|FAIL|rdkafka#producer-1| [thrd:localhost:9092/bootstrap]: localhost:9092/bootstrap: Connect to ipv6#[::1]:9092 failed: Connection refused (after 0ms in state CONNECT)\n",
      "%3|1739803163.717|FAIL|rdkafka#producer-1| [thrd:localhost:9092/bootstrap]: localhost:9092/bootstrap: Connect to ipv4#127.0.0.1:9092 failed: Connection refused (after 0ms in state CONNECT)\n",
      "%3|1739803164.719|FAIL|rdkafka#producer-1| [thrd:localhost:9092/bootstrap]: localhost:9092/bootstrap: Connect to ipv6#[::1]:9092 failed: Connection refused (after 0ms in state CONNECT)\n",
      "%3|1739803165.722|FAIL|rdkafka#producer-1| [thrd:localhost:9092/bootstrap]: localhost:9092/bootstrap: Connect to ipv4#127.0.0.1:9092 failed: Connection refused (after 0ms in state CONNECT)\n",
      "%3|1739803170.736|FAIL|rdkafka#producer-1| [thrd:localhost:9092/bootstrap]: localhost:9092/bootstrap: Connect to ipv6#[::1]:9092 failed: Connection refused (after 0ms in state CONNECT)\n",
      "%3|1739803171.738|FAIL|rdkafka#producer-1| [thrd:localhost:9092/bootstrap]: localhost:9092/bootstrap: Connect to ipv4#127.0.0.1:9092 failed: Connection refused (after 0ms in state CONNECT)\n",
      "%3|1739803173.746|FAIL|rdkafka#producer-1| [thrd:localhost:9092/bootstrap]: localhost:9092/bootstrap: Connect to ipv6#[::1]:9092 failed: Connection refused (after 0ms in state CONNECT)\n",
      "%3|1739803174.748|FAIL|rdkafka#producer-1| [thrd:localhost:9092/bootstrap]: localhost:9092/bootstrap: Connect to ipv4#127.0.0.1:9092 failed: Connection refused (after 0ms in state CONNECT)\n",
      "%3|1739803175.752|FAIL|rdkafka#producer-1| [thrd:localhost:9092/bootstrap]: localhost:9092/bootstrap: Connect to ipv6#[::1]:9092 failed: Connection refused (after 0ms in state CONNECT)\n",
      "%3|1739803177.757|FAIL|rdkafka#producer-1| [thrd:localhost:9092/bootstrap]: localhost:9092/bootstrap: Connect to ipv4#127.0.0.1:9092 failed: Connection refused (after 0ms in state CONNECT)\n",
      "%3|1739803180.764|FAIL|rdkafka#producer-1| [thrd:localhost:9092/bootstrap]: localhost:9092/bootstrap: Connect to ipv6#[::1]:9092 failed: Connection refused (after 0ms in state CONNECT)\n",
      "%3|1739803181.770|FAIL|rdkafka#producer-1| [thrd:localhost:9092/bootstrap]: localhost:9092/bootstrap: Connect to ipv4#127.0.0.1:9092 failed: Connection refused (after 1ms in state CONNECT)\n",
      "%3|1739803182.772|FAIL|rdkafka#producer-1| [thrd:localhost:9092/bootstrap]: localhost:9092/bootstrap: Connect to ipv6#[::1]:9092 failed: Connection refused (after 0ms in state CONNECT)\n",
      "%3|1739803183.775|FAIL|rdkafka#producer-1| [thrd:localhost:9092/bootstrap]: localhost:9092/bootstrap: Connect to ipv6#[::1]:9092 failed: Connection refused (after 0ms in state CONNECT, 1 identical error(s) suppressed)\n",
      "%3|1739803184.780|FAIL|rdkafka#producer-1| [thrd:localhost:9092/bootstrap]: localhost:9092/bootstrap: Connect to ipv4#127.0.0.1:9092 failed: Connection refused (after 0ms in state CONNECT)\n",
      "%3|1739803186.790|FAIL|rdkafka#producer-1| [thrd:localhost:9092/bootstrap]: localhost:9092/bootstrap: Connect to ipv6#[::1]:9092 failed: Connection refused (after 0ms in state CONNECT)\n",
      "%3|1739803189.797|FAIL|rdkafka#producer-1| [thrd:localhost:9092/bootstrap]: localhost:9092/bootstrap: Connect to ipv4#127.0.0.1:9092 failed: Connection refused (after 0ms in state CONNECT)\n",
      "%3|1739803191.803|FAIL|rdkafka#producer-1| [thrd:localhost:9092/bootstrap]: localhost:9092/bootstrap: Connect to ipv6#[::1]:9092 failed: Connection refused (after 0ms in state CONNECT)\n",
      "%3|1739803192.806|FAIL|rdkafka#producer-1| [thrd:localhost:9092/bootstrap]: localhost:9092/bootstrap: Connect to ipv4#127.0.0.1:9092 failed: Connection refused (after 0ms in state CONNECT)\n",
      "%3|1739803193.807|FAIL|rdkafka#producer-1| [thrd:localhost:9092/bootstrap]: localhost:9092/bootstrap: Connect to ipv6#[::1]:9092 failed: Connection refused (after 0ms in state CONNECT)\n",
      "%3|1739803194.811|FAIL|rdkafka#producer-1| [thrd:localhost:9092/bootstrap]: localhost:9092/bootstrap: Connect to ipv4#127.0.0.1:9092 failed: Connection refused (after 0ms in state CONNECT)\n",
      "%3|1739803197.817|FAIL|rdkafka#producer-1| [thrd:localhost:9092/bootstrap]: localhost:9092/bootstrap: Connect to ipv6#[::1]:9092 failed: Connection refused (after 1ms in state CONNECT)\n",
      "%3|1739803199.822|FAIL|rdkafka#producer-1| [thrd:localhost:9092/bootstrap]: localhost:9092/bootstrap: Connect to ipv4#127.0.0.1:9092 failed: Connection refused (after 0ms in state CONNECT)\n",
      "%3|1739803200.823|FAIL|rdkafka#producer-1| [thrd:localhost:9092/bootstrap]: localhost:9092/bootstrap: Connect to ipv6#[::1]:9092 failed: Connection refused (after 0ms in state CONNECT)\n",
      "%3|1739803203.832|FAIL|rdkafka#producer-1| [thrd:localhost:9092/bootstrap]: localhost:9092/bootstrap: Connect to ipv4#127.0.0.1:9092 failed: Connection refused (after 0ms in state CONNECT)\n",
      "%3|1739803204.837|FAIL|rdkafka#producer-1| [thrd:localhost:9092/bootstrap]: localhost:9092/bootstrap: Connect to ipv6#[::1]:9092 failed: Connection refused (after 1ms in state CONNECT)\n",
      "%3|1739803206.842|FAIL|rdkafka#producer-1| [thrd:localhost:9092/bootstrap]: localhost:9092/bootstrap: Connect to ipv4#127.0.0.1:9092 failed: Connection refused (after 0ms in state CONNECT)\n",
      "%3|1739803207.846|FAIL|rdkafka#producer-1| [thrd:localhost:9092/bootstrap]: localhost:9092/bootstrap: Connect to ipv6#[::1]:9092 failed: Connection refused (after 1ms in state CONNECT)\n"
     ]
    }
   ],
   "source": [
    "from confluent_kafka import Producer\n",
    "import json\n",
    "import time\n",
    "import random\n",
    "from datetime import datetime\n",
    "\n",
    "# Kafka producer configuration\n",
    "producer = Producer({\n",
    "    'bootstrap.servers': 'localhost:9092'\n",
    "})\n",
    "\n",
    "# Function to generate fake transaction data\n",
    "def generate_fake_transaction():\n",
    "    transaction_id = f\"T{random.randint(10000, 99999)}\"\n",
    "    user_id = f\"U{random.randint(1000, 9999)}\"\n",
    "    amount = round(random.uniform(10.0, 1000.0), 2)\n",
    "    timestamp = datetime.utcnow().strftime(\"%Y-%m-%dT%H:%M:%SZ\")\n",
    "    return {\n",
    "        \"transaction_id\": transaction_id,\n",
    "        \"user_id\": user_id,\n",
    "        \"amount\": amount,\n",
    "        \"timestamp\": timestamp\n",
    "    }\n",
    "\n",
    "try:\n",
    "    while True:\n",
    "        # Generate a fake transaction\n",
    "        fake_transaction = generate_fake_transaction()\n",
    "\n",
    "        # Send the transaction to the Kafka topic\n",
    "        producer.produce('ecommerce_topic', value=json.dumps(fake_transaction))\n",
    "        print(f\"Sent: {fake_transaction}\")\n",
    "\n",
    "        # Ensure all messages are sent\n",
    "        producer.flush()\n",
    "\n",
    "        # Wait 5 seconds before sending the next event\n",
    "        time.sleep(5)\n",
    "\n",
    "except KeyboardInterrupt:\n",
    "    print(\"\\nStopping the producer...\")\n"
   ]
  },
  {
   "cell_type": "markdown",
   "metadata": {},
   "source": [
    "# use this fake data generator for practice task :\n"
   ]
  },
  {
   "cell_type": "code",
   "execution_count": null,
   "metadata": {},
   "outputs": [],
   "source": [
    "from confluent_kafka import Producer\n",
    "import json\n",
    "import time\n",
    "import random\n",
    "from datetime import datetime\n",
    "\n",
    "\n",
    "# Kafka producer configuration\n",
    "producer = Producer({\n",
    "    'bootstrap.servers': 'localhost:9092'\n",
    "})\n",
    "\n",
    "# Function to generate fake transaction data\n",
    "def generate_fake_transaction():\n",
    "    transaction_id = f\"T{random.randint(10000, 99999)}\"\n",
    "    user_id = [f\"U{random.randint(1000, 1005)}\" for _ in range(5)]  # A limited set of user IDs\n",
    "    # Generate a higher proportion of transactions above $300\n",
    "    amount = round(random.uniform(100.0, 1200.0), 2)\n",
    "    timestamp = datetime.utcnow().strftime(\"%Y-%m-%d %H:%M:%S\")\n",
    "    return {\n",
    "        \"transaction_id\": transaction_id,\n",
    "        \"user_id\": user_id,\n",
    "        \"amount\": amount,\n",
    "        \"timestamp\": timestamp\n",
    "    }\n",
    "\n",
    "# Generate and send transactions\n",
    "print(\"Starting to send fake transactions to Kafka...\")\n",
    "try:\n",
    "    while True:\n",
    "        # Generate a fake transaction\n",
    "        fake_transaction = generate_fake_transaction()\n",
    "\n",
    "        # Send the transaction to the Kafka topic\n",
    "        producer.produce('ecommerce_topic', value=json.dumps(fake_transaction))\n",
    "        print(f\"Sent: {fake_transaction}\")\n",
    "\n",
    "        # Ensure all messages are sent\n",
    "        producer.flush()\n",
    "\n",
    "        time.sleep(random.uniform(0.5, 2))  # Random delay to simulate streaming\n",
    "\n",
    "except KeyboardInterrupt:\n",
    "    print(\"\\nStopping the producer...\")\n",
    "finally:\n",
    "    producer.close()\n"
   ]
  },
  {
   "cell_type": "markdown",
   "metadata": {},
   "source": [
    "# use this fake data generator for  task 4 :\n"
   ]
  },
  {
   "cell_type": "code",
   "execution_count": null,
   "metadata": {},
   "outputs": [],
   "source": [
    "from confluent_kafka import Producer\n",
    "import json\n",
    "import time\n",
    "import random\n",
    "from datetime import datetime\n",
    "\n",
    "\n",
    "# Kafka producer configuration\n",
    "producer = Producer({\n",
    "    'bootstrap.servers': 'localhost:9092'\n",
    "})\n",
    "\n",
    "# Function to generate fake transaction data\n",
    "def generate_fake_transaction():\n",
    "    transaction_id = f\"T{random.randint(10000, 99999)}\"\n",
    "    user_id = f\"U{random.randint(1000, 1020)}\"  # Small range to allow grouping by user_id\n",
    "    amount = round(random.uniform(5000.0, 15000.0), 2)  # Ensure some transactions are >10,000\n",
    "    timestamp = datetime.utcnow().strftime(\"%Y-%m-%d %H:%M:%S\")\n",
    "    return {\n",
    "        \"transaction_id\": transaction_id,\n",
    "        \"user_id\": user_id,\n",
    "        \"amount\": amount,\n",
    "        \"timestamp\": timestamp\n",
    "    }\n",
    "\n",
    "# Generate and send transactions\n",
    "print(\"Starting to send fake transactions to Kafka...\")\n",
    "try:\n",
    "    while True:\n",
    "        # Generate a fake transaction\n",
    "        fake_transaction = generate_fake_transaction()\n",
    "\n",
    "        # Send the transaction to the Kafka topic\n",
    "        producer.produce('ecommerce_topic', value=json.dumps(fake_transaction))\n",
    "        print(f\"Sent: {fake_transaction}\")\n",
    "\n",
    "        # Ensure all messages are sent\n",
    "        producer.flush()\n",
    "\n",
    "        time.sleep(random.uniform(0.5, 2))  # Random delay to simulate streaming\n",
    "\n",
    "except KeyboardInterrupt:\n",
    "    print(\"\\nStopping the producer...\")\n",
    "finally:\n",
    "    producer.close()\n"
   ]
  },
  {
   "cell_type": "markdown",
   "metadata": {},
   "source": [
    "# use this fake data generator for cumulative task :\n"
   ]
  },
  {
   "cell_type": "code",
   "execution_count": null,
   "metadata": {},
   "outputs": [],
   "source": [
    "def generate_fake_transaction():\n",
    "    transaction_id = f\"T{random.randint(10000, 99999)}\"\n",
    "    user_id = f\"U{random.randint(1000, 9999)}\"\n",
    "    \n",
    "    # Randomly assign some transactions as potentially fraudulent\n",
    "    amount = round(random.uniform(10.0, 15000.0), 2)\n",
    "    \n",
    "    # Introduce occasional late or out-of-order timestamps\n",
    "    delay = random.choice([0, -5, -10])  # Real-time, -5 minutes, -10 minutes\n",
    "    timestamp = (datetime.utcnow() + timedelta(minutes=delay)).strftime(\"%Y-%m-%dT%H:%M:%SZ\")\n",
    "    \n",
    "    return {\n",
    "        \"transaction_id\": transaction_id,\n",
    "        \"user_id\": user_id,\n",
    "        \"amount\": amount,\n",
    "        \"timestamp\": timestamp\n",
    "    }"
   ]
  }
 ],
 "metadata": {
  "kernelspec": {
   "display_name": "Python 3",
   "language": "python",
   "name": "python3"
  },
  "language_info": {
   "codemirror_mode": {
    "name": "ipython",
    "version": 3
   },
   "file_extension": ".py",
   "mimetype": "text/x-python",
   "name": "python",
   "nbconvert_exporter": "python",
   "pygments_lexer": "ipython3",
   "version": "3.10.12"
  }
 },
 "nbformat": 4,
 "nbformat_minor": 2
}
