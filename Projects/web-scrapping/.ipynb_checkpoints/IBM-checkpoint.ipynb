{
 "cells": [
  {
   "cell_type": "markdown",
   "id": "30407914-6c36-4aa7-889d-8f4feae97041",
   "metadata": {},
   "source": [
    "### Step 1: Install Required Libraries"
   ]
  },
  {
   "cell_type": "code",
   "execution_count": null,
   "id": "4b9b9e99-ad9a-4543-9264-b1b623e971d6",
   "metadata": {},
   "outputs": [],
   "source": [
    "!pip install requests beautifulsoup4 selenium"
   ]
  },
  {
   "cell_type": "markdown",
   "id": "c9799035-880f-4f8a-a51d-f73c327afbba",
   "metadata": {},
   "source": [
    "### Step 2: Import Libraries"
   ]
  },
  {
   "cell_type": "code",
   "execution_count": 11,
   "id": "17769073-f858-46af-b186-e8a4485e3716",
   "metadata": {},
   "outputs": [
    {
     "ename": "ModuleNotFoundError",
     "evalue": "No module named 'webdriver_manager'",
     "output_type": "error",
     "traceback": [
      "\u001b[0;31m---------------------------------------------------------------------------\u001b[0m",
      "\u001b[0;31mModuleNotFoundError\u001b[0m                       Traceback (most recent call last)",
      "Cell \u001b[0;32mIn[11], line 5\u001b[0m\n\u001b[1;32m      3\u001b[0m \u001b[38;5;28;01mfrom\u001b[39;00m \u001b[38;5;21;01mselenium\u001b[39;00m\u001b[38;5;21;01m.\u001b[39;00m\u001b[38;5;21;01mwebdriver\u001b[39;00m\u001b[38;5;21;01m.\u001b[39;00m\u001b[38;5;21;01msupport\u001b[39;00m\u001b[38;5;21;01m.\u001b[39;00m\u001b[38;5;21;01mui\u001b[39;00m \u001b[38;5;28;01mimport\u001b[39;00m WebDriverWait\n\u001b[1;32m      4\u001b[0m \u001b[38;5;28;01mfrom\u001b[39;00m \u001b[38;5;21;01mselenium\u001b[39;00m\u001b[38;5;21;01m.\u001b[39;00m\u001b[38;5;21;01mwebdriver\u001b[39;00m\u001b[38;5;21;01m.\u001b[39;00m\u001b[38;5;21;01msupport\u001b[39;00m \u001b[38;5;28;01mimport\u001b[39;00m expected_conditions \u001b[38;5;28;01mas\u001b[39;00m EC\n\u001b[0;32m----> 5\u001b[0m \u001b[38;5;28;01mfrom\u001b[39;00m \u001b[38;5;21;01mwebdriver_manager\u001b[39;00m\u001b[38;5;21;01m.\u001b[39;00m\u001b[38;5;21;01mchrome\u001b[39;00m \u001b[38;5;28;01mimport\u001b[39;00m ChromeDriverManager\n\u001b[1;32m      6\u001b[0m \u001b[38;5;28;01mfrom\u001b[39;00m \u001b[38;5;21;01mbs4\u001b[39;00m \u001b[38;5;28;01mimport\u001b[39;00m BeautifulSoup\n\u001b[1;32m      7\u001b[0m \u001b[38;5;28;01mimport\u001b[39;00m \u001b[38;5;21;01mpandas\u001b[39;00m \u001b[38;5;28;01mas\u001b[39;00m \u001b[38;5;21;01mpd\u001b[39;00m\n",
      "\u001b[0;31mModuleNotFoundError\u001b[0m: No module named 'webdriver_manager'"
     ]
    }
   ],
   "source": [
    "from selenium import webdriver\n",
    "from selenium.webdriver.common.by import By\n",
    "from selenium.webdriver.support.ui import WebDriverWait\n",
    "from selenium.webdriver.support import expected_conditions as EC\n",
    "from webdriver_manager.chrome import ChromeDriverManager\n",
    "from bs4 import BeautifulSoup\n",
    "import pandas as pd\n",
    "import time"
   ]
  },
  {
   "cell_type": "markdown",
   "id": "ca7b6407-76b9-4ea5-bf57-d2d87a971d8b",
   "metadata": {},
   "source": [
    "### Step 3: Set Up Selenium WebDriver"
   ]
  },
  {
   "cell_type": "code",
   "execution_count": null,
   "id": "9c52779e-1e06-4f49-8bd7-2eb68d5f30c6",
   "metadata": {},
   "outputs": [],
   "source": [
    "# Make sure you have the appropriate WebDriver installed (e.g., chromedriver)\n",
    "driver = webdriver.Chrome()  # Or use another browser driver"
   ]
  },
  {
   "cell_type": "markdown",
   "id": "26969d67-e9f7-45e4-9801-0ad074490ada",
   "metadata": {},
   "source": [
    "### Step 4: Open the URL"
   ]
  },
  {
   "cell_type": "code",
   "execution_count": 3,
   "id": "0e05740b-1873-4d68-9346-697b503f2b93",
   "metadata": {
    "scrolled": true
   },
   "outputs": [],
   "source": [
    "# URL to scrape\n",
    "url = \"https://www.coursera.org/career-academy?trk_ref=globalnav\""
   ]
  },
  {
   "cell_type": "markdown",
   "id": "17fbbcce-3f06-42c4-8cd5-2049e9754624",
   "metadata": {},
   "source": [
    "### Step 5: Wait for the page to load and click the button to reveal more cards"
   ]
  },
  {
   "cell_type": "code",
   "execution_count": null,
   "id": "07640489-b3ce-4ce2-bfb8-1ee7ab5b771f",
   "metadata": {},
   "outputs": [],
   "source": [
    "# Step 4: Open the URL\n",
    "url = \"https://www.coursera.org/career-academy?trk_ref=globalnav\"\n",
    "driver.get(url)\n",
    "\n",
    "# Step 5: Wait for the page to load and click the button to reveal more cards\n",
    "try:\n",
    "    # Wait for the button to be clickable\n",
    "    button = WebDriverWait(driver, 10).until(\n",
    "        EC.element_to_be_clickable((By.CLASS_NAME, \"cds-113.cds-button-disableElevation.cds-button-primary.css-xdb2ir\"))\n",
    "    )\n",
    "    # Click the button\n",
    "    button.click()\n",
    "    print(\"Button clicked successfully!\")\n",
    "    time.sleep(3)  # Wait for the new cards to load\n",
    "except Exception as e:\n",
    "    print(f\"Failed to click the button: {e}\")"
   ]
  },
  {
   "cell_type": "markdown",
   "id": "adf6b3e1-89f9-4073-8798-9f51fae36e76",
   "metadata": {},
   "source": [
    "### Step 5: Extract Specific Data"
   ]
  },
  {
   "cell_type": "code",
   "execution_count": null,
   "id": "0ffcc2fb-977c-4b5d-a879-a70865f006db",
   "metadata": {
    "scrolled": true
   },
   "outputs": [],
   "source": [
    "# Step 6: Extract the Course Titles\n",
    "# Get the updated page source after clicking the button\n",
    "page_source = driver.page_source\n",
    "soup = BeautifulSoup(page_source, 'html.parser')"
   ]
  },
  {
   "cell_type": "code",
   "execution_count": null,
   "id": "fdfadbed-2a32-43a2-83dc-2d8753163f34",
   "metadata": {},
   "outputs": [],
   "source": [
    "# Find all course cards\n",
    "course_cards = soup.find_all('div', class_='css-11rg2nu')"
   ]
  },
  {
   "cell_type": "code",
   "execution_count": null,
   "id": "8459018d-df60-4134-83bd-aa1a0e6c05eb",
   "metadata": {},
   "outputs": [],
   "source": [
    "print(len(course_cards))"
   ]
  },
  {
   "cell_type": "code",
   "execution_count": null,
   "id": "e0af4a33-e981-42dd-af00-1b5893bf9a42",
   "metadata": {},
   "outputs": [],
   "source": [
    "# Extract details from each card\n",
    "data = []\n",
    "for card in course_cards:\n",
    "    # Extract title\n",
    "    title = card.find('h2', class_='cds-122 cds-Typography-base css-bbd009 cds-124')\n",
    "    title_text = title.text.strip() if title else \"N/A\"\n",
    "\n",
    "    # Extract description\n",
    "    description = card.find('p', class_=' css-4s48ix')\n",
    "    description_text = description.text.strip() if description else \"N/A\"\n",
    "\n",
    "    # Append the data to the list\n",
    "    data.append({\n",
    "        \"Title\": title_text,\n",
    "        \"Description\": description_text\n",
    "    })"
   ]
  },
  {
   "cell_type": "code",
   "execution_count": null,
   "id": "f9f2199a-de91-4bea-beac-15e27bc7bd2f",
   "metadata": {},
   "outputs": [],
   "source": [
    "# Step 7: Display the Results in a Table\n",
    "# Create a DataFrame to store the results\n",
    "df = pd.DataFrame(data)"
   ]
  },
  {
   "cell_type": "code",
   "execution_count": null,
   "id": "0be7a01f-c719-4aa9-9f79-2200ce642f8c",
   "metadata": {},
   "outputs": [],
   "source": [
    "# Display the number of cards found\n",
    "print(f\"Total number of cards found: {len(data)}\")"
   ]
  },
  {
   "cell_type": "code",
   "execution_count": null,
   "id": "ba6f4e36-5e31-488a-b869-90f79011dc83",
   "metadata": {},
   "outputs": [],
   "source": [
    "# Display the table\n",
    "print(\"\\nCourse Titles:\")\n",
    "print(df)"
   ]
  },
  {
   "cell_type": "code",
   "execution_count": null,
   "id": "de571bed-766a-4be3-89e5-499ed94a9b06",
   "metadata": {},
   "outputs": [],
   "source": []
  },
  {
   "cell_type": "code",
   "execution_count": null,
   "id": "d5159365-1b78-498d-9ce8-1255548360bd",
   "metadata": {},
   "outputs": [],
   "source": []
  },
  {
   "cell_type": "code",
   "execution_count": null,
   "id": "205bd8e6-a1e2-4e70-ab90-59d9993f34f5",
   "metadata": {},
   "outputs": [],
   "source": []
  },
  {
   "cell_type": "code",
   "execution_count": null,
   "id": "e5d8b0dd-d435-45db-a8d9-c855ba0531c3",
   "metadata": {},
   "outputs": [],
   "source": []
  },
  {
   "cell_type": "code",
   "execution_count": null,
   "id": "91ab5837-f5b9-4826-80c4-b7c2589587c1",
   "metadata": {},
   "outputs": [],
   "source": []
  },
  {
   "cell_type": "code",
   "execution_count": null,
   "id": "a29e3d36-b76b-4157-aaa1-49f181c010eb",
   "metadata": {},
   "outputs": [],
   "source": []
  },
  {
   "cell_type": "code",
   "execution_count": null,
   "id": "eb1f162c-3372-4216-ab06-4ed74c64e772",
   "metadata": {},
   "outputs": [],
   "source": []
  },
  {
   "cell_type": "code",
   "execution_count": 25,
   "id": "3d5c0982-ff6b-47f6-a802-b464b074d94f",
   "metadata": {},
   "outputs": [],
   "source": [
    "# Cell 1 - Import Libraries\n",
    "import requests\n",
    "from bs4 import BeautifulSoup\n",
    "import pandas as pd\n",
    "from time import sleep\n",
    "from IPython.display import display, HTML\n",
    "\n",
    "# Cell 2 - Define Functions\n",
    "def get_page_content(url):\n",
    "    \"\"\"\n",
    "    Fetch the webpage content with proper headers to avoid blocking\n",
    "    \"\"\"\n",
    "    headers = {\n",
    "        'User-Agent': 'Mozilla/5.0 (Windows NT 10.0; Win64; x64) AppleWebKit/537.36 (KHTML, like Gecko) Chrome/91.0.4472.124 Safari/537.36'\n",
    "    }\n",
    "    \n",
    "    try:\n",
    "        response = requests.get(url, headers=headers)\n",
    "        response.raise_for_status()\n",
    "        return response.text\n",
    "    except requests.RequestException as e:\n",
    "        print(f\"Error fetching the page: {e}\")\n",
    "        return None\n",
    "\n",
    "def extract_course_info(html_content):\n",
    "    \"\"\"\n",
    "    Extract course information from the HTML content\n",
    "    \"\"\"\n",
    "    soup = BeautifulSoup(html_content, 'html.parser')\n",
    "    courses = []\n",
    "    \n",
    "    # Find all course cards\n",
    "    course_cards = soup.find_all('div', class_='cds-9 css-s7e1kj cds-10 cds-11 cds-grid-item')\n",
    "    \n",
    "    print(f\"Found {len(course_cards)} course cards\")\n",
    "    \n",
    "    for i, card in enumerate(course_cards, 1):\n",
    "        try:\n",
    "            # Extract title\n",
    "            title = card.find('h2', class_='cds-122 cds-Typography-base css-bbd009 cds-124')\n",
    "            title = title.text.strip() if title else \"N/A\"\n",
    "            \n",
    "            # Extract description\n",
    "            description = card.find('p', class_='css-4s48ix')\n",
    "            description = description.text.strip() if description else \"N/A\"\n",
    "            \n",
    "            courses.append({\n",
    "                'Title': title,\n",
    "                'Description': description\n",
    "            })\n",
    "            \n",
    "            print(f\"Processed card {i}/{len(course_cards)}\")\n",
    "            \n",
    "        except AttributeError as e:\n",
    "            print(f\"Error extracting course info from card {i}: {e}\")\n",
    "            continue\n",
    "    \n",
    "    return courses"
   ]
  },
  {
   "cell_type": "code",
   "execution_count": 29,
   "id": "f7a3843c-b555-4587-8c9b-126995c1e10b",
   "metadata": {},
   "outputs": [
    {
     "name": "stdout",
     "output_type": "stream",
     "text": [
      "zsh:1: command not found: pip\n",
      "Failed to click the button: Message: \n",
      "Stacktrace:\n",
      "0   chromedriver                        0x0000000106ed4538 chromedriver + 5539128\n",
      "1   chromedriver                        0x0000000106ecc3fa chromedriver + 5506042\n",
      "2   chromedriver                        0x00000001069ed640 chromedriver + 398912\n",
      "3   chromedriver                        0x0000000106a3d5d3 chromedriver + 726483\n",
      "4   chromedriver                        0x0000000106a3d811 chromedriver + 727057\n",
      "5   chromedriver                        0x0000000106a840e4 chromedriver + 1016036\n",
      "6   chromedriver                        0x0000000106a6251d chromedriver + 877853\n",
      "7   chromedriver                        0x0000000106a813f7 chromedriver + 1004535\n",
      "8   chromedriver                        0x0000000106a62293 chromedriver + 877203\n",
      "9   chromedriver                        0x0000000106a2f180 chromedriver + 668032\n",
      "10  chromedriver                        0x0000000106a303fe chromedriver + 672766\n",
      "11  chromedriver                        0x0000000106e9a1d0 chromedriver + 5300688\n",
      "12  chromedriver                        0x0000000106e9e1e0 chromedriver + 5317088\n",
      "13  chromedriver                        0x0000000106e7bee7 chromedriver + 5177063\n",
      "14  chromedriver                        0x0000000106e9eb7e chromedriver + 5319550\n",
      "15  chromedriver                        0x0000000106e6bb14 chromedriver + 5110548\n",
      "16  chromedriver                        0x0000000106eba8d8 chromedriver + 5433560\n",
      "17  chromedriver                        0x0000000106ebaa96 chromedriver + 5434006\n",
      "18  chromedriver                        0x0000000106ecbfd8 chromedriver + 5504984\n",
      "19  libsystem_pthread.dylib             0x00007ff81605b253 _pthread_start + 99\n",
      "20  libsystem_pthread.dylib             0x00007ff816056bef thread_start + 15\n",
      "\n"
     ]
    }
   ],
   "source": [
    "from selenium import webdriver\n",
    "from selenium.webdriver.common.by import By\n",
    "from selenium.webdriver.support.ui import WebDriverWait\n",
    "from selenium.webdriver.support import expected_conditions as EC\n",
    "from bs4 import BeautifulSoup\n",
    "import pandas as pd\n",
    "import time\n",
    "\n",
    "# Set up Selenium WebDriver\n",
    "driver = webdriver.Chrome()\n",
    "\n",
    "# Open the URL\n",
    "url = \"https://www.coursera.org/career-academy?trk_ref=globalnav\"\n",
    "driver.get(url)\n",
    "\n",
    "# Wait for the page to load\n",
    "time.sleep(5)\n",
    "\n",
    "# Click the button to reveal more courses\n",
    "try:\n",
    "    button = WebDriverWait(driver, 10).until(\n",
    "        EC.element_to_be_clickable((By.CLASS_NAME, \"cds-113.cds-button-disableElevation.cds-button-primary.css-xdb2ir\"))\n",
    "    )\n",
    "    button.click()\n",
    "    print(\"Button clicked successfully!\")\n",
    "    time.sleep(3)\n",
    "except Exception as e:\n",
    "    print(f\"Failed to click the button: {e}\")\n",
    "\n",
    "# Extract the updated page source\n",
    "page_source = driver.page_source\n",
    "soup = BeautifulSoup(page_source, 'html.parser')\n",
    "\n",
    "# Find all course cards\n",
    "course_cards = soup.find_all('div', class_='cds-9 css-0 cds-10 cds-11 cds-grid-item cds-27 cds-56 cds-64 cds-76')\n",
    "\n",
    "# Extract details from each card\n",
    "data = []\n",
    "for card in course_cards:\n",
    "    # Extract title\n",
    "    title = card.find('h2', class_='cds-122 cds-Typography-base css-bbd009 cds-124')\n",
    "    title_text = title.text.strip() if title else \"N/A\"\n",
    "    \n",
    "    # Extract description\n",
    "    description = card.find('p', class_='css-4s48ix')\n",
    "    description_text = description.text.strip() if description else \"N/A\"\n",
    "    \n",
    "    # Extract tags\n",
    "    tags = [tag.text.strip() for tag in card.find_all('span', class_='css-o5tswl')]\n",
    "    tags_text = \", \".join(tags) if tags else \"N/A\"\n",
    "    \n",
    "    # Extract salary and job availability\n",
    "    salary_jobs = card.find('div', class_='rc-Markdown styled')\n",
    "    salary_jobs_text = salary_jobs.text.strip() if salary_jobs else \"N/A\"\n",
    "    \n",
    "    # Extract credentials\n",
    "    credentials = [cred.text.strip() for cred in card.find_all('a', class_='cds-122 cds-116 cds-118 css-4ozuea cds-145')]\n",
    "    credentials_text = \", \".join(credentials) if credentials else \"N/A\"\n",
    "    \n",
    "    # Append data\n",
    "    data.append({\n",
    "        \"Title\": title_text,\n",
    "        \"Description\": description_text,\n",
    "        \"Tags\": tags_text,\n",
    "        \"Salary and Jobs\": salary_jobs_text,\n",
    "        \"Credentials\": credentials_text\n",
    "    })\n",
    "\n",
    "# Convert to DataFrame\n",
    "df = pd.DataFrame(data)\n",
    "\n",
    "# Close the driver\n",
    "driver.quit()\n"
   ]
  },
  {
   "cell_type": "code",
   "execution_count": 30,
   "id": "185b4c28-9e32-4702-83d3-9d9cb70dc789",
   "metadata": {},
   "outputs": [
    {
     "name": "stdout",
     "output_type": "stream",
     "text": [
      "Total number of cards found: 12\n",
      "\n",
      "Course Details:\n",
      "   Title                                        Description  \\\n",
      "0    N/A  Collect, organize, and transform data to make ...   \n",
      "1    N/A  Oversee the planning and execution of projects...   \n",
      "2    N/A  Develop strategies to protect organizations fr...   \n",
      "3    N/A  Make digital and physical products easier and ...   \n",
      "4    N/A  Evaluate and troubleshoot technology issues so...   \n",
      "5    N/A  Define and develop digital strategies to deliv...   \n",
      "6    N/A  Extract and analyze data to make informed busi...   \n",
      "7    N/A  Streamline supply chain operations and drive e...   \n",
      "8    N/A  Oversee the entirety of a product's lifecycle,...   \n",
      "9    N/A  Create both front-end and back-end components ...   \n",
      "10   N/A  Record financial transactions and manage finan...   \n",
      "11   N/A  Design and develop the look, feel, function, a...   \n",
      "\n",
      "                                                 Tags  \\\n",
      "0   Attention to detail, Problem solving, Working ...   \n",
      "1      Leading a team, Problem solving, Communication   \n",
      "2   Problem solving, Technical challenges, Attenti...   \n",
      "3   Understanding people, Thinking creatively, Pro...   \n",
      "4    Helping people, Problem solving, Troubleshooting   \n",
      "5   Working with numbers, Understanding people, Pr...   \n",
      "6   Working with numbers, Intellectual curiosity, ...   \n",
      "7   Data analysis, Working with people, Problem so...   \n",
      "8   Cross-functional collaboration, Problem solvin...   \n",
      "9   User interface design, Technology, Problem sol...   \n",
      "10  Working with numbers, Attention to detail, Wri...   \n",
      "11  Problem solving, Thinking creatively, Creating...   \n",
      "\n",
      "                                      Salary and Jobs Credentials  \n",
      "0    $90,500 median salary ¹\\n82,489 jobs available ¹         N/A  \n",
      "1   $102,800 median salary ¹\\n336,402 jobs availab...         N/A  \n",
      "2   $119,700 median salary ¹\\n147,973 jobs availab...         N/A  \n",
      "3   $121,200 median salary ¹\\n70,778 jobs available ¹         N/A  \n",
      "4   $56,200 median salary ¹\\n318,249 jobs available ¹         N/A  \n",
      "5    $61,300 median salary ¹\\n81,463 jobs available ¹         N/A  \n",
      "6   $138,100 median salary ¹\\n69,304 jobs available ¹         N/A  \n",
      "7    $65,900 median salary ¹\\n49,583 jobs available ¹         N/A  \n",
      "8   $140,200 median salary ¹\\n135,215 jobs availab...         N/A  \n",
      "9   $129,900 median salary ¹\\n34,565 jobs available ¹         N/A  \n",
      "10  $45,700 median salary ¹\\n296,935 jobs available ¹         N/A  \n",
      "11  $130,900 median salary ¹\\n29,258 jobs available ¹         N/A  \n"
     ]
    }
   ],
   "source": [
    "# Step 7: Display the Results in a Table\n",
    "# Create a DataFrame to store the results\n",
    "df = pd.DataFrame(data)\n",
    "\n",
    "# Display the number of cards found\n",
    "print(f\"Total number of cards found: {len(data)}\")\n",
    "\n",
    "# Display the table\n",
    "print(\"\\nCourse Details:\")\n",
    "print(df)\n"
   ]
  },
  {
   "cell_type": "code",
   "execution_count": null,
   "id": "d0d4928d-68ba-4b45-8c7e-f1ecc2b51428",
   "metadata": {},
   "outputs": [],
   "source": []
  }
 ],
 "metadata": {
  "kernelspec": {
   "display_name": "Python 3 (ipykernel)",
   "language": "python",
   "name": "python3"
  },
  "language_info": {
   "codemirror_mode": {
    "name": "ipython",
    "version": 3
   },
   "file_extension": ".py",
   "mimetype": "text/x-python",
   "name": "python",
   "nbconvert_exporter": "python",
   "pygments_lexer": "ipython3",
   "version": "3.12.7"
  }
 },
 "nbformat": 4,
 "nbformat_minor": 5
}
