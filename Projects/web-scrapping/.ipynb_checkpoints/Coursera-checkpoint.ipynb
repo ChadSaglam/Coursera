{
 "cells": [
  {
   "cell_type": "markdown",
   "id": "30407914-6c36-4aa7-889d-8f4feae97041",
   "metadata": {},
   "source": [
    "### Step 1: Install Required Libraries"
   ]
  },
  {
   "cell_type": "code",
   "execution_count": null,
   "id": "4b9b9e99-ad9a-4543-9264-b1b623e971d6",
   "metadata": {},
   "outputs": [],
   "source": [
    "pip install selenium webdriver-manager pandas beautifulsoup4"
   ]
  },
  {
   "cell_type": "markdown",
   "id": "c9799035-880f-4f8a-a51d-f73c327afbba",
   "metadata": {},
   "source": [
    "### Step 2: Import Libraries"
   ]
  },
  {
   "cell_type": "code",
   "execution_count": 4,
   "id": "17769073-f858-46af-b186-e8a4485e3716",
   "metadata": {},
   "outputs": [],
   "source": [
    "from selenium import webdriver\n",
    "from selenium.webdriver.chrome.service import Service\n",
    "from selenium.webdriver.common.by import By\n",
    "from selenium.webdriver.chrome.options import Options\n",
    "from selenium.webdriver.support.ui import WebDriverWait\n",
    "from selenium.webdriver.support import expected_conditions as EC\n",
    "from webdriver_manager.chrome import ChromeDriverManager\n",
    "import pandas as pd\n",
    "import re  # For cleaning text using regex\n",
    "from bs4 import BeautifulSoup\n",
    "\n",
    "import warnings\n",
    "\n",
    "# Suppress warnings\n",
    "warnings.filterwarnings(\"ignore\")"
   ]
  },
  {
   "cell_type": "markdown",
   "id": "ca7b6407-76b9-4ea5-bf57-d2d87a971d8b",
   "metadata": {},
   "source": [
    "### Step 3: Set Up Selenium WebDriver"
   ]
  },
  {
   "cell_type": "code",
   "execution_count": 7,
   "id": "9c52779e-1e06-4f49-8bd7-2eb68d5f30c6",
   "metadata": {},
   "outputs": [],
   "source": [
    "# Set up Selenium WebDriver\n",
    "chrome_options = Options()\n",
    "chrome_options.add_argument(\"--headless\")  # Run in headless mode\n",
    "chrome_options.add_argument(\"--disable-gpu\")  # Disable GPU acceleration\n",
    "chrome_options.add_argument(\"--window-size=1920,1080\")  # Set window size\n",
    "\n",
    "# Initialize the WebDriver\n",
    "driver = webdriver.Chrome(service=Service(ChromeDriverManager().install()), options=chrome_options)"
   ]
  },
  {
   "cell_type": "markdown",
   "id": "26969d67-e9f7-45e4-9801-0ad074490ada",
   "metadata": {},
   "source": [
    "### Step 4: Load the Web Page\n",
    "Load the target URL and wait for the initial cards to load."
   ]
  },
  {
   "cell_type": "code",
   "execution_count": 9,
   "id": "0e05740b-1873-4d68-9346-697b503f2b93",
   "metadata": {
    "scrolled": true
   },
   "outputs": [],
   "source": [
    "# URL of the page to scrape\n",
    "url = \"https://www.coursera.org/search?isPartOfCourseraPlus=true&sortBy=BEST_MATCH&trk_ref=globalnav\"\n",
    "\n",
    "# Load the page\n",
    "driver.get(url)\n",
    "\n",
    "# Wait for the page to fully load\n",
    "try:\n",
    "    WebDriverWait(driver, 20).until(\n",
    "        lambda d: d.execute_script(\"return document.readyState\") == \"complete\"\n",
    "    )\n",
    "except Exception as e:\n",
    "    print(f\"Error waiting for page to load: {e}\")\n",
    "    driver.quit()\n",
    "    exit()"
   ]
  },
  {
   "cell_type": "markdown",
   "id": "17fbbcce-3f06-42c4-8cd5-2049e9754624",
   "metadata": {},
   "source": [
    "### Step 5: Click the \"View All\" Button\n",
    "Locate and click the \"View all (31 more)\" button to load additional cards."
   ]
  },
  {
   "cell_type": "code",
   "execution_count": 16,
   "id": "3dc0a5fc-3afd-401a-aa63-5c8c809b7426",
   "metadata": {},
   "outputs": [
    {
     "name": "stdout",
     "output_type": "stream",
     "text": [
      "Initializing WebDriver...\n",
      "WebDriver initialized successfully.\n",
      "Loading URL: https://www.coursera.org/search?isPartOfCourseraPlus=true&sortBy=BEST_MATCH&trk_ref=globalnav\n",
      "Waiting for page to load...\n",
      "Extracting initial course titles...\n",
      "No course titles found with the current selector. Please check the CSS selector.\n",
      "Initial number of course cards: 0\n",
      "Scrolling to load additional course cards...\n",
      "Extracting all course titles after scrolling...\n",
      "No course titles found with the current selector. Please check the CSS selector.\n",
      "Total number of course cards: 0\n",
      "Closing WebDriver...\n"
     ]
    }
   ],
   "source": [
    "from selenium import webdriver\n",
    "from selenium.webdriver.chrome.service import Service\n",
    "from selenium.webdriver.common.by import By\n",
    "from selenium.webdriver.chrome.options import Options\n",
    "from selenium.webdriver.support.ui import WebDriverWait\n",
    "from selenium.webdriver.support import expected_conditions as EC\n",
    "from webdriver_manager.chrome import ChromeDriverManager\n",
    "import time\n",
    "\n",
    "# Suppress warnings\n",
    "import warnings\n",
    "warnings.filterwarnings(\"ignore\")\n",
    "\n",
    "# Set up Selenium WebDriver\n",
    "chrome_options = Options()\n",
    "chrome_options.add_argument(\"--headless=new\")  # Use the new headless mode\n",
    "chrome_options.add_argument(\"--disable-gpu\")  # Disable GPU acceleration\n",
    "chrome_options.add_argument(\"--window-size=1920,1080\")  # Set window size\n",
    "\n",
    "try:\n",
    "    # Initialize the WebDriver\n",
    "    print(\"Initializing WebDriver...\")\n",
    "    service = Service(ChromeDriverManager().install())\n",
    "    driver = webdriver.Chrome(service=service, options=chrome_options)\n",
    "    print(\"WebDriver initialized successfully.\")\n",
    "\n",
    "    # URL of the page to scrape\n",
    "    url = \"https://www.coursera.org/search?isPartOfCourseraPlus=true&sortBy=BEST_MATCH&trk_ref=globalnav\"\n",
    "\n",
    "    # Load the page\n",
    "    print(f\"Loading URL: {url}\")\n",
    "    driver.get(url)\n",
    "\n",
    "    # Wait for the page to fully load\n",
    "    print(\"Waiting for page to load...\")\n",
    "    WebDriverWait(driver, 20).until(\n",
    "        lambda d: d.execute_script(\"return document.readyState\") == \"complete\"\n",
    "    )\n",
    "\n",
    "    # Function to extract course titles\n",
    "    def extract_course_titles():\n",
    "        # Find all course title elements\n",
    "        try:\n",
    "            course_titles = driver.find_elements(By.CSS_SELECTOR, \"a.cds-119 cds-113 cds-115 cds-CommonCard-titleLink css-vflzcf cds-142\")\n",
    "            if not course_titles:\n",
    "                print(\"No course titles found with the current selector. Please check the CSS selector.\")\n",
    "            return [title.text for title in course_titles]\n",
    "        except Exception as e:\n",
    "            print(f\"Error extracting course titles: {e}\")\n",
    "            return []\n",
    "\n",
    "    # Extract initial course titles\n",
    "    print(\"Extracting initial course titles...\")\n",
    "    initial_titles = extract_course_titles()\n",
    "    print(f\"Initial number of course cards: {len(initial_titles)}\")\n",
    "    for title in initial_titles:\n",
    "        print(title)\n",
    "\n",
    "    # Function to scroll to the bottom of the page\n",
    "    def scroll_to_bottom():\n",
    "        last_height = driver.execute_script(\"return document.body.scrollHeight\")\n",
    "        while True:\n",
    "            # Scroll down to the bottom\n",
    "            driver.execute_script(\"window.scrollTo(0, document.body.scrollHeight);\")\n",
    "            time.sleep(2)  # Wait for new content to load\n",
    "\n",
    "            # Calculate new scroll height and compare with last scroll height\n",
    "            new_height = driver.execute_script(\"return document.body.scrollHeight\")\n",
    "            if new_height == last_height:\n",
    "                break  # Stop scrolling if no new content is loaded\n",
    "            last_height = new_height\n",
    "\n",
    "    # Scroll to load additional course cards\n",
    "    print(\"Scrolling to load additional course cards...\")\n",
    "    scroll_to_bottom()\n",
    "\n",
    "    # Extract all course titles after scrolling\n",
    "    print(\"Extracting all course titles after scrolling...\")\n",
    "    all_titles = extract_course_titles()\n",
    "    print(f\"Total number of course cards: {len(all_titles)}\")\n",
    "    for title in all_titles:\n",
    "        print(title)\n",
    "\n",
    "except Exception as e:\n",
    "    print(f\"An error occurred: {e}\")\n",
    "finally:\n",
    "    # Close the browser\n",
    "    print(\"Closing WebDriver...\")\n",
    "    driver.quit()"
   ]
  },
  {
   "cell_type": "code",
   "execution_count": null,
   "id": "1ba26f29-5b78-493e-9783-198fbb6760be",
   "metadata": {},
   "outputs": [],
   "source": []
  },
  {
   "cell_type": "code",
   "execution_count": null,
   "id": "358f635d-fc82-429f-9c3c-6053b3fe02e3",
   "metadata": {},
   "outputs": [],
   "source": []
  },
  {
   "cell_type": "code",
   "execution_count": null,
   "id": "6294b0db-0b6c-4387-8f88-3c371319ac28",
   "metadata": {},
   "outputs": [],
   "source": []
  },
  {
   "cell_type": "code",
   "execution_count": null,
   "id": "abcf8469-7bdf-4511-b2fc-2db9db7218a9",
   "metadata": {},
   "outputs": [],
   "source": []
  },
  {
   "cell_type": "code",
   "execution_count": null,
   "id": "033d1e2d-565d-4220-9272-81f75fd73159",
   "metadata": {},
   "outputs": [],
   "source": []
  },
  {
   "cell_type": "code",
   "execution_count": null,
   "id": "3e6ccef1-126f-4243-b7c9-d688f3769889",
   "metadata": {},
   "outputs": [],
   "source": []
  },
  {
   "cell_type": "code",
   "execution_count": null,
   "id": "07640489-b3ce-4ce2-bfb8-1ee7ab5b771f",
   "metadata": {},
   "outputs": [],
   "source": [
    "# Click the \"View all (31 more)\" button to load additional cards\n",
    "try:\n",
    "    view_all_button = driver.find_element(By.CSS_SELECTOR, 'button[data-track-component=\"view_all_career_cards\"]')\n",
    "    view_all_button.click()\n",
    "    \n",
    "    # Wait for the additional cards to load\n",
    "    WebDriverWait(driver, 20).until(\n",
    "        EC.presence_of_element_located((By.CLASS_NAME, \"cds-9.css-b1mnpw.cds-11.cds-grid-item\"))\n",
    "    )\n",
    "except Exception as e:\n",
    "    print(f\"Error clicking the 'View all' button or waiting for additional cards: {e}\")\n",
    "    driver.quit()\n",
    "    exit()"
   ]
  },
  {
   "cell_type": "markdown",
   "id": "adf6b3e1-89f9-4073-8798-9f51fae36e76",
   "metadata": {},
   "source": [
    "### Step 6: Parse the Page with BeautifulSoup\n",
    "Use BeautifulSoup to parse the page source and extract all cards."
   ]
  },
  {
   "cell_type": "code",
   "execution_count": null,
   "id": "0ffcc2fb-977c-4b5d-a879-a70865f006db",
   "metadata": {
    "scrolled": true
   },
   "outputs": [],
   "source": [
    "# Get the page source and parse it with BeautifulSoup\n",
    "soup = BeautifulSoup(driver.page_source, 'html.parser')\n",
    "\n",
    "# Find all the cards with the specified class\n",
    "cards = soup.find_all('li', class_='cds-9 css-b1mnpw cds-11 cds-grid-item')\n",
    "\n",
    "print(f\"Number of cards found: {len(cards)}\")"
   ]
  },
  {
   "cell_type": "markdown",
   "id": "75a686c0-7b28-401f-898f-1d3243578830",
   "metadata": {},
   "source": [
    "### Step 7: Extract Data from Each Card\n",
    "Loop through each card and extract the title, description, median salary, and jobs available. Use regex to clean the salary and jobs available text."
   ]
  },
  {
   "cell_type": "code",
   "execution_count": null,
   "id": "8459018d-df60-4134-83bd-aa1a0e6c05eb",
   "metadata": {},
   "outputs": [],
   "source": [
    "# Initialize a list to store the data\n",
    "data = []\n",
    "\n",
    "# Loop through each card and extract the details\n",
    "for card in cards:\n",
    "    try:\n",
    "        # Extract the title\n",
    "        title_element = card.find('h2', class_='cds-119 cds-Typography-base css-bbd009 cds-121')\n",
    "        \n",
    "        if title_element:\n",
    "            title = title_element.text.strip()\n",
    "        else:\n",
    "            title = \"Title not found\"\n",
    "            print(\"Title not found in card:\", card.prettify())  # Debugging: Print the card HTML\n",
    "        \n",
    "        # Extract the description\n",
    "        description = card.find('p', class_='css-4s48ix').text.strip()\n",
    "        \n",
    "        # Extract the salary and jobs available\n",
    "        salary_jobs = card.find('div', class_='css-hr97go').text.strip()\n",
    "        \n",
    "        # Use regex to extract only the numbers\n",
    "        median_salary = re.search(r'\\$\\d{1,3}(?:,\\d{3})*', salary_jobs).group()  # Extract $90,500\n",
    "        jobs_available = re.search(r'\\d{1,3}(?:,\\d{3})*', salary_jobs.split('jobs')[0]).group()  # Extract 82,489\n",
    "        \n",
    "        # Append the extracted data to the list\n",
    "        data.append({\n",
    "            'Title': title,\n",
    "            'Description': description,\n",
    "            'Median Salary': median_salary,\n",
    "            'Jobs Available': jobs_available\n",
    "        })\n",
    "    except AttributeError as e:\n",
    "        print(f\"Error extracting data from a card: {e}\")\n",
    "        continue"
   ]
  },
  {
   "cell_type": "markdown",
   "id": "e9171f6c-0996-4aad-8291-eae11199e24a",
   "metadata": {},
   "source": [
    "### Step 8: Convert Data to a DataFrame\n",
    "Convert the list of dictionaries into a pandas DataFrame."
   ]
  },
  {
   "cell_type": "code",
   "execution_count": null,
   "id": "f9f2199a-de91-4bea-beac-15e27bc7bd2f",
   "metadata": {},
   "outputs": [],
   "source": [
    "# Convert the list to a DataFrame\n",
    "df = pd.DataFrame(data)\n",
    "\n",
    "# Display the DataFrame as a table\n",
    "print(df)"
   ]
  },
  {
   "cell_type": "markdown",
   "id": "e8983ba8-98d7-4339-b32b-c378352fcf15",
   "metadata": {},
   "source": [
    "### Step 9: Save the DataFrame as a CSV File\n",
    "Save the DataFrame to a CSV file for further analysis or sharing."
   ]
  },
  {
   "cell_type": "code",
   "execution_count": null,
   "id": "ba6f4e36-5e31-488a-b869-90f79011dc83",
   "metadata": {},
   "outputs": [],
   "source": [
    "# Save the DataFrame to a CSV file\n",
    "df.to_csv('career_academy_data.csv', index=False)\n",
    "\n",
    "print(\"Data saved to 'career_academy_data.csv'\")"
   ]
  },
  {
   "cell_type": "markdown",
   "id": "dfbeda01-ad46-4b2b-9a11-b2e0f911e0f8",
   "metadata": {},
   "source": [
    "### Step 10: Close the Browser\n",
    "Close the Selenium WebDriver to free up resources."
   ]
  },
  {
   "cell_type": "code",
   "execution_count": null,
   "id": "d5159365-1b78-498d-9ce8-1255548360bd",
   "metadata": {},
   "outputs": [],
   "source": [
    "# Close the browser\n",
    "driver.quit()"
   ]
  },
  {
   "cell_type": "code",
   "execution_count": null,
   "id": "205bd8e6-a1e2-4e70-ab90-59d9993f34f5",
   "metadata": {},
   "outputs": [],
   "source": [
    "df"
   ]
  },
  {
   "cell_type": "code",
   "execution_count": null,
   "id": "ebace7ea-0fa4-4ef5-b695-2199911c2759",
   "metadata": {
    "scrolled": true
   },
   "outputs": [],
   "source": [
    "# Convert 'Median Salary' to numeric for sorting\n",
    "df['Salary'] = df['Median Salary'].replace('[\\$,]', '', regex=True).astype(float)\n",
    "\n",
    "# Sort by 'Median Salary' in descending order\n",
    "df_sorted = df.sort_values(by='Salary', ascending=False)\n",
    "\n",
    "# Convert 'Median Salary' back to formatted string\n",
    "df_sorted['Salary'] = df_sorted['Salary'].apply(lambda x: f\"${x:,.0f}\")\n",
    "\n",
    "# Display the sorted DataFrame\n",
    "print(df_sorted[['Title', 'Salary']])"
   ]
  },
  {
   "cell_type": "code",
   "execution_count": null,
   "id": "9fc2bfff-e8e1-46b8-ab19-c7298c889f5a",
   "metadata": {},
   "outputs": [],
   "source": [
    "df"
   ]
  },
  {
   "cell_type": "code",
   "execution_count": null,
   "id": "fccc2897-23d5-4028-a3f6-dab8eafaea45",
   "metadata": {},
   "outputs": [],
   "source": []
  },
  {
   "cell_type": "code",
   "execution_count": null,
   "id": "2c8071dd-7d05-4acb-a8b0-c88b7fd5589f",
   "metadata": {},
   "outputs": [],
   "source": []
  }
 ],
 "metadata": {
  "kernelspec": {
   "display_name": "Python 3 (ipykernel)",
   "language": "python",
   "name": "python3"
  },
  "language_info": {
   "codemirror_mode": {
    "name": "ipython",
    "version": 3
   },
   "file_extension": ".py",
   "mimetype": "text/x-python",
   "name": "python",
   "nbconvert_exporter": "python",
   "pygments_lexer": "ipython3",
   "version": "3.12.7"
  }
 },
 "nbformat": 4,
 "nbformat_minor": 5
}
