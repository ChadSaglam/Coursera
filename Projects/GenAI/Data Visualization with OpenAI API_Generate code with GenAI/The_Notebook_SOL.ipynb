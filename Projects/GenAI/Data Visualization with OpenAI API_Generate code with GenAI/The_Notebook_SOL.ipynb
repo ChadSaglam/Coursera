{
  "cells": [
    {
      "cell_type": "markdown",
      "metadata": {
        "id": "waSS96gPuPCF"
      },
      "source": [
        "# **Welcome to The Notebook**"
      ]
    },
    {
      "cell_type": "markdown",
      "metadata": {
        "id": "ZlZamiGhutkW"
      },
      "source": [
        "### Task 1 - Setting up the project environment"
      ]
    },
    {
      "cell_type": "markdown",
      "metadata": {
        "id": "G3vynbDOu1F6"
      },
      "source": [
        "Installing the needed modules"
      ]
    },
    {
      "cell_type": "code",
      "execution_count": null,
      "metadata": {
        "id": "scn7mBZ6J_xW"
      },
      "outputs": [],
      "source": [
        "!pip install openai==0.28 python-dotenv"
      ]
    },
    {
      "cell_type": "markdown",
      "metadata": {
        "id": "QZfGLwZGu7Ub"
      },
      "source": [
        "Importing the modules"
      ]
    },
    {
      "cell_type": "code",
      "execution_count": null,
      "metadata": {
        "id": "0hV3HIWIu-5b"
      },
      "outputs": [],
      "source": [
        "import pandas as pd\n",
        "import numpy as np\n",
        "import os\n",
        "import openai\n",
        "from dotenv import load_dotenv\n",
        "import json\n",
        "import re\n",
        "from google.colab import files"
      ]
    },
    {
      "cell_type": "markdown",
      "metadata": {
        "id": "MJSWMOV3vCQ1"
      },
      "source": [
        "Setting up the OpenAI API:\n",
        "\n",
        "1. Prepare a `.env` file to store the OpenAI API key.\n",
        "2. Uploading the `.env` file to our colab environment\n",
        "3. Load the API key and setup the API"
      ]
    },
    {
      "cell_type": "markdown",
      "metadata": {
        "id": "xy4rUlZFJmLO"
      },
      "source": [
        "Upload your `.env` file here"
      ]
    },
    {
      "cell_type": "code",
      "execution_count": null,
      "metadata": {
        "id": "3HKFQThwJlhI"
      },
      "outputs": [],
      "source": [
        "uploaded = files.upload()"
      ]
    },
    {
      "cell_type": "markdown",
      "metadata": {
        "id": "H3PJlXaIL_L-"
      },
      "source": [
        "Now let's load environment variables and get the API key"
      ]
    },
    {
      "cell_type": "code",
      "execution_count": null,
      "metadata": {
        "id": "yTA95zNovJ-h"
      },
      "outputs": [],
      "source": [
        "load_dotenv(dotenv_path=\"apikey.env.txt\")\n",
        "\n",
        "APIKEY = os.getenv(\"APIKEY\")\n",
        "ORGID = os.getenv(\"ORGID\")"
      ]
    },
    {
      "cell_type": "markdown",
      "metadata": {
        "id": "DLTngLSOMnCV"
      },
      "source": [
        "Let's setup our OpenAI API"
      ]
    },
    {
      "cell_type": "code",
      "execution_count": null,
      "metadata": {
        "id": "csXxHaNeMqbU"
      },
      "outputs": [],
      "source": [
        "openai.organization = ORGID\n",
        "openai.api_key = APIKEY"
      ]
    },
    {
      "cell_type": "markdown",
      "metadata": {
        "id": "2sF80TRaQTlo"
      },
      "source": [
        "### Task 2 - Craft Prompts to Communicate with the API"
      ]
    },
    {
      "cell_type": "markdown",
      "metadata": {
        "id": "8dMeTCJkWI6S"
      },
      "source": [
        "To communicate with the API we need to learn how to craft a prompt.\n",
        "\n",
        "A prompt object contains two elements:\n",
        "1. Role: Specifies the communicator's role—either `User`, `System`, or `Assistant`.\n",
        "2. Content: Contains the text of the communication\n",
        "\n",
        "example:\n",
        "`prompt = {'role': 'user', 'content': 'what is the captial of Italy?'}`\n",
        "\n",
        "Different Roles:\n",
        "\n",
        "- **User**: Initiates the conversation, asks questions, and gives instructions to - the AI model.\n",
        "- **System**: Sets the initial context or instructions for the conversation, guiding the AI's behavior.\n",
        "- **Assistant**: Generates responses based on the user's queries and the context provided by the system, acting as the AI model's replies.\n",
        "\n",
        "User initiates the conversation, system provides context, and assistant generates responses.\n"
      ]
    },
    {
      "cell_type": "code",
      "execution_count": null,
      "metadata": {
        "id": "hcqGQShpQWdo"
      },
      "outputs": [],
      "source": [
        "user_prompt = {'role': 'user', 'content': 'Name the main four ingredients of Beef Wellington.'}\n",
        "system_prompt = {'role': 'system', 'content': 'You are professional chef, provide the user with the vegeterian version of any recipe, and avoid extra elaborations.'}\n",
        "\n",
        "response = openai.ChatCompletion.create(\n",
        "    model='gpt-4',\n",
        "    messages=[system_prompt, user_prompt],\n",
        "    max_tokens=500\n",
        ")\n",
        "\n",
        "content = response.choices[0].message.content\n",
        "print(\"Content: \", content)"
      ]
    },
    {
      "cell_type": "markdown",
      "metadata": {
        "id": "WHNLz8cmXQ8x"
      },
      "source": [
        "### Task 3 - Generate and Execute python code"
      ]
    },
    {
      "cell_type": "markdown",
      "metadata": {
        "id": "vw5pnEHd1JvF"
      },
      "source": [
        "Define a function to generate a chat response using the OpenAI GPT-4 model, given system and user messages as input."
      ]
    },
    {
      "cell_type": "code",
      "execution_count": null,
      "metadata": {
        "id": "Mk9s7Cn209Au"
      },
      "outputs": [],
      "source": [
        "def generate_chat_response(system_content, user_content):\n",
        "    # Create two message dictionaries, one for the system and one for the user.\n",
        "    system = {'role': 'system', 'content': system_content}\n",
        "    user = {'role': 'user', 'content': user_content}\n",
        "\n",
        "    # Use OpenAI's ChatCompletion API to generate a response.\n",
        "    response = openai.ChatCompletion.create(\n",
        "        model='gpt-4',\n",
        "        messages=[system, user],  # List of messages (system and user)\n",
        "        max_tokens=1200  # Set a limit on the number of tokens in the response\n",
        "    )\n",
        "\n",
        "    # Return the generated response.\n",
        "    return response"
      ]
    },
    {
      "cell_type": "markdown",
      "metadata": {
        "id": "AqynV95a0bg6"
      },
      "source": [
        "Let's craft a prompt to generate a simple python method"
      ]
    },
    {
      "cell_type": "code",
      "execution_count": null,
      "metadata": {
        "id": "8fF_6iPX0iuK"
      },
      "outputs": [],
      "source": [
        "system_content = \"\"\"\n",
        "You are a python code generator. The user provides a task or a problem and you will generate a python code to solve the problem.\n",
        "Please ensure that the code is correct and executable, and return only the code inside triple backticks(```)\n",
        "\"\"\"\n",
        "\n",
        "user_content = \"Generate a python method that gets a number and returns if the number is even or odd.\"\n",
        "\n",
        "response = generate_chat_response(system_content, user_content)\n",
        "content = response.choices[0].message.content\n",
        "print(\"Content: \", content)"
      ]
    },
    {
      "cell_type": "markdown",
      "metadata": {
        "id": "HE2Yzdv0zdOw"
      },
      "source": [
        "Let's extract the code from the prompt response"
      ]
    },
    {
      "cell_type": "code",
      "execution_count": null,
      "metadata": {
        "id": "zb7kWqheUWeq"
      },
      "outputs": [],
      "source": [
        "def extract_code(response_content):\n",
        "    # Define a regular expression pattern to match text between triple backticks (```)\n",
        "    pattern = r'```(.*?)```'\n",
        "\n",
        "    # Use re.findall to find all non-overlapping matches of the pattern in the input string\n",
        "    matches = re.findall(pattern, response_content, re.DOTALL)\n",
        "\n",
        "    # Remove the python keyword from in the code and Return the first match found\n",
        "    return matches[0].replace(\"python\", \"\")\n",
        "\n",
        "\n",
        "code = extract_code(content)\n",
        "print(\"Code: \", code)"
      ]
    },
    {
      "cell_type": "markdown",
      "metadata": {
        "id": "unC1WW7y08xg"
      },
      "source": [
        "Now let's execute the generated code and use it"
      ]
    },
    {
      "cell_type": "code",
      "execution_count": null,
      "metadata": {
        "id": "lBjGxmjhgkW1"
      },
      "outputs": [],
      "source": [
        "exec(code)\n",
        "check_number(5)"
      ]
    },
    {
      "cell_type": "markdown",
      "metadata": {
        "id": "OysV-evMv5n7"
      },
      "source": [
        "### Task 4 - Generate Python Code for Data Preparation"
      ]
    },
    {
      "cell_type": "markdown",
      "metadata": {
        "id": "z5s8siqoxfvL"
      },
      "source": [
        "Defining `generate_code` helper method"
      ]
    },
    {
      "cell_type": "code",
      "execution_count": null,
      "metadata": {
        "id": "3t-fTivvw9He"
      },
      "outputs": [],
      "source": [
        "def generate_code(system_content, user_content):\n",
        "    # Create two message dictionaries, one for the system and one for the user.\n",
        "    system = {'role': 'system', 'content': system_content}\n",
        "    user = {'role': 'user', 'content': user_content}\n",
        "\n",
        "    # Use OpenAI's ChatCompletion API to generate a response.\n",
        "    response = openai.ChatCompletion.create(\n",
        "        model='gpt-4',\n",
        "        messages=[system, user],  # List of messages (system and user)\n",
        "        max_tokens=1200  # Set a limit on the number of tokens in the response\n",
        "    )\n",
        "\n",
        "    # Extract the response content\n",
        "    response_content = response.choices[0].message.content\n",
        "\n",
        "    # Define a regular expression pattern to match text between triple backticks (```)\n",
        "    pattern = r'```(.*?)```'\n",
        "\n",
        "    # Use re.findall to find all non-overlapping matches of the pattern in the input string\n",
        "    matches = re.findall(pattern, response_content, re.DOTALL)\n",
        "\n",
        "    # Remove the python keyword from in the code and Return the first match found\n",
        "    return matches[0].replace(\"python\", \"\")"
      ]
    },
    {
      "cell_type": "markdown",
      "metadata": {
        "id": "mDxhsA_EyoJF"
      },
      "source": [
        "Let's load product sales dataset"
      ]
    },
    {
      "cell_type": "code",
      "execution_count": null,
      "metadata": {
        "id": "NiK75QPbyrgD"
      },
      "outputs": [],
      "source": [
        "sales_data = pd.read_csv(\"product_sales_dataset.csv\")\n",
        "sales_data.head()"
      ]
    },
    {
      "cell_type": "markdown",
      "metadata": {
        "id": "lDD0uSHXAiWo"
      },
      "source": [
        "Let's check the data types in our dataset"
      ]
    },
    {
      "cell_type": "code",
      "execution_count": null,
      "metadata": {
        "id": "BGS_hepG-THO"
      },
      "outputs": [],
      "source": [
        "sales_data.dtypes"
      ]
    },
    {
      "cell_type": "markdown",
      "metadata": {
        "id": "BDU7R4ndAmjj"
      },
      "source": [
        "**Some Data Preparation**\n",
        "* Extract month name from the `date` column\n",
        "* Calculate profit per product\n"
      ]
    },
    {
      "cell_type": "code",
      "execution_count": null,
      "metadata": {
        "id": "sZonfVoUAltP"
      },
      "outputs": [],
      "source": [
        "system_content = \"\"\"\n",
        "You are a python code generator. The user provides a task or a problem and you will generate a python code to solve the problem.\n",
        "Please ensure that the code is correct and executable, and return only the code inside triple backticks(```)\n",
        "\"\"\"\n",
        "\n",
        "user_content = \"\"\"\n",
        "Return a python method called get_month_names. That gets a pandas series containing some dates with string data type.\n",
        "And returns a pandas series containing the month name of each date.\n",
        "\"\"\"\n",
        "\n",
        "code = generate_code(system_content, user_content)\n",
        "print(\"Code: \", code)"
      ]
    },
    {
      "cell_type": "markdown",
      "metadata": {
        "id": "MG2Ap0pNDOcK"
      },
      "source": [
        "Let's execute this code"
      ]
    },
    {
      "cell_type": "code",
      "execution_count": null,
      "metadata": {
        "id": "7q-JiKICDRIC"
      },
      "outputs": [],
      "source": [
        "exec(code)\n",
        "#get_month_names(sales_data[\"date\"])\n",
        "sales_data[\"month\"] = get_month_names(sales_data[\"date\"])\n",
        "sales_data.head()"
      ]
    },
    {
      "cell_type": "markdown",
      "metadata": {
        "id": "rs6frRFlD6WH"
      },
      "source": [
        "Lets calculate profit per product"
      ]
    },
    {
      "cell_type": "code",
      "execution_count": null,
      "metadata": {
        "id": "91f3QK2YDW_H"
      },
      "outputs": [],
      "source": [
        "user_content = \"\"\"\n",
        "Return a python method that gets a dataframe, product_cost, product_price and items_sold as input.\n",
        "And it calculates the profit per product and append it as a new column called 'product_profit' to the dataframe.\n",
        "And then it return the dataframe.\n",
        "\"\"\"\n",
        "\n",
        "code = generate_code(system_content, user_content)\n",
        "print(\"Code: \", code)"
      ]
    },
    {
      "cell_type": "markdown",
      "metadata": {
        "id": "ZVzzOwlTFT2A"
      },
      "source": [
        "Now let's execute this code and use it."
      ]
    },
    {
      "cell_type": "code",
      "execution_count": null,
      "metadata": {
        "id": "ZS6IyKo4E5E1"
      },
      "outputs": [],
      "source": [
        "exec(code)\n",
        "sales_data = calculate_product_profit(sales_data, \"product_cost\", \"product_price\", \"items_sold\")\n",
        "sales_data.head()"
      ]
    },
    {
      "cell_type": "markdown",
      "metadata": {
        "id": "z11i_5RpFsQp"
      },
      "source": [
        "### Task 5 - Generate Python Code for Data Visualization"
      ]
    },
    {
      "cell_type": "markdown",
      "metadata": {
        "id": "IqlZldsFF8_k"
      },
      "source": [
        "Defining some helper functions"
      ]
    },
    {
      "cell_type": "code",
      "execution_count": null,
      "metadata": {
        "id": "FikByEF6FymM"
      },
      "outputs": [],
      "source": [
        "def generate_chat_response(system_content, user_content):\n",
        "    # Create two message dictionaries, one for the system and one for the user.\n",
        "    system = {'role': 'system', 'content': system_content}\n",
        "    user = {'role': 'user', 'content': user_content}\n",
        "\n",
        "    # Use OpenAI's ChatCompletion API to generate a response.\n",
        "    response = openai.ChatCompletion.create(\n",
        "        model='gpt-4',\n",
        "        messages=[system, user],  # List of messages (system and user)\n",
        "        max_tokens=1200  # Set a limit on the number of tokens in the response\n",
        "    )\n",
        "\n",
        "    # Return the generated response.\n",
        "    return response\n",
        "\n",
        "\n",
        "def extract_code(response_content):\n",
        "    # Define a regular expression pattern to match text between triple backticks (```)\n",
        "    pattern = r'```(.*?)```'\n",
        "\n",
        "    # Use re.findall to find all non-overlapping matches of the pattern in the input string\n",
        "    matches = re.findall(pattern, response_content, re.DOTALL)\n",
        "\n",
        "    # Remove the python keyword from in the code and Return the first match found\n",
        "    return matches[0].replace(\"python\", \"\")\n",
        "\n",
        "\n",
        "def generate_code_and_execute(user_content, execute=True):\n",
        "    # Defining system content for code generation\n",
        "    system_content = \"\"\"\n",
        "    You are a python code generator. You know pandas. You answer to every question with Python code.\n",
        "    You return python code wrapped in ``` delimiter. Import any neede python module. And you don't provide any elaborations.\n",
        "    \"\"\"\n",
        "\n",
        "    # generate chat response\n",
        "    response = generate_chat_response(system_content, user_content)\n",
        "\n",
        "    # extract resonse content\n",
        "    response_content = response.choices[0].message.content\n",
        "\n",
        "    # let's extract the code from the response content\n",
        "    code = extract_code(response_content)\n",
        "\n",
        "    if execute:\n",
        "        exec(code, globals())  # Execute the generated Python code if execute is set to True\n",
        "\n",
        "    return code\n",
        "\n",
        "\n",
        "def update_code(code, user_content, execute = True):\n",
        "    # Defining system content for code update\n",
        "    system_content = f\"\"\"\n",
        "    You are a python code generator. You know pandas. You are given the following python method: {code}. Update the code based on the user content. Do not change the method name.\n",
        "    You return the updated python code wrapped in ``` delimiter. And you don't provide any elaborations.\n",
        "    \"\"\"\n",
        "    # generate chat response\n",
        "    response_content = generate_chat_response(system_content, user_content).choices[0].message.content\n",
        "\n",
        "    # extracting the code\n",
        "    new_code = extract_code(response_content)\n",
        "\n",
        "    if execute:\n",
        "        exec(new_code, globals())  # Execute the generated Python code if execute is set to True\n",
        "\n",
        "    return new_code"
      ]
    },
    {
      "cell_type": "markdown",
      "metadata": {
        "id": "zTqZ35pjtnRx"
      },
      "source": [
        "Let's check our data again"
      ]
    },
    {
      "cell_type": "code",
      "execution_count": null,
      "metadata": {
        "id": "uyxBLUy8svbK"
      },
      "outputs": [],
      "source": [
        "sales_data"
      ]
    },
    {
      "cell_type": "markdown",
      "metadata": {
        "id": "26FZODafwCey"
      },
      "source": [
        "\n",
        "**Question 1-** How does the daily `average` profit change over time?\n",
        "\n",
        "Steps to answer this question:\n",
        "\n",
        "1. Aggregate our data to have average `Product_Profit` per day.\n",
        "2. Draw a line chart to visualize the data\n"
      ]
    },
    {
      "cell_type": "code",
      "execution_count": null,
      "metadata": {
        "id": "fAHyXbfOvX3J"
      },
      "outputs": [],
      "source": [
        "user_content = \"Return a python method called plot_average_profit_per_day that gets a dataframe, aggregate the dataframe based on 'Date' column and calculate the average 'Product_profit'. Then drwns a line chart to visualize how the average daily profit changes over time. Use seaborn module.\"\n",
        "\n",
        "code = generate_code_and_execute(user_content)\n",
        "print(\"Code: \", code)"
      ]
    },
    {
      "cell_type": "markdown",
      "metadata": {
        "id": "Zpe6jn3B8uhE"
      },
      "source": [
        "Let's use the generated method"
      ]
    },
    {
      "cell_type": "code",
      "execution_count": null,
      "metadata": {
        "id": "hY9QhMIV5yea"
      },
      "outputs": [],
      "source": [
        "plot_average_profit_per_day(sales_data)"
      ]
    },
    {
      "cell_type": "markdown",
      "metadata": {
        "id": "IAU20IviGGb4"
      },
      "source": [
        "What if we want to update the generated visualization?"
      ]
    },
    {
      "cell_type": "code",
      "execution_count": null,
      "metadata": {
        "id": "T8ojRLz8zem5"
      },
      "outputs": [],
      "source": [
        "new_code = update_code(code, \"change the line color to orange. And reduce the line thickness.\")\n",
        "\n",
        "print(\"New Code: \", new_code)"
      ]
    },
    {
      "cell_type": "markdown",
      "metadata": {
        "id": "ucJEB92I_Ltz"
      },
      "source": [
        "Running the new code"
      ]
    },
    {
      "cell_type": "code",
      "execution_count": null,
      "metadata": {
        "id": "uFnsmn285Vpe"
      },
      "outputs": [],
      "source": [
        "plot_average_profit_per_day(sales_data)"
      ]
    },
    {
      "cell_type": "markdown",
      "metadata": {
        "id": "TGk0ftFur9xs"
      },
      "source": [
        "**Execrise:** Question 2 - Create a barchart visualization to show total average profit per Product Category."
      ]
    },
    {
      "cell_type": "code",
      "execution_count": null,
      "metadata": {
        "id": "wXK-mk2W5ftU"
      },
      "outputs": [],
      "source": [
        "user_content = \"Return a python method called plot_total_average_per_category that gets a dataframes, aggergate the dataframe based on 'Product_profit'. Then draws a bar chart to visualize the results to compare average profit per product.\"\n",
        "\n",
        "code = generate_code_and_execute(user_content)\n",
        "print(\"Code: \", code)"
      ]
    },
    {
      "cell_type": "code",
      "execution_count": null,
      "metadata": {
        "id": "XaeApPxnuThL"
      },
      "outputs": [],
      "source": [
        "plot_total_average_per_category(sales_data)"
      ]
    },
    {
      "cell_type": "markdown",
      "metadata": {
        "id": "Zfu-fTgIuZlF"
      },
      "source": [
        "Updating the code to have bar chart with different bar color per product category."
      ]
    },
    {
      "cell_type": "code",
      "execution_count": null,
      "metadata": {
        "id": "y36xxUknueeE"
      },
      "outputs": [],
      "source": [
        "new_code = update_code(code, \"Update the code assign different colors to each product category and make the chart bigger.\")\n",
        "\n",
        "print(\"New Code: \", new_code)"
      ]
    },
    {
      "cell_type": "markdown",
      "metadata": {
        "id": "x3smjNBfzJ8W"
      },
      "source": [
        "### Task 6 - Create Visualizations using AI"
      ]
    },
    {
      "cell_type": "markdown",
      "metadata": {
        "id": "L7J5WHcDHbTB"
      },
      "source": [
        "Let's checkout the data again"
      ]
    },
    {
      "cell_type": "code",
      "execution_count": null,
      "metadata": {
        "id": "TSnc88aP6mo3"
      },
      "outputs": [],
      "source": [
        "sales_data"
      ]
    },
    {
      "cell_type": "markdown",
      "metadata": {
        "id": "9r1Py-TszzP7"
      },
      "source": [
        "**Question 3** - Which product has the highest total sold items?"
      ]
    },
    {
      "cell_type": "code",
      "execution_count": null,
      "metadata": {
        "id": "i3TSRVbGzusN"
      },
      "outputs": [],
      "source": [
        "user_content = \"\"\"\n",
        "Return python method called plot_sold_items_per_product that gets dataframe.\n",
        "First, it aggregates the data based on the 'Product_Name' and calculate the sum of 'Items_Sold' column.\n",
        "Then it draws a bar chart to visualize the results.\n",
        "\"\"\"\n",
        "\n",
        "code = generate_code_and_execute(user_content)\n",
        "plot_sold_items_per_product(sales_data)\n",
        "print(\"Code: \", code)"
      ]
    },
    {
      "cell_type": "markdown",
      "metadata": {
        "id": "e8UPA-5_7wXG"
      },
      "source": [
        "Let's make it a horizontal bar chart and highlight the prodcut with the highest number of sold items."
      ]
    },
    {
      "cell_type": "code",
      "execution_count": null,
      "metadata": {
        "id": "Uwy_OTDm7e6I"
      },
      "outputs": [],
      "source": [
        "new_code = update_code(code, user_content=\"Make the bar chart horizontal. Highlight the product name with higher number of sold items.\")\n",
        "\n",
        "plot_sold_items_per_product(sales_data)\n",
        "print(\"New Code: \", new_code)"
      ]
    }
  ],
  "metadata": {
    "colab": {
      "provenance": []
    },
    "kernelspec": {
      "display_name": "Python 3 (ipykernel)",
      "language": "python",
      "name": "python3"
    },
    "language_info": {
      "codemirror_mode": {
        "name": "ipython",
        "version": 3
      },
      "file_extension": ".py",
      "mimetype": "text/x-python",
      "name": "python",
      "nbconvert_exporter": "python",
      "pygments_lexer": "ipython3",
      "version": "3.12.0"
    }
  },
  "nbformat": 4,
  "nbformat_minor": 0
}