{
  "cells": [
    {
      "cell_type": "markdown",
      "metadata": {
        "id": "waSS96gPuPCF"
      },
      "source": [
        "# **Welcome to The Notebook**"
      ]
    },
    {
      "cell_type": "markdown",
      "metadata": {
        "id": "ZlZamiGhutkW"
      },
      "source": [
        "### Task 1 - Set up the project environment"
      ]
    },
    {
      "cell_type": "markdown",
      "metadata": {
        "id": "G3vynbDOu1F6"
      },
      "source": [
        "Installing the needed modules"
      ]
    },
    {
      "cell_type": "code",
      "execution_count": null,
      "metadata": {
        "id": "scn7mBZ6J_xW"
      },
      "outputs": [],
      "source": [
        "!pip install openai==0.28 python-dotenv"
      ]
    },
    {
      "cell_type": "markdown",
      "metadata": {
        "id": "QZfGLwZGu7Ub"
      },
      "source": [
        "Importing the modules"
      ]
    },
    {
      "cell_type": "code",
      "execution_count": null,
      "metadata": {
        "id": "0hV3HIWIu-5b"
      },
      "outputs": [],
      "source": [
        "import pandas as pd\n",
        "import os\n",
        "import openai\n",
        "from dotenv import load_dotenv\n",
        "import json"
      ]
    },
    {
      "cell_type": "markdown",
      "metadata": {
        "id": "MJSWMOV3vCQ1"
      },
      "source": [
        "Setting up the OpenAI API:\n",
        "\n",
        "1. Prepare a `.env` file to store the OpenAI API key.\n",
        "2. Uploading the `.env` file to our colab environment\n",
        "3. Load the API key and setup the API"
      ]
    },
    {
      "cell_type": "markdown",
      "metadata": {
        "id": "xy4rUlZFJmLO"
      },
      "source": [
        "Upload your `.env` file here"
      ]
    },
    {
      "cell_type": "code",
      "execution_count": null,
      "metadata": {
        "id": "3HKFQThwJlhI"
      },
      "outputs": [],
      "source": [
        "from google.colab import files\n",
        "\n",
        "uploaded = files.upload()"
      ]
    },
    {
      "cell_type": "markdown",
      "metadata": {
        "id": "H3PJlXaIL_L-"
      },
      "source": [
        "Now let's load environment variables and get the API key"
      ]
    },
    {
      "cell_type": "code",
      "execution_count": null,
      "metadata": {
        "id": "yTA95zNovJ-h"
      },
      "outputs": [],
      "source": [
        "load_dotenv(dotenv_path=\"apikey.env.txt\")\n",
        "\n",
        "APIKEY = os.getenv(\"APIKEY\")\n",
        "ORGID = os.getenv(\"ORGID\")"
      ]
    },
    {
      "cell_type": "markdown",
      "metadata": {
        "id": "DLTngLSOMnCV"
      },
      "source": [
        "Let's setup our OpenAI API"
      ]
    },
    {
      "cell_type": "code",
      "execution_count": null,
      "metadata": {
        "id": "csXxHaNeMqbU"
      },
      "outputs": [],
      "source": [
        "openai.organization = ORGID\n",
        "openai.api_key = APIKEY"
      ]
    },
    {
      "cell_type": "markdown",
      "metadata": {
        "id": "2sF80TRaQTlo"
      },
      "source": [
        "### Task 2 - Craft Prompts to Communicate with the API"
      ]
    },
    {
      "cell_type": "markdown",
      "metadata": {
        "id": "8dMeTCJkWI6S"
      },
      "source": [
        "To communicate with the API we need to learn how to craft a prompt.\n",
        "\n",
        "A prompt object contains two elements:\n",
        "1. Role: Specifies the communicator's role—either `User`, `System`, or `Assistant`.\n",
        "2. Content: Contains the text of the communication\n",
        "\n",
        "example:\n",
        "`prompt = {'role': 'user', 'content': 'what is the captial of Italy?'}`\n",
        "\n",
        "Different Roles:\n",
        "\n",
        "- **User**: Initiates the conversation, asks questions, and gives instructions to - the AI model.\n",
        "- **System**: Sets the initial context or instructions for the conversation, guiding the AI's behavior.\n",
        "- **Assistant**: Generates responses based on the user's queries and the context provided by the system, acting as the AI model's replies.\n",
        "\n",
        "User initiates the conversation, system provides context, and assistant generates responses.\n"
      ]
    },
    {
      "cell_type": "code",
      "execution_count": null,
      "metadata": {
        "id": "hcqGQShpQWdo"
      },
      "outputs": [],
      "source": [
        "user_prompt = {'role': 'user', 'content': 'Name the main four ingrediments of Beef Wellington'}\n",
        "\n",
        "response = openai.ChatCompletion.create(\n",
        "    model=\"gpt-4\",\n",
        "    messages=[user_prompt],\n",
        "    max_tokens=50,\n",
        ")\n",
        "\n",
        "content = response['choices'][0]['message']['content']\n",
        "print('Content: ', content)"
      ]
    },
    {
      "cell_type": "markdown",
      "metadata": {
        "id": "z-U2zEtSbsxy"
      },
      "source": [
        "### Task 3 - Add context to prompts\n",
        "\n",
        "\n"
      ]
    },
    {
      "cell_type": "markdown",
      "metadata": {
        "id": "NVBn1lu2Wjnu"
      },
      "source": [
        "To add context to our prompt. We need specify some contents for the `system` role."
      ]
    },
    {
      "cell_type": "code",
      "execution_count": null,
      "metadata": {
        "id": "-YqOFNLxVi_E"
      },
      "outputs": [],
      "source": [
        "user_prompt = {'role': 'user', 'content': 'Name the main four ingrediments of Beef Wellington'}\n",
        "system_prompt = {'role': 'system', 'content': 'whatever user asked you, answer with rap lyrics'}\n",
        "\n",
        "response = openai.ChatCompletion.create(\n",
        "    model=\"gpt-4\",\n",
        "    messages=[system_prompt, user_prompt],\n",
        "    max_tokens=100,\n",
        ")\n",
        "\n",
        "content = response['choices'][0]['message']['content']\n",
        "print('Content: ', content)"
      ]
    },
    {
      "cell_type": "markdown",
      "metadata": {
        "id": "jUNsmnZTgNdl"
      },
      "source": [
        "Exercise: Write a Python function called `prompt` that takes system and user input, sends a request to GPT-4, and returns the response."
      ]
    },
    {
      "cell_type": "code",
      "execution_count": null,
      "metadata": {
        "id": "72CmCZH2ggdZ"
      },
      "outputs": [],
      "source": [
        "def prompt(system_content, user_content):\n",
        "  system_prompt = {'role': 'system', 'content': system_content}\n",
        "  user_prompt = {'role': 'user', 'content': user_content}\n",
        "\n",
        "  response = openai.ChatCompletion.create(\n",
        "      model=\"gpt-4\",\n",
        "      messages=[system_prompt, user_prompt],\n",
        "      max_tokens=100,\n",
        "  )\n",
        "\n",
        "  content = response['choices'][0]['message']['content']\n",
        "  return content\n",
        "\n",
        "response_content = prompt(system_content=\"Whatever user asked you, answer with rap lyrics\",\n",
        "                          user_content=\"Name the main four ingrediments of Beef Wellington\")\n",
        "\n",
        "print(response_content)"
      ]
    },
    {
      "cell_type": "markdown",
      "metadata": {
        "id": "5LTkh2OadLgb",
        "jp-MarkdownHeadingCollapsed": true
      },
      "source": [
        "### Task 4 - Include Data in prompts"
      ]
    },
    {
      "cell_type": "markdown",
      "metadata": {
        "id": "1cPUXVLeWMEp"
      },
      "source": [
        "We have a list of numbers:"
      ]
    },
    {
      "cell_type": "code",
      "execution_count": null,
      "metadata": {
        "id": "u6ndUeyKkect"
      },
      "outputs": [],
      "source": [
        "import numpy as np\n",
        "from statistics import mean, mode, variance\n",
        "\n",
        "values = [3, 5, 2, 12, 9, 8, 3]\n",
        "#print(values)\n",
        "print('Mean: ', mean(values))\n",
        "#print('Mode: ', mode(values))\n",
        "#print('Variance: ', variance(values))"
      ]
    },
    {
      "cell_type": "markdown",
      "metadata": {
        "id": "Gwkrxm6MWZ0Y"
      },
      "source": [
        "Let's create a prompt and include the data in the context\n"
      ]
    },
    {
      "cell_type": "code",
      "execution_count": null,
      "metadata": {
        "id": "w2fqE6M7l3_E"
      },
      "outputs": [],
      "source": [
        "system_content = f\"Answer any question that the user asks you about the following list of values: {values}. Please do not provide any additional explanation.\"\n",
        "\n",
        "user_content = \"What is the mean of the list?\"\n",
        "\n",
        "response_content = prompt(system_content, user_content)\n",
        "\n",
        "print(response_content)"
      ]
    },
    {
      "cell_type": "markdown",
      "metadata": {
        "id": "snh5Vs_1pKOo"
      },
      "source": [
        "Sorting the list: `ascending` and `descending`"
      ]
    },
    {
      "cell_type": "code",
      "execution_count": null,
      "metadata": {
        "id": "eYI_qsOwpMgJ"
      },
      "outputs": [],
      "source": [
        "user_content = \"Sort the values descending and return th list.\"\n",
        "\n",
        "response_content = prompt(system_content, user_content)\n",
        "\n",
        "print(response_content)"
      ]
    },
    {
      "cell_type": "markdown",
      "metadata": {
        "id": "69hZ16CcpuRD"
      },
      "source": [
        "Excercise: Use the prompt method to return only the odd values in the list."
      ]
    },
    {
      "cell_type": "code",
      "execution_count": null,
      "metadata": {
        "id": "uKzI7fKwp1Ko"
      },
      "outputs": [],
      "source": [
        "user_content = \"Return only odd values in the list.\"\n",
        "\n",
        "response_content = prompt(system_content, user_content)\n",
        "\n",
        "print(response_content)"
      ]
    },
    {
      "cell_type": "markdown",
      "metadata": {
        "id": "orbFCfDuouIB"
      },
      "source": [
        "### Task 5 - Ask analytical questions based on data\n"
      ]
    },
    {
      "cell_type": "markdown",
      "metadata": {
        "id": "1SyInPo_bNT7"
      },
      "source": [
        "Let's load the `grades` dataset."
      ]
    },
    {
      "cell_type": "code",
      "execution_count": null,
      "metadata": {
        "id": "-D5GvljBerf2"
      },
      "outputs": [],
      "source": [
        "grades = pd.read_csv('grades.csv')\n",
        "grades.head()"
      ]
    },
    {
      "cell_type": "markdown",
      "metadata": {
        "id": "SN7H3uPKbQj4"
      },
      "source": [
        "Let's convert the dataframe to json"
      ]
    },
    {
      "cell_type": "code",
      "execution_count": null,
      "metadata": {
        "id": "HrP6ae9fZTGB"
      },
      "outputs": [],
      "source": [
        "json_data = grades.to_json(orient='records')\n",
        "print(json_data)"
      ]
    },
    {
      "cell_type": "markdown",
      "metadata": {
        "id": "t9B5t9B1bYs3"
      },
      "source": [
        "Question: Who has the highest grade among the students?"
      ]
    },
    {
      "cell_type": "code",
      "execution_count": null,
      "metadata": {
        "id": "P04gnFhqgHDs"
      },
      "outputs": [],
      "source": [
        "system_content = f\"Answer any question that the user asks you about the following list of values: {json_data}. Please do not provide any additional explanation.\"\n",
        "user_content = \"Who has the highest grade among the students?\"\n",
        "\n",
        "prompt(system_content, user_content)"
      ]
    },
    {
      "cell_type": "markdown",
      "metadata": {
        "id": "Cvq9ZtI-XWMb"
      },
      "source": [
        "Analytical Question: `Based on the data, can we conclude that students who studied more in a week received higher grades?`"
      ]
    },
    {
      "cell_type": "code",
      "execution_count": null,
      "metadata": {
        "id": "lW1fayG-gG-b"
      },
      "outputs": [],
      "source": [
        "user_content = \"Based on the data, can we conclude that students who studied more in a week received higher grades?\"\n",
        "\n",
        "prompt(system_content, user_content)"
      ]
    },
    {
      "cell_type": "markdown",
      "metadata": {
        "id": "XByG41TKwW-s"
      },
      "source": [
        "### Task 6 - Product Sales Analysis with Prompts\n",
        "1. Loading the `product_sales.csv` dataset\n",
        "2. Exploring the dataset using prompts\n",
        "3. Answering some analytical questions"
      ]
    },
    {
      "cell_type": "markdown",
      "metadata": {
        "id": "qkmXHnFH9a9m"
      },
      "source": [
        "Loading the `product_sales.csv` dataset"
      ]
    },
    {
      "cell_type": "code",
      "execution_count": null,
      "metadata": {
        "id": "FQAyBhNtwWab"
      },
      "outputs": [],
      "source": [
        "sales = pd.read_csv('product_sales.csv')\n",
        "json_data = sales.to_json(orient='records')\n",
        "\n",
        "print(json_data)"
      ]
    },
    {
      "cell_type": "markdown",
      "metadata": {
        "id": "OLPEy7H69lTo"
      },
      "source": [
        "Let's explore the dataset"
      ]
    },
    {
      "cell_type": "code",
      "execution_count": null,
      "metadata": {
        "id": "uiQzjBTxn67J"
      },
      "outputs": [],
      "source": [
        "system_content = f\"Act like data analyst. consider the following dataset: {json_data}. Answer the user's questions about the dataset and avoid any additional explanation.\"\n",
        "user_content = \"Explore the provided product sales data and return a list of 10 bulletpoints containing some facts that can be interesting for data analysts about the data.\"\n",
        "\n",
        "response = prompt(system_content, user_content)\n",
        "print('Response: ', response)"
      ]
    },
    {
      "cell_type": "markdown",
      "metadata": {
        "id": "btRNk_i0FeYi"
      },
      "source": [
        "Question 1 - Which product brought the highest Profit?"
      ]
    },
    {
      "cell_type": "code",
      "execution_count": null,
      "metadata": {
        "id": "TapNyXQh-oxY"
      },
      "outputs": [],
      "source": [
        "user_content = \"Which product brought the highest Profit?\"\n",
        "\n",
        "response = prompt(system_content, user_content)\n",
        "print('Response: ', response)"
      ]
    },
    {
      "cell_type": "markdown",
      "metadata": {
        "id": "za40_pvvELQB"
      },
      "source": [
        "Let's see if the answer is correct."
      ]
    },
    {
      "cell_type": "code",
      "execution_count": null,
      "metadata": {
        "id": "NJcp7eBjBSrF"
      },
      "outputs": [],
      "source": [
        "sales.['product_profit'] = (sales.price - sales.cost) * sales.sold_quantity\n",
        "sales.sort_values(by='product_profit', ascending=False)"
      ]
    },
    {
      "cell_type": "markdown",
      "metadata": {
        "id": "Pu8EeNGrLZSI"
      },
      "source": [
        "Question 2 - Which product category has the lowest product demand?"
      ]
    },
    {
      "cell_type": "code",
      "execution_count": null,
      "metadata": {
        "id": "O-jUBe3SCrF1"
      },
      "outputs": [],
      "source": [
        "user_content = \"Which product category has the lowest product demand?\"\n",
        "\n",
        "response = prompt(system_content, user_content)\n",
        "print('Response: ', response)"
      ]
    },
    {
      "cell_type": "markdown",
      "metadata": {
        "id": "FlRudZeMMycL"
      },
      "source": [
        "ex: Question 3 - Which Product Category brought the highest amount of profit?"
      ]
    },
    {
      "cell_type": "code",
      "execution_count": null,
      "metadata": {
        "id": "chNeiZU0M2ez"
      },
      "outputs": [],
      "source": [
        "user_content = \"Which Product Category brought the highest amount of profit?\"\n",
        "\n",
        "response = prompt(system_content, user_content)\n",
        "print('Response: ', response)"
      ]
    },
    {
      "cell_type": "markdown",
      "metadata": {
        "id": "n067yXECNJ7H"
      },
      "source": [
        "ex: Write a python code and check if the answer is correct."
      ]
    },
    {
      "cell_type": "code",
      "execution_count": null,
      "metadata": {
        "id": "oNT7sFJqNMab"
      },
      "outputs": [],
      "source": [
        "sales.groupby('category')['product_profit'].sum().reset_index().sort_values(by='product_profit', ascending=False)"
      ]
    }
  ],
  "metadata": {
    "colab": {
      "provenance": []
    },
    "kernelspec": {
      "display_name": "Python 3 (ipykernel)",
      "language": "python",
      "name": "python3"
    },
    "language_info": {
      "codemirror_mode": {
        "name": "ipython",
        "version": 3
      },
      "file_extension": ".py",
      "mimetype": "text/x-python",
      "name": "python",
      "nbconvert_exporter": "python",
      "pygments_lexer": "ipython3",
      "version": "3.12.0"
    }
  },
  "nbformat": 4,
  "nbformat_minor": 0
}