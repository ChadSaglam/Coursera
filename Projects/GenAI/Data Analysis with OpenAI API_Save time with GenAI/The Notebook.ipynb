{
 "cells": [
  {
   "cell_type": "markdown",
   "metadata": {
    "id": "waSS96gPuPCF"
   },
   "source": [
    "# **Welcome to The Notebook**"
   ]
  },
  {
   "cell_type": "markdown",
   "metadata": {
    "id": "ZlZamiGhutkW"
   },
   "source": [
    "### Task 1 - Set up the project environment"
   ]
  },
  {
   "cell_type": "markdown",
   "metadata": {
    "id": "G3vynbDOu1F6"
   },
   "source": [
    "Installing the needed modules"
   ]
  },
  {
   "cell_type": "code",
   "execution_count": null,
   "metadata": {
    "colab": {
     "base_uri": "https://localhost:8080/"
    },
    "id": "scn7mBZ6J_xW",
    "outputId": "f68dae2c-ec91-4ed3-bc00-f70a7c61e443"
   },
   "outputs": [],
   "source": [
    "!pip install openai==0.28 python-dotenv"
   ]
  },
  {
   "cell_type": "markdown",
   "metadata": {
    "id": "QZfGLwZGu7Ub"
   },
   "source": [
    "Importing the modules"
   ]
  },
  {
   "cell_type": "code",
   "execution_count": null,
   "metadata": {
    "id": "0hV3HIWIu-5b"
   },
   "outputs": [],
   "source": [
    "import pandas as pd\n",
    "import os\n",
    "import openai\n",
    "from dotenv import load_dotenv\n",
    "import json"
   ]
  },
  {
   "cell_type": "markdown",
   "metadata": {
    "id": "MJSWMOV3vCQ1"
   },
   "source": [
    "Setting up the OpenAI API:\n",
    "\n",
    "1. Prepare a `.env` file to store the OpenAI API key.\n",
    "2. Uploading the `.env` file to our colab environment\n",
    "3. Load the API key and setup the API"
   ]
  },
  {
   "cell_type": "markdown",
   "metadata": {
    "id": "xy4rUlZFJmLO"
   },
   "source": [
    "Upload your `.env` file here"
   ]
  },
  {
   "cell_type": "code",
   "execution_count": null,
   "metadata": {
    "colab": {
     "base_uri": "https://localhost:8080/",
     "height": 73
    },
    "id": "3HKFQThwJlhI",
    "outputId": "38015556-1279-4f78-fa74-8725192ce71d"
   },
   "outputs": [],
   "source": [
    "from google.colab import files\n",
    "\n",
    "uploaded = files.upload()"
   ]
  },
  {
   "cell_type": "markdown",
   "metadata": {
    "id": "H3PJlXaIL_L-"
   },
   "source": [
    "Now let's load environment variables and get the API key"
   ]
  },
  {
   "cell_type": "code",
   "execution_count": null,
   "metadata": {
    "colab": {
     "base_uri": "https://localhost:8080/"
    },
    "id": "yTA95zNovJ-h",
    "outputId": "037ce571-d7ab-4cf9-c5f9-b340964166f7"
   },
   "outputs": [],
   "source": []
  },
  {
   "cell_type": "markdown",
   "metadata": {
    "id": "DLTngLSOMnCV"
   },
   "source": [
    "Let's setup our OpenAI API"
   ]
  },
  {
   "cell_type": "code",
   "execution_count": null,
   "metadata": {
    "id": "csXxHaNeMqbU"
   },
   "outputs": [],
   "source": []
  },
  {
   "cell_type": "markdown",
   "metadata": {
    "id": "2sF80TRaQTlo"
   },
   "source": [
    "### Task 2 - Craft Prompts to Communicate with the API"
   ]
  },
  {
   "cell_type": "markdown",
   "metadata": {
    "id": "8dMeTCJkWI6S"
   },
   "source": [
    "To communicate with the API we need to learn how to craft a prompt.\n",
    "\n",
    "A prompt object contains two elements:\n",
    "1. Role: Specifies the communicator's role—either `User`, `System`, or `Assistant`.\n",
    "2. Content: Contains the text of the communication\n",
    "\n",
    "example:\n",
    "`prompt = {'role': 'user', 'content': 'what is the captial of Italy?'}`\n",
    "\n",
    "Different Roles:\n",
    "\n",
    "- **User**: Initiates the conversation, asks questions, and gives instructions to - the AI model.\n",
    "- **System**: Sets the initial context or instructions for the conversation, guiding the AI's behavior.\n",
    "- **Assistant**: Generates responses based on the user's queries and the context provided by the system, acting as the AI model's replies.\n",
    "\n",
    "User initiates the conversation, system provides context, and assistant generates responses.\n"
   ]
  },
  {
   "cell_type": "code",
   "execution_count": null,
   "metadata": {
    "id": "hcqGQShpQWdo"
   },
   "outputs": [],
   "source": []
  },
  {
   "cell_type": "markdown",
   "metadata": {
    "id": "z-U2zEtSbsxy"
   },
   "source": [
    "### Task 3 - Add context to prompts\n",
    "\n",
    "\n"
   ]
  },
  {
   "cell_type": "markdown",
   "metadata": {
    "id": "NVBn1lu2Wjnu"
   },
   "source": [
    "To add context to our prompt. We need specify some contents for the `system` role."
   ]
  },
  {
   "cell_type": "code",
   "execution_count": null,
   "metadata": {
    "id": "-YqOFNLxVi_E"
   },
   "outputs": [],
   "source": []
  },
  {
   "cell_type": "markdown",
   "metadata": {
    "id": "jUNsmnZTgNdl"
   },
   "source": [
    "Exercise: Write a Python function called `prompt` that takes system and user input, sends a request to GPT-4, and returns the response."
   ]
  },
  {
   "cell_type": "code",
   "execution_count": null,
   "metadata": {
    "id": "72CmCZH2ggdZ"
   },
   "outputs": [],
   "source": []
  },
  {
   "cell_type": "markdown",
   "metadata": {
    "id": "5LTkh2OadLgb",
    "jp-MarkdownHeadingCollapsed": true
   },
   "source": [
    "### Task 4 - Include Data in prompts"
   ]
  },
  {
   "cell_type": "markdown",
   "metadata": {
    "id": "1cPUXVLeWMEp"
   },
   "source": [
    "We have a list of numbers:"
   ]
  },
  {
   "cell_type": "code",
   "execution_count": null,
   "metadata": {
    "id": "u6ndUeyKkect"
   },
   "outputs": [],
   "source": [
    "import numpy as np\n",
    "from statistics import mean, mode, variance\n",
    "\n",
    "values = [3, 5, 2, 12, 9, 8, 3]\n",
    "print(values)"
   ]
  },
  {
   "cell_type": "markdown",
   "metadata": {
    "id": "Gwkrxm6MWZ0Y"
   },
   "source": [
    "Let's create a prompt and include the data in the context\n"
   ]
  },
  {
   "cell_type": "code",
   "execution_count": null,
   "metadata": {
    "id": "w2fqE6M7l3_E"
   },
   "outputs": [],
   "source": []
  },
  {
   "cell_type": "markdown",
   "metadata": {
    "id": "snh5Vs_1pKOo"
   },
   "source": [
    "Sorting the list: `ascending` and `descending`"
   ]
  },
  {
   "cell_type": "code",
   "execution_count": null,
   "metadata": {
    "id": "eYI_qsOwpMgJ"
   },
   "outputs": [],
   "source": []
  },
  {
   "cell_type": "markdown",
   "metadata": {
    "id": "69hZ16CcpuRD"
   },
   "source": [
    "Excercise: Use the prompt method to return only the odd values in the list."
   ]
  },
  {
   "cell_type": "code",
   "execution_count": null,
   "metadata": {
    "id": "uKzI7fKwp1Ko"
   },
   "outputs": [],
   "source": []
  },
  {
   "cell_type": "markdown",
   "metadata": {
    "id": "orbFCfDuouIB"
   },
   "source": [
    "### Task 5 - Ask analytical questions based on data\n"
   ]
  },
  {
   "cell_type": "markdown",
   "metadata": {
    "id": "1SyInPo_bNT7"
   },
   "source": [
    "Let's load the `grades` dataset."
   ]
  },
  {
   "cell_type": "code",
   "execution_count": null,
   "metadata": {
    "id": "-D5GvljBerf2"
   },
   "outputs": [],
   "source": []
  },
  {
   "cell_type": "markdown",
   "metadata": {
    "id": "SN7H3uPKbQj4"
   },
   "source": [
    "Let's convert the dataframe to json"
   ]
  },
  {
   "cell_type": "code",
   "execution_count": null,
   "metadata": {
    "id": "HrP6ae9fZTGB"
   },
   "outputs": [],
   "source": []
  },
  {
   "cell_type": "markdown",
   "metadata": {
    "id": "t9B5t9B1bYs3"
   },
   "source": [
    "Question: Who has the highest grade among the students?"
   ]
  },
  {
   "cell_type": "code",
   "execution_count": null,
   "metadata": {
    "id": "P04gnFhqgHDs"
   },
   "outputs": [],
   "source": []
  },
  {
   "cell_type": "markdown",
   "metadata": {
    "id": "Cvq9ZtI-XWMb"
   },
   "source": [
    "Analytical Question: `Based on the data, can we conclude that students who studied more in a week received higher grades?`"
   ]
  },
  {
   "cell_type": "code",
   "execution_count": null,
   "metadata": {
    "id": "lW1fayG-gG-b"
   },
   "outputs": [],
   "source": []
  },
  {
   "cell_type": "markdown",
   "metadata": {
    "id": "XByG41TKwW-s"
   },
   "source": [
    "### Task 6 - Product Sales Analysis with Prompts\n",
    "1. Loading the `product_sales.csv` dataset\n",
    "2. Exploring the dataset using prompts\n",
    "3. Answering some analytical questions"
   ]
  },
  {
   "cell_type": "markdown",
   "metadata": {
    "id": "qkmXHnFH9a9m"
   },
   "source": [
    "Loading the `product_sales.csv` dataset"
   ]
  },
  {
   "cell_type": "code",
   "execution_count": null,
   "metadata": {
    "colab": {
     "base_uri": "https://localhost:8080/",
     "height": 363
    },
    "id": "FQAyBhNtwWab",
    "outputId": "65fb8b87-0d93-4b0f-e871-cb4f5d8fefcb"
   },
   "outputs": [],
   "source": []
  },
  {
   "cell_type": "markdown",
   "metadata": {
    "id": "OLPEy7H69lTo"
   },
   "source": [
    "Let's explore the dataset"
   ]
  },
  {
   "cell_type": "code",
   "execution_count": null,
   "metadata": {
    "colab": {
     "base_uri": "https://localhost:8080/"
    },
    "id": "uiQzjBTxn67J",
    "outputId": "efe2ebf6-d9d5-4bd2-d259-6cbbae031f13"
   },
   "outputs": [],
   "source": []
  },
  {
   "cell_type": "markdown",
   "metadata": {
    "id": "btRNk_i0FeYi"
   },
   "source": [
    "Question 1 - Which product brought the highest Profit?"
   ]
  },
  {
   "cell_type": "code",
   "execution_count": null,
   "metadata": {
    "colab": {
     "base_uri": "https://localhost:8080/"
    },
    "id": "TapNyXQh-oxY",
    "outputId": "12642ee6-a0d8-4791-f543-0ae9b6535b74"
   },
   "outputs": [],
   "source": []
  },
  {
   "cell_type": "markdown",
   "metadata": {
    "id": "za40_pvvELQB"
   },
   "source": [
    "Let's see if the answer is correct."
   ]
  },
  {
   "cell_type": "code",
   "execution_count": null,
   "metadata": {
    "colab": {
     "base_uri": "https://localhost:8080/",
     "height": 363
    },
    "id": "NJcp7eBjBSrF",
    "outputId": "dca26382-e56e-4a55-c084-0b6b7a21f520"
   },
   "outputs": [],
   "source": []
  },
  {
   "cell_type": "markdown",
   "metadata": {
    "id": "Pu8EeNGrLZSI"
   },
   "source": [
    "Question 2 - Which product category has the lowest product demand?"
   ]
  },
  {
   "cell_type": "code",
   "execution_count": null,
   "metadata": {
    "colab": {
     "base_uri": "https://localhost:8080/"
    },
    "id": "O-jUBe3SCrF1",
    "outputId": "3912b166-e677-47f5-f982-da36774b2f1b"
   },
   "outputs": [],
   "source": []
  },
  {
   "cell_type": "markdown",
   "metadata": {
    "id": "FlRudZeMMycL"
   },
   "source": [
    "ex: Question 3 - Which Product Category brought the highest amount of profit?"
   ]
  },
  {
   "cell_type": "code",
   "execution_count": null,
   "metadata": {
    "colab": {
     "base_uri": "https://localhost:8080/"
    },
    "id": "chNeiZU0M2ez",
    "outputId": "d1c4f6f1-0d45-4d55-a337-8456c3fcfeae"
   },
   "outputs": [],
   "source": []
  },
  {
   "cell_type": "markdown",
   "metadata": {
    "id": "n067yXECNJ7H"
   },
   "source": [
    "ex: Write a python code and check if the answer is correct."
   ]
  },
  {
   "cell_type": "code",
   "execution_count": null,
   "metadata": {
    "colab": {
     "base_uri": "https://localhost:8080/",
     "height": 175
    },
    "id": "oNT7sFJqNMab",
    "outputId": "e463f652-a218-42dc-f339-146033337c00"
   },
   "outputs": [],
   "source": []
  }
 ],
 "metadata": {
  "colab": {
   "collapsed_sections": [
    "2sF80TRaQTlo",
    "5LTkh2OadLgb",
    "orbFCfDuouIB",
    "XByG41TKwW-s"
   ],
   "provenance": []
  },
  "kernelspec": {
   "display_name": "Python 3 (ipykernel)",
   "language": "python",
   "name": "python3"
  },
  "language_info": {
   "codemirror_mode": {
    "name": "ipython",
    "version": 3
   },
   "file_extension": ".py",
   "mimetype": "text/x-python",
   "name": "python",
   "nbconvert_exporter": "python",
   "pygments_lexer": "ipython3",
   "version": "3.12.0"
  }
 },
 "nbformat": 4,
 "nbformat_minor": 4
}
