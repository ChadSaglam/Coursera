{
 "cells": [
  {
   "cell_type": "markdown",
   "metadata": {
    "id": "WMMbeE_NPQ__"
   },
   "source": [
    "# Welcome to the practice task\n",
    "\n",
    "**Crafting Effective Prompts**\n",
    "In this exercise, you will practice crafting creative and effective prompts for AI models. You will experiment with imaginative prompts to see how AI models respond.\n",
    "\n",
    "*Don't forget to upload your .env file in the file section.*"
   ]
  },
  {
   "cell_type": "markdown",
   "metadata": {
    "id": "p67GzR06Pcd_"
   },
   "source": [
    "Install the needed module."
   ]
  },
  {
   "cell_type": "code",
   "execution_count": null,
   "metadata": {
    "colab": {
     "base_uri": "https://localhost:8080/"
    },
    "id": "D0W1QvwJPHLL",
    "outputId": "40c9929f-34d0-4b04-d781-806a3bae37c1"
   },
   "outputs": [],
   "source": [
    "!pip install openai==0.28 python-dotenv"
   ]
  },
  {
   "cell_type": "markdown",
   "metadata": {
    "id": "sdcRDfgUPrGz"
   },
   "source": [
    "Importing the modules"
   ]
  },
  {
   "cell_type": "code",
   "execution_count": null,
   "metadata": {
    "id": "gQTjjMa6PsQu"
   },
   "outputs": [],
   "source": [
    "import os\n",
    "import openai\n",
    "from dotenv import load_dotenv"
   ]
  },
  {
   "cell_type": "markdown",
   "metadata": {
    "id": "DaoJrHOPPiMu"
   },
   "source": [
    "### Configure the OpenAI API"
   ]
  },
  {
   "cell_type": "code",
   "execution_count": null,
   "metadata": {
    "colab": {
     "base_uri": "https://localhost:8080/",
     "height": 38
    },
    "id": "Yzi9dz7DPmp7",
    "outputId": "7cb57c1b-4e4d-4417-c3da-a43ef0dad969"
   },
   "outputs": [],
   "source": [
    "from google.colab import files\n",
    "# upload your .env file\n",
    "env_file = files.upload()\n",
    "# loading the environment variables\n",
    "load_dotenv(dotenv_path='apikey.env.txt')\n",
    "# get your API key\n",
    "APIKEY = os.getenv(\"APIKEY\")\n",
    "# use organization ID if needed\n",
    "# ORGID = os.getenv(\"ORGID\")\n",
    "\n",
    "# configure the api\n",
    "openai.api_key = APIKEY\n",
    "# openai.organization = ORGID"
   ]
  },
  {
   "cell_type": "markdown",
   "metadata": {
    "id": "j245rLqYQ6O8"
   },
   "source": [
    "### Prompting\n",
    "\n",
    "Start with a simple `user-only` prompt:\n",
    "* User: \"Can you explain the concept of 'recycling' in simple terms?\"\n",
    "\n",
    "Write a python code to craft your prompt and send it to the AI model and receive a response.\n"
   ]
  },
  {
   "cell_type": "code",
   "execution_count": null,
   "metadata": {
    "id": "AnPA7fJQPzoT"
   },
   "outputs": [],
   "source": [
    "# write your code here"
   ]
  },
  {
   "cell_type": "markdown",
   "metadata": {
    "id": "cQCHVSzKRFMr"
   },
   "source": [
    "Add a system role to provide context or instructions that guide the AI's response:\n",
    "\n",
    "* User: \"Can you explain the concept of 'recycling' in simple terms?\"\n",
    "* System: \"You are an environmental educator teaching a group of elementary school students about the importance of recycling.\"\n",
    "\n",
    "Write a python code to craft your prompt and send it to the AI model and receive a response"
   ]
  },
  {
   "cell_type": "code",
   "execution_count": null,
   "metadata": {
    "id": "5b_QNbXFRN71"
   },
   "outputs": [],
   "source": [
    "# write your code here"
   ]
  },
  {
   "cell_type": "markdown",
   "metadata": {
    "id": "YXZRJrEWVM09"
   },
   "source": [
    "Explore how the system role helps provide a more child-friendly and contextually relevant explanation of recycling."
   ]
  },
  {
   "cell_type": "code",
   "execution_count": null,
   "metadata": {
    "id": "VkiIrZpHWEb4"
   },
   "outputs": [],
   "source": [
    "# write your code here"
   ]
  },
  {
   "cell_type": "markdown",
   "metadata": {
    "id": "ghooAXYDWPZI"
   },
   "source": [
    " -----\n",
    "🤔 Think about the differences in the AI responses between the `user-only` and `user-system` prompts.\n",
    "\n",
    "See you in the next task. 🙂"
   ]
  }
 ],
 "metadata": {
  "colab": {
   "collapsed_sections": [
    "DaoJrHOPPiMu",
    "j245rLqYQ6O8",
    "YXZRJrEWVM09"
   ],
   "provenance": []
  },
  "kernelspec": {
   "display_name": "Python 3 (ipykernel)",
   "language": "python",
   "name": "python3"
  },
  "language_info": {
   "codemirror_mode": {
    "name": "ipython",
    "version": 3
   },
   "file_extension": ".py",
   "mimetype": "text/x-python",
   "name": "python",
   "nbconvert_exporter": "python",
   "pygments_lexer": "ipython3",
   "version": "3.12.0"
  }
 },
 "nbformat": 4,
 "nbformat_minor": 4
}
