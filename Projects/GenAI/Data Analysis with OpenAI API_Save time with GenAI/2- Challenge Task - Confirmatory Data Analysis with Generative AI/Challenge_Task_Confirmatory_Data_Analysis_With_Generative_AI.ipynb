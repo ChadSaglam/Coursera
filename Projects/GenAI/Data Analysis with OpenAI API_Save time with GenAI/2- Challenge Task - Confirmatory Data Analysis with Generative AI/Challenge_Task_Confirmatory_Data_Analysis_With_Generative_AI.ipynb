{
 "cells": [
  {
   "cell_type": "markdown",
   "metadata": {
    "id": "IHNXtvQUYr5e"
   },
   "source": [
    "# Welcome to the challenge\n",
    "\n",
    "You are a data analyst working for a fictional company called \"TechGen.\" TechGen is a technology company that offers various products and services to its customers. The company is interested in understanding customer satisfaction and loyalty to improve its offerings and customer relationships. To help with this, they've provided you with a dataset containing information about customers, their loyalty, group assignments, and satisfaction levels.\n",
    "\n",
    "Your task is to explore the data and analyze three specific assumptions related to customer satisfaction and loyalty:\n",
    "\n",
    "* Assumption 1: \"Customers with high loyalty have high customer satisfaction.\"\n",
    "\n",
    "* Assumption 2: \"Customers in group 0 have the highest customer satisfaction.\"\n",
    "\n",
    "* Assumption 3: \"Customers in group 2 have the lowest customer loyalty.\"\n",
    "\n",
    "`Follow the instructions in this notebook to complete the challenge.`"
   ]
  },
  {
   "cell_type": "markdown",
   "metadata": {
    "id": "2v77mkIltpo4"
   },
   "source": [
    "Installing the needed modules\n"
   ]
  },
  {
   "cell_type": "code",
   "execution_count": null,
   "metadata": {
    "colab": {
     "base_uri": "https://localhost:8080/"
    },
    "id": "9CvvKE7fkHP8",
    "outputId": "8025cbe4-9ebd-4d8e-abc1-c8d00fa6b72d"
   },
   "outputs": [],
   "source": [
    "!pip install openai==0.28 python-dotenv"
   ]
  },
  {
   "cell_type": "markdown",
   "metadata": {
    "id": "8zrRCdwStiQ4"
   },
   "source": [
    "Importing the needed modules and setting up the API"
   ]
  },
  {
   "cell_type": "code",
   "execution_count": null,
   "metadata": {
    "colab": {
     "base_uri": "https://localhost:8080/",
     "height": 73
    },
    "id": "NfNtkgw7Ypnc",
    "outputId": "60ec33fa-ab1c-4e23-a330-a9676966b4f6"
   },
   "outputs": [],
   "source": [
    "import os\n",
    "import openai\n",
    "from dotenv import load_dotenv\n",
    "import pandas as pd\n",
    "from google.colab import files\n",
    "# upload your .env file\n",
    "env_file = files.upload()\n",
    "# loading the environment variables\n",
    "load_dotenv(dotenv_path='apikey.env.txt')\n",
    "# get your API key\n",
    "APIKEY = os.getenv(\"APIKEY\")\n",
    "# use organization ID if needed\n",
    "ORGID = os.getenv(\"ORGID\")\n",
    "\n",
    "# configure the api\n",
    "openai.api_key = APIKEY\n",
    "# openai.organization = ORGID"
   ]
  },
  {
   "cell_type": "markdown",
   "metadata": {
    "id": "JfPXgnjuwXCk"
   },
   "source": [
    "Importing the dataset"
   ]
  },
  {
   "cell_type": "code",
   "execution_count": null,
   "metadata": {
    "colab": {
     "base_uri": "https://localhost:8080/",
     "height": 206
    },
    "id": "oRa3yKwmm8Dt",
    "outputId": "e7d05625-2781-45e0-dbaa-c01405e05a97"
   },
   "outputs": [],
   "source": [
    "df = pd.read_csv(\"customer_data.csv\")\n",
    "df.head()"
   ]
  },
  {
   "cell_type": "markdown",
   "metadata": {
    "id": "Q6XbF7FIwgiM"
   },
   "source": [
    "Converting the dataframe to json\n"
   ]
  },
  {
   "cell_type": "code",
   "execution_count": null,
   "metadata": {
    "colab": {
     "base_uri": "https://localhost:8080/",
     "height": 122
    },
    "id": "6uN6vi-VweZb",
    "outputId": "4ef2f498-8437-46c6-bcb7-318d3ccf6ceb"
   },
   "outputs": [],
   "source": []
  },
  {
   "cell_type": "markdown",
   "metadata": {
    "id": "2dSWi4ZSwkR7"
   },
   "source": [
    "Defining the prompt method"
   ]
  },
  {
   "cell_type": "code",
   "execution_count": null,
   "metadata": {
    "id": "kMOjDeqqm_KW"
   },
   "outputs": [],
   "source": [
    "def prompt(system_content, user_content):\n",
    "\n",
    "    system = {'role': 'system', 'content': system_content}\n",
    "    user = {'role': 'user', 'content': user_content}\n",
    "\n",
    "    response = openai.ChatCompletion.create(\n",
    "            model = 'gpt-4',\n",
    "            messages = [system, user],\n",
    "            max_tokens=1200\n",
    "    )\n",
    "\n",
    "    return response.choices[0].message.content"
   ]
  },
  {
   "cell_type": "markdown",
   "metadata": {
    "id": "PfqLi-CjqfHN"
   },
   "source": [
    "### Data Exploration\n",
    "\n",
    "Write a user-system prompt to generate some helpful facts about the data. (average values, missing values, etc.)"
   ]
  },
  {
   "cell_type": "code",
   "execution_count": null,
   "metadata": {
    "colab": {
     "base_uri": "https://localhost:8080/"
    },
    "id": "bNgneXf3nTay",
    "outputId": "3c4dbe77-3ca0-4fea-c1f6-909b78e0c599"
   },
   "outputs": [],
   "source": []
  },
  {
   "cell_type": "markdown",
   "metadata": {
    "id": "JezI7QaXrPNb"
   },
   "source": [
    "### Confirmatory Data Analysis\n",
    "Here are some assumptions about the data:\n",
    "\n",
    "1. Customers with high loyalty have high 'customer satisfaction.'\n",
    "2. Customers in group 0 have the highest 'customer satisfaction.'\n",
    "3. Customers in group 2 have the lowest 'customer loyalty.'\n",
    "\n",
    "For each of these assumptions, write a prompt and try to confirm or reject the assumptions using the AI response."
   ]
  },
  {
   "cell_type": "code",
   "execution_count": null,
   "metadata": {
    "id": "WuV85_Iqrvjj"
   },
   "outputs": [],
   "source": []
  }
 ],
 "metadata": {
  "colab": {
   "provenance": []
  },
  "kernelspec": {
   "display_name": "Python 3 (ipykernel)",
   "language": "python",
   "name": "python3"
  },
  "language_info": {
   "codemirror_mode": {
    "name": "ipython",
    "version": 3
   },
   "file_extension": ".py",
   "mimetype": "text/x-python",
   "name": "python",
   "nbconvert_exporter": "python",
   "pygments_lexer": "ipython3",
   "version": "3.12.0"
  }
 },
 "nbformat": 4,
 "nbformat_minor": 4
}
