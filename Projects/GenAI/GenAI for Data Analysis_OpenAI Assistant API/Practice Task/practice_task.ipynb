{
 "cells": [
  {
   "cell_type": "markdown",
   "metadata": {
    "id": "1Rp80dTGpsDD"
   },
   "source": [
    "# Welcome to the practice task\n",
    "\n",
    "Toytrends reached out to us about a sentiment analysis task, and we're excited to help. They're looking for an AI assistant to assist them with analyzing their product review dataset. The dataset includes text reviews for each product.\n",
    "\n",
    "Your task is to create an AI assistant and instruct it to excel in this specific job. 🎮🚗🧸\n",
    "\n",
    "Simply follow the instructions in this notebook to ace the practice task.\n",
    "\n",
    "Let's make this a fun and successful learning experience! 🚀\n",
    "\n",
    "Good Luck! 🍀\n",
    "\n",
    "-Ahmad"
   ]
  },
  {
   "cell_type": "markdown",
   "metadata": {
    "id": "EeFtHZ2xlgSy"
   },
   "source": [
    "Installing the needed Modules"
   ]
  },
  {
   "cell_type": "code",
   "execution_count": null,
   "metadata": {
    "colab": {
     "base_uri": "https://localhost:8080/"
    },
    "id": "lx4wV2MIUJ8A",
    "outputId": "a822bf20-2870-436d-8597-2f1ea91561d3"
   },
   "outputs": [],
   "source": [
    "!pip install openai==1.7.2 python-dotenv"
   ]
  },
  {
   "cell_type": "markdown",
   "metadata": {
    "id": "qypdUNULptjB"
   },
   "source": [
    "Importing modules and set up the OpenAI client.\n",
    "\n",
    "**ATTENTION:** Do not forget to upload your env. file to the google colab environment"
   ]
  },
  {
   "cell_type": "code",
   "execution_count": 70,
   "metadata": {
    "id": "YFmEp0r5T2eI"
   },
   "outputs": [],
   "source": [
    "import os\n",
    "from openai import OpenAI\n",
    "from dotenv import load_dotenv\n",
    "\n",
    "load_dotenv(dotenv_path='apikey.env.txt')\n",
    "\n",
    "APIKEY = os.getenv(\"APIKEY\")\n",
    "ORGID = os.getenv(\"ORGID\")\n",
    "\n",
    "client = OpenAI(\n",
    "  organization= ORGID,\n",
    "  api_key=APIKEY\n",
    ")"
   ]
  },
  {
   "cell_type": "markdown",
   "metadata": {
    "id": "EmNjF5RSab0R"
   },
   "source": [
    "Define an AI assistant to assist you with the sentiment analysis task.\n",
    "\n",
    "First, load the product review dataset. Then, select an intuitive name and provide a detailed description to instruct the AI assistant.\n",
    "\n",
    "`Hint:` Do not forget to upload the `product_reviews_dataset.json` to your google colab environment."
   ]
  },
  {
   "cell_type": "code",
   "execution_count": 68,
   "metadata": {
    "id": "4dhkzJwzalPa"
   },
   "outputs": [],
   "source": [
    "# Load the product_sales dataset\n",
    "data_file = client.files.create(\n",
    "  # complete the code here ...\n",
    ")\n",
    "\n",
    "# Choose a reasonable name for your assistant\n",
    "name = \"\"\n",
    "\n",
    "# Write a description about the behaviour of this assistant\n",
    "description = \"\"\n",
    "\n",
    "# Let's create the assistant.\n",
    "assistant = client.beta.assistants.create(\n",
    "  # complete the code here ...\n",
    ")"
   ]
  },
  {
   "cell_type": "markdown",
   "metadata": {
    "id": "o69Hw3Bztxis"
   },
   "source": [
    "\n",
    "👉 Toytrends wishes to obtain a list of product names along with the average sentiment score per product. They are interested in identifying which product has higher customer satisfaction.\n",
    "\n",
    "Define an empty thread and create a message with a suitable prompt to gather what Toytrends desires.\n"
   ]
  },
  {
   "cell_type": "code",
   "execution_count": 68,
   "metadata": {
    "id": "k10iqbMht3g-"
   },
   "outputs": [],
   "source": [
    "# create an empty thread here"
   ]
  },
  {
   "cell_type": "code",
   "execution_count": 58,
   "metadata": {
    "id": "s347-a4deEVE"
   },
   "outputs": [],
   "source": [
    "# write your prompt content here\n",
    "content = \"\"\n",
    "\n",
    "message = client.beta.threads.messages.create(\n",
    "  # complete the code here ..\n",
    ")"
   ]
  },
  {
   "cell_type": "markdown",
   "metadata": {
    "id": "oA6MGeVmfOGP"
   },
   "source": [
    "Creating a `Run` object to send our request to the AI Assistant."
   ]
  },
  {
   "cell_type": "code",
   "execution_count": 68,
   "metadata": {
    "id": "rORHnJjvx-yD"
   },
   "outputs": [],
   "source": []
  },
  {
   "cell_type": "markdown",
   "metadata": {
    "id": "tkbDIQXxSiUj"
   },
   "source": [
    "Retrieve the request run again and print out the status. Once the status is `complete` your task is done."
   ]
  },
  {
   "cell_type": "code",
   "execution_count": 68,
   "metadata": {
    "id": "VMDgpSWcV15-"
   },
   "outputs": [],
   "source": []
  }
 ],
 "metadata": {
  "colab": {
   "provenance": []
  },
  "kernelspec": {
   "display_name": "Python 3 (ipykernel)",
   "language": "python",
   "name": "python3"
  },
  "language_info": {
   "codemirror_mode": {
    "name": "ipython",
    "version": 3
   },
   "file_extension": ".py",
   "mimetype": "text/x-python",
   "name": "python",
   "nbconvert_exporter": "python",
   "pygments_lexer": "ipython3",
   "version": "3.12.0"
  }
 },
 "nbformat": 4,
 "nbformat_minor": 4
}
