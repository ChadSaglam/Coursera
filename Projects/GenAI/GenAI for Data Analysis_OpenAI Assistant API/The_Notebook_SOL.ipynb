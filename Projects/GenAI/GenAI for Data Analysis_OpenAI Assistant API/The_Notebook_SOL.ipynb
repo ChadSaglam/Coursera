{
  "cells": [
    {
      "cell_type": "markdown",
      "metadata": {
        "id": "ZlZamiGhutkW"
      },
      "source": [
        "# Welcome to the notebook"
      ]
    },
    {
      "cell_type": "markdown",
      "metadata": {
        "id": "1Rp80dTGpsDD",
        "jp-MarkdownHeadingCollapsed": true
      },
      "source": [
        "### Task 1 - Set up the project environment"
      ]
    },
    {
      "cell_type": "code",
      "execution_count": null,
      "metadata": {
        "id": "lx4wV2MIUJ8A"
      },
      "outputs": [],
      "source": [
        "!pip install openai==1.7.2 python-dotenv"
      ]
    },
    {
      "cell_type": "markdown",
      "metadata": {
        "id": "qypdUNULptjB"
      },
      "source": [
        "Importing modules"
      ]
    },
    {
      "cell_type": "code",
      "execution_count": null,
      "metadata": {
        "id": "YFmEp0r5T2eI"
      },
      "outputs": [],
      "source": [
        "import pandas as pd\n",
        "import os, time\n",
        "from openai import OpenAI\n",
        "from dotenv import load_dotenv\n",
        "from PIL import Image\n",
        "from io import BytesIO\n",
        "\n",
        "print(\"Modules are imported.\")"
      ]
    },
    {
      "cell_type": "markdown",
      "metadata": {
        "id": "XfVAcV_XqDja"
      },
      "source": [
        "Setting up the OpenAI API:\n",
        "\n",
        "* Prepare a .env file to store the OpenAI API key.\n",
        "* Uploading the .env file to our colab environment\n",
        "* Load the API key and setup the API"
      ]
    },
    {
      "cell_type": "code",
      "execution_count": null,
      "metadata": {
        "id": "rbXC4QM4qCBe"
      },
      "outputs": [],
      "source": [
        "load_dotenv('apikey.env.txt')\n",
        "\n",
        "APIKEY = os.getenv(\"APIKEY\")\n",
        "ORGID = os.getenv(\"ORGID\")"
      ]
    },
    {
      "cell_type": "markdown",
      "metadata": {
        "id": "rWxipGQIpxH8"
      },
      "source": [
        "Creating OpenAI Client"
      ]
    },
    {
      "cell_type": "code",
      "execution_count": null,
      "metadata": {
        "id": "nHj-RaA5p0WE"
      },
      "outputs": [],
      "source": [
        "client = OpenAI(\n",
        "    api_key=APIKEY,\n",
        "    organization=ORGID\n",
        ")\n",
        "\n",
        "print(\"OpenAI Client is ready.\", client)"
      ]
    },
    {
      "cell_type": "markdown",
      "metadata": {
        "id": "mz9vcbzcy_K4",
        "jp-MarkdownHeadingCollapsed": true
      },
      "source": [
        "### Task 2 - Create the AI Assistant"
      ]
    },
    {
      "cell_type": "markdown",
      "metadata": {
        "id": "tITkUV7_sxpI"
      },
      "source": [
        "Now let's load our dataset into a File Object"
      ]
    },
    {
      "cell_type": "code",
      "execution_count": null,
      "metadata": {
        "id": "yKPy3phTh0_l"
      },
      "outputs": [],
      "source": [
        "data_file = client.files.create(\n",
        "    file=open(\"product_sales_dataset.json\", \"rb\"),\n",
        "    purpose='assistants'\n",
        ")\n",
        "\n",
        "print(\"File uploaded:\", data_file)"
      ]
    },
    {
      "cell_type": "markdown",
      "metadata": {
        "id": "RXaxkBHBVrnu"
      },
      "source": [
        "Let's define our Assistant object."
      ]
    },
    {
      "cell_type": "code",
      "execution_count": null,
      "metadata": {
        "id": "QMBSysrjUBQr"
      },
      "outputs": [],
      "source": [
        "name = \"Data Analyst\"\n",
        "\n",
        "description = \"\"\"\n",
        "  You are a data analyst.\n",
        "  You know how to analyze data and extract insights.\n",
        "  You will be given a json file containing the data related to an online toy store.\n",
        "  And you use your data analysis and coding skills to naswer the user's analytical questions about this data.\n",
        "\"\"\"\n",
        "\n",
        "assistant = client.beta.assistants.create(\n",
        "    name=name,\n",
        "    description=description,\n",
        "    model=\"gpt-4-1106-preview\",\n",
        "    tools=[{\"type\": \"code_interpreter\"}],\n",
        "    file_ids=[data_file.id]\n",
        ")\n",
        "\n",
        "print(\"Assistant created:\", assistant)"
      ]
    },
    {
      "cell_type": "markdown",
      "metadata": {
        "id": "SqUswUM6MovJ",
        "jp-MarkdownHeadingCollapsed": true
      },
      "source": [
        "### Task 3 - Communicate with the AI Assistant through Threads"
      ]
    },
    {
      "cell_type": "markdown",
      "metadata": {
        "id": "o69Hw3Bztxis"
      },
      "source": [
        "> The **User** can communicate with the AI assistant through a **Thread** object. A thread can contain one or multiple **Message** objects. <br>\n",
        "> We can then use a **Run** object to send our message to the AI assistant.\n",
        "\n",
        "\n",
        "\n",
        "\n",
        "Let's define an empty thread. 🧵\n"
      ]
    },
    {
      "cell_type": "code",
      "execution_count": null,
      "metadata": {
        "id": "k10iqbMht3g-"
      },
      "outputs": [],
      "source": [
        "thread = client.beta.threads.create()\n",
        "\n",
        "print(\"Thread created:\", thread)"
      ]
    },
    {
      "cell_type": "markdown",
      "metadata": {
        "id": "7S05cbWudq7Y"
      },
      "source": [
        "Now let's create a message and add it to thread."
      ]
    },
    {
      "cell_type": "code",
      "execution_count": null,
      "metadata": {
        "id": "s347-a4deEVE"
      },
      "outputs": [],
      "source": [
        "question = \"Which product has the highest number of sold items?\"\n",
        "\n",
        "message = client.beta.threads.messages.create(\n",
        "    thread_id = thread.id,\n",
        "    role = \"user\",\n",
        "    content = question\n",
        ")\n",
        "\n",
        "print(\"Message created:\", message)"
      ]
    },
    {
      "cell_type": "markdown",
      "metadata": {
        "id": "oA6MGeVmfOGP"
      },
      "source": [
        "Creating a `Run` object to send our request to the AI Assistant."
      ]
    },
    {
      "cell_type": "code",
      "execution_count": null,
      "metadata": {
        "id": "rORHnJjvx-yD"
      },
      "outputs": [],
      "source": [
        "run = client.beta.threads.runs.create(\n",
        "    thread_id = thread.id,\n",
        "    assistant_id = assistant.id\n",
        ")\n",
        "\n",
        "print(\"Run created:\", run)"
      ]
    },
    {
      "cell_type": "markdown",
      "metadata": {
        "id": "Ic_cXyjbeDwf",
        "jp-MarkdownHeadingCollapsed": true
      },
      "source": [
        "### Task 4 - Retrieve results from the AI Assistant"
      ]
    },
    {
      "cell_type": "markdown",
      "metadata": {
        "id": "OQAenTqifgHQ"
      },
      "source": [
        "Let's retrieve the run object to check the status of the run"
      ]
    },
    {
      "cell_type": "code",
      "execution_count": null,
      "metadata": {
        "id": "6Vgm0ut3fe0g"
      },
      "outputs": [],
      "source": [
        "response_run = client.beta.threads.runs.retrieve(\n",
        "    thread_id = thread.id,\n",
        "    run_id = run.id\n",
        ")\n",
        "\n",
        "print(\"Run status:\", response_run.status)"
      ]
    },
    {
      "cell_type": "markdown",
      "metadata": {
        "id": "brXIkUvWfEqN"
      },
      "source": [
        "Now let's retrieve the messages from the AI Assistant"
      ]
    },
    {
      "cell_type": "code",
      "execution_count": null,
      "metadata": {
        "id": "6bX18_oIf_cQ"
      },
      "outputs": [],
      "source": [
        "messages = client.beta.threads.messages.list(\n",
        "    thread_id = thread.id\n",
        ")\n",
        "\n",
        "#print(\"Messages retrieved:\", list(messages))\n",
        "\n",
        "#print(\"Message content:\", messages.data[0].content[0].text.value)\n",
        "\n",
        "for message in list(messages):\n",
        "  print(message.role + \": \" + message.content[0].text.value)"
      ]
    },
    {
      "cell_type": "markdown",
      "metadata": {
        "id": "Xv7H3YC7g8n-",
        "jp-MarkdownHeadingCollapsed": true
      },
      "source": [
        "### Task 5 - Create charts with AI Assistant"
      ]
    },
    {
      "cell_type": "code",
      "execution_count": null,
      "metadata": {
        "id": "nH8kQ48JfQi7"
      },
      "outputs": [],
      "source": [
        "def send_message(assistant_id, thread_id, message_content):\n",
        "      \"\"\"\n",
        "      Sends a message to an AI assistant,\n",
        "      waits for the response run to be completed,\n",
        "      and then retrieves the list of messages in the thread.\n",
        "      \"\"\"\n",
        "\n",
        "      # creating message\n",
        "      message = client.beta.threads.messages.create(\n",
        "        thread_id = thread_id,\n",
        "        role = \"user\",\n",
        "        content = message_content\n",
        "      )\n",
        "\n",
        "      # creating request run\n",
        "      request_run = client.beta.threads.runs.create(\n",
        "            thread_id = thread_id,\n",
        "            assistant_id = assistant_id\n",
        "      )\n",
        "\n",
        "      # wait until the response_run is completed\n",
        "      while True:\n",
        "            # retrieve the run\n",
        "            response_run = client.beta.threads.runs.retrieve(\n",
        "                  thread_id = thread_id,\n",
        "                  run_id = request_run.id\n",
        "            )\n",
        "\n",
        "            print(\"status > \"+response_run.status)\n",
        "\n",
        "            time.sleep(1)\n",
        "\n",
        "            if(response_run.status==\"completed\"):\n",
        "              time.sleep(1)\n",
        "              break\n",
        "\n",
        "      messages = client.beta.threads.messages.list(\n",
        "            thread_id = thread_id\n",
        "      )\n",
        "\n",
        "      return list(messages)"
      ]
    },
    {
      "cell_type": "code",
      "execution_count": null,
      "metadata": {
        "id": "m0djuGdTkE44"
      },
      "outputs": [],
      "source": [
        "question = \"In which day of week we have the highest number of sold items?\"\n",
        "\n",
        "messages = send_message(assistant.id, thread.id, question)\n",
        "\n",
        "#print(\"Messages retrieved:\", messages)\n",
        "\n",
        "for message in messages:\n",
        "  print(message.role + \": \" + message.content[0].text.value)"
      ]
    },
    {
      "cell_type": "markdown",
      "metadata": {
        "id": "3ZEEyMLZ_pjU"
      },
      "source": [
        "Let's ask the assistant to create a histogram of the product price column."
      ]
    },
    {
      "cell_type": "code",
      "execution_count": null,
      "metadata": {
        "id": "Kdq5LS09_oiR"
      },
      "outputs": [],
      "source": [
        "question = \"Create a histogram of the product price column.\"\n",
        "\n",
        "messages = send_message(assistant.id, thread.id, question)\n",
        "\n",
        "answer = messages[0]\n",
        "print(answer)"
      ]
    },
    {
      "cell_type": "markdown",
      "metadata": {
        "id": "33wvU1DWCNmi"
      },
      "source": [
        "Let's take a look at the answer and extract the image file"
      ]
    },
    {
      "cell_type": "code",
      "execution_count": null,
      "metadata": {
        "id": "nWUo8WL2A-QG"
      },
      "outputs": [],
      "source": [
        "file_id = answer.content[0].image_file.file_id\n",
        "\n",
        "print(\"File ID:\", file_id)"
      ]
    },
    {
      "cell_type": "markdown",
      "metadata": {
        "id": "D-3WCHf5CRl_"
      },
      "source": [
        "Let's retrieve the file"
      ]
    },
    {
      "cell_type": "code",
      "execution_count": null,
      "metadata": {
        "id": "EBtUFxRcBimq"
      },
      "outputs": [],
      "source": [
        "image_data = client.files.content(file_id).read()\n",
        "\n",
        "image = Image.open(BytesIO(image_data))\n",
        "image"
      ]
    },
    {
      "cell_type": "markdown",
      "metadata": {
        "id": "RrxEAoKmFf37"
      },
      "source": [
        "Exercise: Create a line chart of the average number of sold items per month"
      ]
    },
    {
      "cell_type": "code",
      "execution_count": null,
      "metadata": {
        "id": "3h5ZWskKCZoy"
      },
      "outputs": [],
      "source": [
        "quesqtion = \"Create a line chart of the average number of sold items per month.\"\n",
        "\n",
        "messages = send_message(assistant.id,\n",
        "                        thread.id,\n",
        "                        question)\n",
        "\n",
        "answer = messages[0]\n",
        "\n",
        "file_id = answer.content[0].image_file.file_id\n",
        "\n",
        "image_data = client.files.content(file_id).read()\n",
        "image = Image.open(BytesIO(image_data))\n",
        "image"
      ]
    }
  ],
  "metadata": {
    "colab": {
      "provenance": []
    },
    "kernelspec": {
      "display_name": "Python 3 (ipykernel)",
      "language": "python",
      "name": "python3"
    },
    "language_info": {
      "codemirror_mode": {
        "name": "ipython",
        "version": 3
      },
      "file_extension": ".py",
      "mimetype": "text/x-python",
      "name": "python",
      "nbconvert_exporter": "python",
      "pygments_lexer": "ipython3",
      "version": "3.12.0"
    }
  },
  "nbformat": 4,
  "nbformat_minor": 0
}