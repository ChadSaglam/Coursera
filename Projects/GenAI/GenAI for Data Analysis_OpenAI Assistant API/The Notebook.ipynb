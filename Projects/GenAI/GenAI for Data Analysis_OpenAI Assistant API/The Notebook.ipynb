{
 "cells": [
  {
   "cell_type": "markdown",
   "metadata": {
    "id": "ZlZamiGhutkW"
   },
   "source": [
    "# Welcome to the notebook"
   ]
  },
  {
   "cell_type": "markdown",
   "metadata": {
    "id": "1Rp80dTGpsDD",
    "jp-MarkdownHeadingCollapsed": true
   },
   "source": [
    "### Task 1 - Set up the project environment"
   ]
  },
  {
   "cell_type": "code",
   "execution_count": null,
   "metadata": {
    "colab": {
     "base_uri": "https://localhost:8080/"
    },
    "id": "lx4wV2MIUJ8A",
    "outputId": "4575252a-f036-4060-8f57-7f008834f87b"
   },
   "outputs": [],
   "source": [
    "!pip install openai==1.7.2 python-dotenv"
   ]
  },
  {
   "cell_type": "markdown",
   "metadata": {
    "id": "qypdUNULptjB"
   },
   "source": [
    "Importing modules"
   ]
  },
  {
   "cell_type": "code",
   "execution_count": null,
   "metadata": {
    "colab": {
     "base_uri": "https://localhost:8080/"
    },
    "id": "YFmEp0r5T2eI",
    "outputId": "78e4a713-6be4-4c8c-ec93-77bb7d1168d6"
   },
   "outputs": [],
   "source": [
    "import pandas as pd\n",
    "import os, time\n",
    "from openai import OpenAI\n",
    "from dotenv import load_dotenv\n",
    "from PIL import Image\n",
    "from io import BytesIO\n",
    "\n",
    "print(\"Modules are imported.\")"
   ]
  },
  {
   "cell_type": "markdown",
   "metadata": {
    "id": "XfVAcV_XqDja"
   },
   "source": [
    "Setting up the OpenAI API:\n",
    "\n",
    "* Prepare a .env file to store the OpenAI API key.\n",
    "* Uploading the .env file to our colab environment\n",
    "* Load the API key and setup the API"
   ]
  },
  {
   "cell_type": "code",
   "execution_count": null,
   "metadata": {
    "id": "rbXC4QM4qCBe"
   },
   "outputs": [],
   "source": []
  },
  {
   "cell_type": "markdown",
   "metadata": {
    "id": "rWxipGQIpxH8"
   },
   "source": [
    "Creating OpenAI Client"
   ]
  },
  {
   "cell_type": "code",
   "execution_count": null,
   "metadata": {
    "id": "nHj-RaA5p0WE"
   },
   "outputs": [],
   "source": []
  },
  {
   "cell_type": "markdown",
   "metadata": {
    "id": "mz9vcbzcy_K4",
    "jp-MarkdownHeadingCollapsed": true
   },
   "source": [
    "### Task 2 - Create the AI Assistant"
   ]
  },
  {
   "cell_type": "markdown",
   "metadata": {
    "id": "tITkUV7_sxpI"
   },
   "source": [
    "Now let's load our dataset into a File Object"
   ]
  },
  {
   "cell_type": "code",
   "execution_count": null,
   "metadata": {
    "colab": {
     "base_uri": "https://localhost:8080/"
    },
    "id": "yKPy3phTh0_l",
    "outputId": "a86328dd-603d-41e0-9bf6-708e0e51f1c3"
   },
   "outputs": [],
   "source": []
  },
  {
   "cell_type": "markdown",
   "metadata": {
    "id": "RXaxkBHBVrnu"
   },
   "source": [
    "Let's define our Assistant object."
   ]
  },
  {
   "cell_type": "code",
   "execution_count": null,
   "metadata": {
    "colab": {
     "base_uri": "https://localhost:8080/"
    },
    "id": "QMBSysrjUBQr",
    "outputId": "e27279f6-a3f3-4123-b8ec-84dd4f9888f6"
   },
   "outputs": [],
   "source": []
  },
  {
   "cell_type": "markdown",
   "metadata": {
    "id": "SqUswUM6MovJ",
    "jp-MarkdownHeadingCollapsed": true
   },
   "source": [
    "### Task 3 - Communicate with the AI Assistant through Threads"
   ]
  },
  {
   "cell_type": "markdown",
   "metadata": {
    "id": "o69Hw3Bztxis"
   },
   "source": [
    "> The **User** can communicate with the AI assistant through a **Thread** object. A thread can contain one or multiple **Message** objects. <br>\n",
    "> We can then use a **Run** object to send our message to the AI assistant.\n",
    "\n",
    "\n",
    "\n",
    "\n",
    "Let's define an empty thread. 🧵\n"
   ]
  },
  {
   "cell_type": "code",
   "execution_count": null,
   "metadata": {
    "colab": {
     "base_uri": "https://localhost:8080/"
    },
    "id": "k10iqbMht3g-",
    "outputId": "7d902b31-4e68-4115-f469-87fc84cc92fc"
   },
   "outputs": [],
   "source": []
  },
  {
   "cell_type": "markdown",
   "metadata": {
    "id": "7S05cbWudq7Y"
   },
   "source": [
    "Now let's create a message and add it to thread."
   ]
  },
  {
   "cell_type": "code",
   "execution_count": null,
   "metadata": {
    "id": "s347-a4deEVE"
   },
   "outputs": [],
   "source": []
  },
  {
   "cell_type": "markdown",
   "metadata": {
    "id": "oA6MGeVmfOGP"
   },
   "source": [
    "Creating a `Run` object to send our request to the AI Assistant."
   ]
  },
  {
   "cell_type": "code",
   "execution_count": null,
   "metadata": {
    "colab": {
     "base_uri": "https://localhost:8080/",
     "height": 408
    },
    "id": "rORHnJjvx-yD",
    "outputId": "7dcafd15-3e9a-45ee-d0bd-8a48abe5baa8"
   },
   "outputs": [],
   "source": []
  },
  {
   "cell_type": "markdown",
   "metadata": {
    "id": "Ic_cXyjbeDwf",
    "jp-MarkdownHeadingCollapsed": true
   },
   "source": [
    "### Task 4 - Retrieve results from the AI Assistant"
   ]
  },
  {
   "cell_type": "markdown",
   "metadata": {
    "id": "OQAenTqifgHQ"
   },
   "source": [
    "Let's retrieve the run object to check the status of the run"
   ]
  },
  {
   "cell_type": "code",
   "execution_count": null,
   "metadata": {
    "colab": {
     "base_uri": "https://localhost:8080/"
    },
    "id": "6Vgm0ut3fe0g",
    "outputId": "8ebd4d7a-7615-4652-ef43-a0fe0bb43876"
   },
   "outputs": [],
   "source": []
  },
  {
   "cell_type": "markdown",
   "metadata": {
    "id": "brXIkUvWfEqN"
   },
   "source": [
    "Now let's retrieve the messages from the AI Assistant"
   ]
  },
  {
   "cell_type": "code",
   "execution_count": null,
   "metadata": {
    "colab": {
     "base_uri": "https://localhost:8080/",
     "height": 210
    },
    "id": "6bX18_oIf_cQ",
    "outputId": "5651902d-3be1-4d63-9007-7210a1abd27a"
   },
   "outputs": [],
   "source": []
  },
  {
   "cell_type": "markdown",
   "metadata": {
    "id": "Xv7H3YC7g8n-",
    "jp-MarkdownHeadingCollapsed": true
   },
   "source": [
    "### Task 5 - Create charts with AI Assistant"
   ]
  },
  {
   "cell_type": "code",
   "execution_count": 1,
   "metadata": {
    "id": "nH8kQ48JfQi7"
   },
   "outputs": [],
   "source": [
    "def send_message(assistant_id, thread_id, message_content):\n",
    "      \"\"\"\n",
    "      Sends a message to an AI assistant,\n",
    "      waits for the response run to be completed,\n",
    "      and then retrieves the list of messages in the thread.\n",
    "      \"\"\"\n",
    "\n",
    "      # creating message\n",
    "      message = client.beta.threads.messages.create(\n",
    "        thread_id = thread_id,\n",
    "        role = \"user\",\n",
    "        content = message_content\n",
    "      )\n",
    "\n",
    "      # creating request run\n",
    "      request_run = client.beta.threads.runs.create(\n",
    "            thread_id = thread_id,\n",
    "            assistant_id = assistant_id\n",
    "      )\n",
    "\n",
    "      # wait until the response_run is completed\n",
    "      while True:\n",
    "            # retrieve the run\n",
    "            response_run = client.beta.threads.runs.retrieve(\n",
    "                  thread_id = thread_id,\n",
    "                  run_id = request_run.id\n",
    "            )\n",
    "\n",
    "            print(\"status > \"+response_run.status)\n",
    "\n",
    "            time.sleep(1)\n",
    "\n",
    "            if(response_run.status==\"completed\"):\n",
    "              time.sleep(1)\n",
    "              break\n",
    "\n",
    "      messages = client.beta.threads.messages.list(\n",
    "            thread_id = thread_id\n",
    "      )\n",
    "\n",
    "      return list(messages)"
   ]
  },
  {
   "cell_type": "code",
   "execution_count": null,
   "metadata": {
    "colab": {
     "base_uri": "https://localhost:8080/"
    },
    "id": "m0djuGdTkE44",
    "outputId": "1ebbd121-915f-4390-9d77-0a695c9c499a"
   },
   "outputs": [],
   "source": []
  },
  {
   "cell_type": "markdown",
   "metadata": {
    "id": "3ZEEyMLZ_pjU"
   },
   "source": [
    "Let's ask the assistant to create a histogram of the product price column."
   ]
  },
  {
   "cell_type": "code",
   "execution_count": null,
   "metadata": {
    "colab": {
     "base_uri": "https://localhost:8080/"
    },
    "id": "Kdq5LS09_oiR",
    "outputId": "b90ca82e-3b23-4d14-8f98-79360ebfe07e"
   },
   "outputs": [],
   "source": []
  },
  {
   "cell_type": "markdown",
   "metadata": {
    "id": "33wvU1DWCNmi"
   },
   "source": [
    "Let's take a look at the answer and extract the image file"
   ]
  },
  {
   "cell_type": "code",
   "execution_count": null,
   "metadata": {
    "id": "nWUo8WL2A-QG"
   },
   "outputs": [],
   "source": []
  },
  {
   "cell_type": "markdown",
   "metadata": {
    "id": "D-3WCHf5CRl_"
   },
   "source": [
    "Let's retrieve the file"
   ]
  },
  {
   "cell_type": "code",
   "execution_count": null,
   "metadata": {
    "colab": {
     "base_uri": "https://localhost:8080/",
     "height": 637
    },
    "id": "EBtUFxRcBimq",
    "outputId": "9050c47c-c94d-4cf8-f836-420ef20c09f9"
   },
   "outputs": [],
   "source": []
  },
  {
   "cell_type": "markdown",
   "metadata": {
    "id": "RrxEAoKmFf37"
   },
   "source": [
    "Exercise: Create a line chart of the average number of sold items per month"
   ]
  },
  {
   "cell_type": "code",
   "execution_count": null,
   "metadata": {
    "colab": {
     "base_uri": "https://localhost:8080/",
     "height": 967
    },
    "id": "3h5ZWskKCZoy",
    "outputId": "d40b90a9-b236-41c8-d32b-d382068d2700"
   },
   "outputs": [],
   "source": []
  }
 ],
 "metadata": {
  "colab": {
   "collapsed_sections": [
    "mz9vcbzcy_K4",
    "SqUswUM6MovJ",
    "Ic_cXyjbeDwf"
   ],
   "provenance": []
  },
  "kernelspec": {
   "display_name": "Python 3 (ipykernel)",
   "language": "python",
   "name": "python3"
  },
  "language_info": {
   "codemirror_mode": {
    "name": "ipython",
    "version": 3
   },
   "file_extension": ".py",
   "mimetype": "text/x-python",
   "name": "python",
   "nbconvert_exporter": "python",
   "pygments_lexer": "ipython3",
   "version": "3.12.0"
  }
 },
 "nbformat": 4,
 "nbformat_minor": 4
}
