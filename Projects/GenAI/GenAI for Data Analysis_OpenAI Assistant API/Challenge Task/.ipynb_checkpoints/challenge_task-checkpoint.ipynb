{
 "cells": [
  {
   "cell_type": "markdown",
   "metadata": {
    "id": "1Rp80dTGpsDD",
    "jp-MarkdownHeadingCollapsed": true
   },
   "source": [
    "# Welcome to the challenge task\n",
    "\n",
    "Toytrens has reached out to commission the development of an AI assistant for data visualization tasks. They have requested that you create and instruct the data visualizer AI assistant to utilize the product_sales_data for generating visualizations capable of addressing the following analytical questions regarding their business:\n",
    "\n",
    "1. How does the trend of product revenue per month appear?\n",
    "\n",
    "  `Hint`: Utilize a line chart to visualize the revenue per product per month.📈\n",
    "\n",
    "2. Which product category has contributed the highest revenue to the company?\n",
    "\n",
    "  `Hint`: Employ a bar chart to visualize the average revenue per product category.📊\n",
    "\n",
    "\n",
    "Simply follow the instructions in this notebook to ace the challenge task.\n",
    "\n",
    "Good Luck! 🍀\n",
    "\n",
    "And Let's Go! 🚀\n",
    "\n",
    "-Ahmad"
   ]
  },
  {
   "cell_type": "markdown",
   "metadata": {
    "id": "EeFtHZ2xlgSy"
   },
   "source": [
    "Installing the needed Modules"
   ]
  },
  {
   "cell_type": "code",
   "execution_count": null,
   "metadata": {
    "colab": {
     "base_uri": "https://localhost:8080/"
    },
    "id": "lx4wV2MIUJ8A",
    "outputId": "90d63e3c-64a3-44eb-96c7-14bbcaa55dd8"
   },
   "outputs": [],
   "source": [
    "!pip install openai==1.7.2 python-dotenv"
   ]
  },
  {
   "cell_type": "markdown",
   "metadata": {
    "id": "qypdUNULptjB"
   },
   "source": [
    "Importing modules and set up the OpenAI client.\n",
    "\n",
    "**ATTENTION:** Do not forget to upload your env. file to the google colab environment"
   ]
  },
  {
   "cell_type": "code",
   "execution_count": 6,
   "metadata": {
    "id": "YFmEp0r5T2eI"
   },
   "outputs": [],
   "source": [
    "import os, time\n",
    "from openai import OpenAI\n",
    "from dotenv import load_dotenv\n",
    "from PIL import Image\n",
    "from io import BytesIO\n",
    "\n",
    "load_dotenv(dotenv_path='apikey.env.txt')\n",
    "\n",
    "APIKEY = os.getenv(\"APIKEY\")\n",
    "ORGID = os.getenv(\"ORGID\")\n",
    "\n",
    "client = OpenAI(\n",
    "  organization= ORGID,\n",
    "  api_key=APIKEY\n",
    ")"
   ]
  },
  {
   "cell_type": "markdown",
   "metadata": {
    "id": "EmNjF5RSab0R"
   },
   "source": [
    "Define an AI assistant to assist you with the data visualization task.\n",
    "\n",
    "First, load the product sales dataset. Then, select an intuitive name and provide a detailed description to instruct the AI assistant.\n",
    "\n",
    "`Hint:` Do not forget to upload the `product_sales_dataset.json` to your google colab environment."
   ]
  },
  {
   "cell_type": "code",
   "execution_count": null,
   "metadata": {
    "id": "4dhkzJwzalPa"
   },
   "outputs": [],
   "source": [
    "# Load the product_sales dataset\n",
    "data_file = client.files.create(\n",
    "  # complete the code here ...\n",
    ")\n",
    "\n",
    "# Choose a reasonable name for your assistant\n",
    "name = \"\"\n",
    "\n",
    "# Write a description about the behaviour of this assistant\n",
    "description = \"\"\n",
    "\n",
    "# Let's create the assistant.\n",
    "assistant = client.beta.assistants.create(\n",
    "  # complete the code here ...\n",
    ")"
   ]
  },
  {
   "cell_type": "markdown",
   "metadata": {
    "id": "_lcEbkOjinJI"
   },
   "source": [
    "Now that you have created your assistant, utilize the `send_message()` method to prompt your assistant and generate visualizations for the analytical questions."
   ]
  },
  {
   "cell_type": "code",
   "execution_count": 7,
   "metadata": {
    "id": "znQTgvR5hf4P"
   },
   "outputs": [],
   "source": [
    "def send_message(assistant_id, message_content):\n",
    "      \"\"\"\n",
    "      Sends a message to an AI assistant,\n",
    "      waits for the response run to be completed,\n",
    "      and then retrieves the list of messages in the thread.\n",
    "      \"\"\"\n",
    "      # creating an empty thread\n",
    "      thread = client.beta.threads.create()\n",
    "      thread_id = thread.id\n",
    "\n",
    "      # creating message\n",
    "      message = client.beta.threads.messages.create(\n",
    "        thread_id = thread_id,\n",
    "        role = \"user\",\n",
    "        content = message_content\n",
    "      )\n",
    "\n",
    "      # creating request run\n",
    "      request_run = client.beta.threads.runs.create(\n",
    "            thread_id = thread_id,\n",
    "            assistant_id = assistant_id\n",
    "      )\n",
    "\n",
    "      # wait until the response_run is completed\n",
    "      while True:\n",
    "            # retrieve the run\n",
    "            response_run = client.beta.threads.runs.retrieve(\n",
    "                  thread_id = thread_id,\n",
    "                  run_id = request_run.id\n",
    "            )\n",
    "\n",
    "            print(\"status > \"+response_run.status)\n",
    "\n",
    "            time.sleep(1)\n",
    "\n",
    "            if(response_run.status==\"completed\"):\n",
    "              time.sleep(1)\n",
    "              break\n",
    "\n",
    "      messages = client.beta.threads.messages.list(\n",
    "            thread_id = thread_id\n",
    "      )\n",
    "\n",
    "      return list(messages)"
   ]
  },
  {
   "cell_type": "markdown",
   "metadata": {
    "id": "oq3OLQOojYrw"
   },
   "source": [
    "1. How does the trend of product revenue per month appear?\n",
    "\n",
    "  `Hint`: Draw a line chart to visualize the revenue per product per month.📈\n"
   ]
  },
  {
   "cell_type": "code",
   "execution_count": null,
   "metadata": {
    "colab": {
     "base_uri": "https://localhost:8080/",
     "height": 1000
    },
    "id": "lWlasTR4hrwl",
    "outputId": "34848833-dcf4-4a3f-edc9-6c6213651428"
   },
   "outputs": [],
   "source": []
  },
  {
   "cell_type": "markdown",
   "metadata": {
    "id": "rfnQnqIgji_2"
   },
   "source": [
    "2. Which product category has contributed the highest revenue to the company?\n",
    "\n",
    "  `Hint`: Draw a bar chart to visualize the average revenue per product category.📊"
   ]
  },
  {
   "cell_type": "code",
   "execution_count": null,
   "metadata": {
    "id": "VMDgpSWcV15-"
   },
   "outputs": [],
   "source": []
  }
 ],
 "metadata": {
  "colab": {
   "provenance": []
  },
  "kernelspec": {
   "display_name": "Python 3 (ipykernel)",
   "language": "python",
   "name": "python3"
  },
  "language_info": {
   "codemirror_mode": {
    "name": "ipython",
    "version": 3
   },
   "file_extension": ".py",
   "mimetype": "text/x-python",
   "name": "python",
   "nbconvert_exporter": "python",
   "pygments_lexer": "ipython3",
   "version": "3.12.0"
  }
 },
 "nbformat": 4,
 "nbformat_minor": 4
}
